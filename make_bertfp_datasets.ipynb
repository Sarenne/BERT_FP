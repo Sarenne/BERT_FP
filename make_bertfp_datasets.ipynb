{
 "cells": [
  {
   "cell_type": "code",
   "execution_count": 1,
   "id": "10f2e6da",
   "metadata": {},
   "outputs": [],
   "source": [
    "import sys\n",
    "# For data\n",
    "sys.path.append('/afs/inf.ed.ac.uk/user/s13/s1301730/Documents/discriminitive_turns_project/discriminative_turns/')"
   ]
  },
  {
   "cell_type": "code",
   "execution_count": 2,
   "id": "42cfe7fc",
   "metadata": {},
   "outputs": [],
   "source": [
    "%load_ext autoreload\n",
    "%autoreload 2"
   ]
  },
  {
   "cell_type": "code",
   "execution_count": 3,
   "id": "006c7a88",
   "metadata": {},
   "outputs": [],
   "source": [
    "# Global imports\n",
    "import pickle\n",
    "\n",
    "import matplotlib.pyplot as plt\n",
    "import numpy as np\n",
    "import pandas as pd\n"
   ]
  },
  {
   "cell_type": "code",
   "execution_count": 4,
   "id": "da5b9315",
   "metadata": {},
   "outputs": [],
   "source": [
    "# Local imports \n",
    "from conversational_corpus import *"
   ]
  },
  {
   "cell_type": "code",
   "execution_count": 6,
   "id": "215764a0",
   "metadata": {
    "scrolled": true
   },
   "outputs": [],
   "source": [
    "# Load the corpus data\n",
    "with open( \"/disk/scratch/swallbridge/pickles/swb_corpus.p\", 'rb' ) as fp:\n",
    "    swb_corpus = pickle.load(fp)\n",
    "a = swb_corpus.load_speaker_turns(transcript_clean_fn=clean_transcript_swbc)\n",
    "    \n",
    "# with open( \"/disk/scratch/swallbridge/pickles/fe_corpus_acceptable_utter_responses.p\", \"rb\" ) as fp:\n",
    "#     fe_corpus = pickle.load(fp)"
   ]
  },
  {
   "cell_type": "markdown",
   "id": "d398429b",
   "metadata": {},
   "source": [
    "## Characterize the datasets"
   ]
  },
  {
   "cell_type": "code",
   "execution_count": 6,
   "id": "b1d4d670",
   "metadata": {},
   "outputs": [
    {
     "name": "stdout",
     "output_type": "stream",
     "text": [
      "FISHER\n",
      "conversations       : 5850\n",
      "conv_utter_responses: 153720\n",
      "conv_utters         : 1114202\n",
      "conv_responses      : 0\n",
      "conv_turns          : 713682\n",
      "\n",
      "SWB\n",
      "conversations       : 2438\n",
      "conv_utter_responses: 43977\n",
      "conv_utters         : 264333\n",
      "conv_responses      : 0\n",
      "conv_turns          : 180337\n"
     ]
    }
   ],
   "source": [
    "# Some basic stats\n",
    "print('FISHER')\n",
    "print(f'conversations       : {len(fe_corpus.conversations)}')\n",
    "print(f'conv_utter_responses: {len(fe_corpus.conv_utter_responses)}')\n",
    "print(f'conv_utters         : {len(fe_corpus.conv_utters)}')\n",
    "print(f'conv_responses      : {len(fe_corpus.conv_responses)}')\n",
    "print(f'conv_turns          : {len(fe_corpus.conv_turns)}')\n",
    "# print(f'unique tokens       : {len(fe_tok_c)}')\n",
    "# print(f'total tokens        : {sum(fe_tok_c.values())}')\n",
    "\n",
    "print('\\nSWB')\n",
    "print(f'conversations       : {len(swb_corpus.conversations)}')\n",
    "print(f'conv_utter_responses: {len(swb_corpus.conv_utter_responses)}')\n",
    "print(f'conv_utters         : {len(swb_corpus.conv_utters)}')\n",
    "print(f'conv_responses      : {len(swb_corpus.conv_responses)}')\n",
    "print(f'conv_turns          : {len(swb_corpus.conv_turns)}')\n",
    "# print(f'unique tokens       : {len(swb_tok_c)}')\n",
    "# print(f'total tokens        : {sum(swb_tok_c.values())}')"
   ]
  },
  {
   "cell_type": "code",
   "execution_count": 7,
   "id": "be4f9589",
   "metadata": {},
   "outputs": [
    {
     "data": {
      "text/plain": [
       "<matplotlib.legend.Legend at 0x7f639483f710>"
      ]
     },
     "execution_count": 7,
     "metadata": {},
     "output_type": "execute_result"
    },
    {
     "data": {
      "image/png": "[encoded data removed]",
      "text/plain": [
       "<Figure size 720x432 with 1 Axes>"
      ]
     },
     "metadata": {
      "needs_background": "light"
     },
     "output_type": "display_data"
    }
   ],
   "source": [
    "# Count turns per conversation\n",
    "swb_turn_df = pd.DataFrame(swb_corpus.conv_turns)\n",
    "fe_turn_df = pd.DataFrame(fe_corpus.conv_turns)\n",
    "\n",
    "swb_turn_lengths = list(swb_turn_df['conv_id'].value_counts())\n",
    "fe_turn_lengths = list(fe_turn_df['conv_id'].value_counts())\n",
    "\n",
    "f, ax = plt.subplots(1,1,figsize=(10,6))\n",
    "ax.hist(fe_turn_lengths, label=f'Fisher ({np.mean(fe_turn_lengths):.2f})', color='C0', alpha=0.7)\n",
    "ax.hist(swb_turn_lengths, label=f'SWB    ({np.mean(swb_turn_lengths):.2f})', color='C1', alpha=0.7)\n",
    "\n",
    "ax.axvline(np.mean(fe_turn_lengths), color='C0')\n",
    "ax.axvline(np.mean(swb_turn_lengths),  color='C1')\n",
    "\n",
    "ax.set_xlabel('Turns per conversation')\n",
    "ax.legend()\n"
   ]
  },
  {
   "cell_type": "markdown",
   "id": "7c6f79c3",
   "metadata": {},
   "source": [
    "## Consider some cleaning...\n",
    "TODO; didn't finish this. The cleaning is not standardized between the 2 datasets"
   ]
  },
  {
   "cell_type": "code",
   "execution_count": 8,
   "id": "041c31de",
   "metadata": {},
   "outputs": [
    {
     "name": "stdout",
     "output_type": "stream",
     "text": [
      "Empty 'cleaned' turns\n",
      " - SWB: 3.6%\n",
      " - FE : 10.6%\n",
      "Empty 'cleaned' utterances\n",
      " - SWB: 5.9%\n",
      " - FE : 13.6%\n"
     ]
    }
   ],
   "source": [
    "print(\"Empty 'cleaned' turns\")\n",
    "print(f\" - SWB: {sum([1 for t in swb_corpus.conv_turns if len(t['clean_text']) < 1]) / len(swb_corpus.conv_turns) * 100:.1f}%\")\n",
    "print(f\" - FE : {sum([1 for t in fe_corpus.conv_turns if len(t['clean_text']) < 1]) / len(fe_corpus.conv_turns) * 100:.1f}%\")\n",
    "\n",
    "print(\"Empty 'cleaned' utterances\")\n",
    "print(f\" - SWB: {sum([1 for t in swb_corpus.conv_utters if len(t['clean_text']) < 1]) / len(swb_corpus.conv_utters) * 100:.1f}%\")\n",
    "print(f\" - FE : {sum([1 for t in fe_corpus.conv_utters if len(t['clean_text']) < 1]) / len(fe_corpus.conv_utters) * 100:.1f}%\")\n"
   ]
  },
  {
   "cell_type": "code",
   "execution_count": 7,
   "id": "2f597263",
   "metadata": {},
   "outputs": [
    {
     "data": {
      "text/plain": [
       "['um-hum all right', 'um-hum', 'uh-huh um-hum', 'um-hum', 'um-hum']"
      ]
     },
     "execution_count": 7,
     "metadata": {},
     "output_type": "execute_result"
    }
   ],
   "source": [
    "# m=20\n",
    "# mm=50\n",
    "[c['clean_text'] for c in swb_corpus.conv_turns if 'um-hum' in c['clean_text']][:5]"
   ]
  },
  {
   "cell_type": "code",
   "execution_count": 79,
   "id": "d2d46049",
   "metadata": {},
   "outputs": [],
   "source": [
    "# [c['clean_text'] for c in fe_corpus.conv_turns if 'huh' in c['clean_text']]"
   ]
  },
  {
   "cell_type": "code",
   "execution_count": null,
   "id": "2b83bb16",
   "metadata": {},
   "outputs": [],
   "source": []
  },
  {
   "cell_type": "markdown",
   "id": "2b6a105a",
   "metadata": {},
   "source": [
    "## Making datasets for Post Training `BERT-FP`"
   ]
  },
  {
   "cell_type": "code",
   "execution_count": 85,
   "id": "37e0ce8d",
   "metadata": {},
   "outputs": [],
   "source": [
    "# Get the turns per conversation\n",
    "swb_conv_turns = swb_turn_df.groupby('conv_id')['clean_text'].apply(list).to_dict()\n",
    "fe_conv_turns = fe_turn_df.groupby('conv_id')['clean_text'].apply(list).to_dict()"
   ]
  },
  {
   "cell_type": "code",
   "execution_count": 92,
   "id": "c987f592",
   "metadata": {},
   "outputs": [
    {
     "data": {
      "text/plain": [
       "(2438, 5850)"
      ]
     },
     "execution_count": 92,
     "metadata": {},
     "output_type": "execute_result"
    }
   ],
   "source": [
    "len(swb_conv_turns), len(fe_conv_turns)\n"
   ]
  },
  {
   "cell_type": "code",
   "execution_count": 109,
   "id": "692b6e82",
   "metadata": {},
   "outputs": [],
   "source": [
    "# Splin into train, test, val (and small test)\n",
    "from sklearn.model_selection import train_test_split\n",
    "swb_train, swb_testing = train_test_split(list(swb_conv_turns.keys()), test_size=0.2, random_state=1)\n",
    "swb_val, swb_test = train_test_split(swb_testing, test_size=0.5, random_state=1)\n",
    "\n",
    "_, swb_train_small = train_test_split(swb_train, test_size=0.005, random_state=1)\n"
   ]
  },
  {
   "cell_type": "code",
   "execution_count": 111,
   "id": "d582630b",
   "metadata": {},
   "outputs": [
    {
     "name": "stdout",
     "output_type": "stream",
     "text": [
      "1950 244 244 10\n"
     ]
    },
    {
     "data": {
      "text/plain": [
       "<matplotlib.legend.Legend at 0x7f0daa6adf98>"
      ]
     },
     "execution_count": 111,
     "metadata": {},
     "output_type": "execute_result"
    },
    {
     "data": {
      "image/png": "[encoded data removed]",
      "text/plain": [
       "<Figure size 720x432 with 1 Axes>"
      ]
     },
     "metadata": {
      "needs_background": "light"
     },
     "output_type": "display_data"
    }
   ],
   "source": [
    "print(len(swb_train), len(swb_val), len(swb_test), len(swb_train_small))\n",
    "\n",
    "# Count turns per conversation\n",
    "swb_train_small_df = swb_turn_df[swb_turn_df.conv_id.isin(swb_train_small)]\n",
    "swb_train_df = swb_turn_df[swb_turn_df.conv_id.isin(swb_train)]\n",
    "swb_val_df = swb_turn_df[swb_turn_df.conv_id.isin(swb_val)]\n",
    "swb_test_df = swb_turn_df[swb_turn_df.conv_id.isin(swb_test)]\n",
    "\n",
    "swb_train_lengths = list(swb_train_df['conv_id'].value_counts())\n",
    "swb_val_lengths = list(swb_val_df['conv_id'].value_counts())\n",
    "swb_test_lengths = list(swb_test_df['conv_id'].value_counts())\n",
    "\n",
    "f, ax = plt.subplots(1,1,figsize=(10,6))\n",
    "ax.hist(swb_train_lengths, label=f'Train ({np.mean(swb_train_lengths):.2f})', color='C0', alpha=0.7)\n",
    "ax.hist(swb_val_lengths, label=f'Val ({np.mean(swb_val_lengths):.2f})', color='C1', alpha=0.7)\n",
    "ax.hist(swb_test_lengths, label=f'Test ({np.mean(swb_test_lengths):.2f})', color='C2', alpha=0.7)\n",
    "\n",
    "ax.axvline(np.mean(swb_train_lengths), color='C0')\n",
    "ax.axvline(np.mean(swb_val_lengths), color='C1')\n",
    "ax.axvline(np.mean(swb_test_lengths), color='C2')\n",
    "\n",
    "\n",
    "ax.set_xlabel('Turns per conversation')\n",
    "ax.legend()"
   ]
  },
  {
   "cell_type": "code",
   "execution_count": 119,
   "id": "44b0dd20",
   "metadata": {},
   "outputs": [],
   "source": [
    "# Write them as list of lists\n",
    "swb_train_small_dict = swb_train_small_df.groupby('conv_id')['clean_text'].apply(list).to_dict()\n",
    "swb_train_dict = swb_train_df.groupby('conv_id')['clean_text'].apply(list).to_dict()\n",
    "swb_val_dict = swb_val_df.groupby('conv_id')['clean_text'].apply(list).to_dict()\n",
    "swb_test_dict = swb_test_df.groupby('conv_id')['clean_text'].apply(list).to_dict()\n",
    "\n",
    "swb_train_small_turns = list(swb_train_small_dict.values())\n",
    "swb_train_turns = list(swb_train_dict.values())\n",
    "swb_val_turns = list(swb_val_dict.values())\n",
    "swb_test_turns = list(swb_test_dict.values())\n",
    "\n",
    "with open('spoken_data/swb_train_small.pkl', 'wb') as fp:\n",
    "    pickle.dump(swb_train_small_turns, fp)\n",
    "    \n",
    "with open('spoken_data/swb_train.pkl', 'wb') as fp:\n",
    "    pickle.dump(swb_train_turns, fp)\n",
    "    \n",
    "with open('spoken_data/swb_val.pkl', 'wb') as fp:\n",
    "    pickle.dump(swb_val_turns, fp)\n",
    "    \n",
    "with open('spoken_data/swb_test.pkl', 'wb') as fp:\n",
    "    pickle.dump(swb_test_turns, fp)"
   ]
  },
  {
   "cell_type": "code",
   "execution_count": null,
   "id": "a4bf9038",
   "metadata": {},
   "outputs": [],
   "source": []
  },
  {
   "cell_type": "markdown",
   "id": "c0784ccb",
   "metadata": {},
   "source": [
    "## Create the fine-tuning datasets\n",
    "full and short-context versions (save each in eg. SWB_dataset_2409.pkl, v SWB_dataset_3923948.pkl)"
   ]
  },
  {
   "cell_type": "code",
   "execution_count": 16,
   "id": "38974be8",
   "metadata": {},
   "outputs": [
    {
     "name": "stderr",
     "output_type": "stream",
     "text": [
      "06/03/2022 19:32:08 - INFO - FPT.swb_final -   CUDA info: device 0, name: GeForce GTX 1080 Ti\n"
     ]
    }
   ],
   "source": [
    "from FPT.swb_final import BERTDataset, InputExample, convert_example_to_features\n",
    "from transformers import BertTokenizer,BertConfig"
   ]
  },
  {
   "cell_type": "code",
   "execution_count": 17,
   "id": "767529a7",
   "metadata": {},
   "outputs": [
    {
     "name": "stderr",
     "output_type": "stream",
     "text": [
      "06/03/2022 19:32:09 - INFO - transformers.tokenization_utils -   loading file https://s3.amazonaws.com/models.huggingface.co/bert/bert-base-uncased-vocab.txt from cache at /afs/inf.ed.ac.uk/user/s13/s1301730/.cache/torch/transformers/26bc1ad6c0ac742e9b52263248f6d0f00068293b33709fae12320c0e35ccfbbb.542ce4285a40d23a559526243235df47c5f75c197f04f37d1a0c124c32c9a084\n",
      "06/03/2022 19:32:09 - INFO - transformers.tokenization_utils -   Adding [eos] to the vocabulary\n",
      "06/03/2022 19:32:09 - INFO - transformers.tokenization_utils -   Assigning [eos] to the eos_token key of the tokenizer\n",
      "100%|██████████| 10/10 [00:00<00:00, 856.70it/s]\n",
      "  5%|▍         | 94/1950 [00:00<00:01, 931.61it/s]"
     ]
    },
    {
     "name": "stdout",
     "output_type": "stream",
     "text": [
      "0 0\n"
     ]
    },
    {
     "name": "stderr",
     "output_type": "stream",
     "text": [
      "100%|██████████| 1950/1950 [00:01<00:00, 1156.02it/s]\n",
      " 36%|███▋      | 89/244 [00:00<00:00, 884.12it/s]"
     ]
    },
    {
     "name": "stdout",
     "output_type": "stream",
     "text": [
      "0 1\n"
     ]
    },
    {
     "name": "stderr",
     "output_type": "stream",
     "text": [
      "100%|██████████| 244/244 [00:00<00:00, 1152.55it/s]\n",
      " 42%|████▏     | 103/244 [00:00<00:00, 1027.63it/s]"
     ]
    },
    {
     "name": "stdout",
     "output_type": "stream",
     "text": [
      "0 0\n"
     ]
    },
    {
     "name": "stderr",
     "output_type": "stream",
     "text": [
      "\r",
      "100%|██████████| 244/244 [00:00<00:00, 1252.78it/s]"
     ]
    },
    {
     "name": "stdout",
     "output_type": "stream",
     "text": [
      "0 0\n"
     ]
    },
    {
     "name": "stderr",
     "output_type": "stream",
     "text": [
      "\n"
     ]
    }
   ],
   "source": [
    "# Create the fine-tuning datasets\n",
    "args = {\n",
    "    'bert_model': 'bert-base-uncased', \n",
    "    'do_lower_case': False, \n",
    "    'gradient_accumulation_steps': 1, \n",
    "    'learning_rate': 1.5e-05, \n",
    "    'max_seq_length': 240, \n",
    "    'num_train_epochs': 25.0, \n",
    "    'output_dir': './FPT/PT_checkpoint/switchboard', \n",
    "    'train_batch_size': 8, \n",
    "    'train_file': './spoken_data/swb_train_small.pkl', \n",
    "    'warmup_proportion': 0.01\n",
    "        }\n",
    "\n",
    "\n",
    "tokenizer = BertTokenizer.from_pretrained(args['bert_model'], do_lower_case=args['do_lower_case'])\n",
    "\n",
    "special_tokens_dict = {'eos_token': '[eos]'}\n",
    "num_added_toks = tokenizer.add_special_tokens(special_tokens_dict)\n",
    "\n",
    "#     bertconfig = BertConfig.from_pretrained(args.bert_model)\n",
    "#     model = BertForPreTraining.from_pretrained(args.bert_model, config=bertconfig)\n",
    "\n",
    "#     model.resize_token_embeddings(len(tokenizer))\n",
    "#     model.cls.seq_relationship = nn.Linear(bertconfig.hidden_size, 3)\n",
    "#     #load checkpoint here\n",
    "#     #model.bert.load_state_dict(state_dict=torch.load(\"ubuntu_final/checkpoint20-1637300/bert.pt\"))\n",
    "#     model.to(device)\n",
    "\n",
    "train_small_dataset = BERTDataset(args['train_file'], tokenizer, seq_len=args['max_seq_length'],\n",
    "                            corpus_lines=None)\n",
    "train_dataset = BERTDataset('./spoken_data/swb_train.pkl', tokenizer, seq_len=args['max_seq_length'],\n",
    "                            corpus_lines=None)\n",
    "val_dataset = BERTDataset('./spoken_data/swb_val.pkl', tokenizer, seq_len=args['max_seq_length'],\n",
    "                            corpus_lines=None)\n",
    "test_dataset = BERTDataset('./spoken_data/swb_test.pkl', tokenizer, seq_len=args['max_seq_length'],\n",
    "                            corpus_lines=None)\n"
   ]
  },
  {
   "cell_type": "code",
   "execution_count": 67,
   "id": "b2fcfdef",
   "metadata": {},
   "outputs": [],
   "source": [
    "# # For each item in Dataset.sample_to_doc, create n negatives, tokenize both appropriately, append sample to 'cr' and label to 'y'\n",
    "# len(train_dataset), len(val_dataset), len(test_dataset)\n",
    "\n",
    "# for elem in train_dataset.\n",
    "\n",
    "\n",
    "\n",
    "\n",
    "\n"
   ]
  },
  {
   "cell_type": "code",
   "execution_count": 68,
   "id": "c6885940",
   "metadata": {},
   "outputs": [
    {
     "name": "stdout",
     "output_type": "stream",
     "text": [
      "(77925, {'doc_id': 867, 'line': 0, 'end': 3, 'linenum': 1})\n"
     ]
    }
   ],
   "source": [
    "samples = [(i, s) for (i, s) in enumerate(train_dataset.sample_to_doc) if s['end'] > 0]\n",
    "sample = samples[0]\n",
    "print(sample)\n",
    "# ll = train_dataset.get_random_lines(sample, num_negs=2)"
   ]
  },
  {
   "cell_type": "code",
   "execution_count": 99,
   "id": "e63299cf",
   "metadata": {},
   "outputs": [],
   "source": [
    "# dailogue session length < short context length k.\n",
    "\n",
    "def make_ft_sample(self, item, num_negs, seed=123):\n",
    "    \"\"\"\n",
    "    Method to build fine-tuning datasets (same format as stimuli in ubuntu_dataset_1M.py) from short-contexts.\n",
    "    \n",
    "    For a given sample, select num_neg negative turns from anywhere in the corpus.\n",
    "    \"\"\"\n",
    "    sample = self.sample_to_doc[item]\n",
    "    length = sample['end']\n",
    "    \n",
    "    # Get the context\n",
    "    if length != 0:\n",
    "        tokens_a = []\n",
    "        for i in range(length - 1):\n",
    "            tokens_a+=self.tokenizer.tokenize(self.all_docs[sample[\"doc_id\"]][i])+[self.tokenizer.eos_token]\n",
    "        tokens_a.pop()\n",
    "\n",
    "        response_sample = {\"doc_id\": sample[\"doc_id\"], \"line\": length - 1}\n",
    "        response = self.all_docs[sample[\"doc_id\"]][length - 1]\n",
    "\n",
    "    else:\n",
    "        t1 = self.all_docs[sample[\"doc_id\"]][sample[\"line\"]]\n",
    "        t2 = self.all_docs[sample[\"doc_id\"]][sample[\"line\"] + 1]\n",
    "        t3 = self.all_docs[sample[\"doc_id\"]][sample[\"line\"] + 2]\n",
    "        tokens_a = self.tokenizer.tokenize(t1)+[self.tokenizer.eos_token]+self.tokenizer.tokenize(t2)+[self.tokenizer.eos_token]+self.tokenizer.tokenize(t3)\n",
    "\n",
    "        response_sample = {\"doc_id\": sample[\"doc_id\"], \"line\": sample[\"line\"] + 3}\n",
    "        response = self.all_docs[sample[\"doc_id\"]][sample[\"line\"] + 3]\n",
    "    \n",
    "    # Get negative responses\n",
    "    neg_responses = self.get_random_lines(response_sample, num_negs, seed=seed)    \n",
    "    tokens_bs = [self.tokenizer.tokenize(response)]\n",
    "    for n in neg_responses:\n",
    "        tokens_bs.append(self.tokenizer.tokenize(n))\n",
    "#     tokens_negs = [self.tokenizer.tokenize(n) for n in neg_responses]\n",
    "\n",
    "\n",
    "    print('CONTEXT')\n",
    "    print(sample[\"doc_id\"], sample[\"line\"])\n",
    "    print(t1)\n",
    "    print(t2)\n",
    "    print(t3)\n",
    "    \n",
    "    print('RESPONSE')\n",
    "    print(response_sample)\n",
    "    print(self.all_docs[response_sample[\"doc_id\"]][response_sample[\"line\"]])\n",
    "    print(response)\n",
    "    print('NEGATIVES')\n",
    "    display(neg_responses) \n",
    "\n",
    "    # Join samples and convert to ids\n",
    "    tokenized_samples = [self.tokenizer.convert_tokens_to_ids(tokens_a + [self.tokenizer.eos_token] + [self.tokenizer.sep_token] + tokens_b) for tokens_b in tokens_bs]\n",
    "    \n",
    "    # Build labels\n",
    "    ys = [1]\n",
    "    ys.extend(list(np.zeros(num_negs, dtype=int)))\n",
    "\n",
    "    return tokenized_samples, ys\n",
    "\n",
    "def make_ft_doc(self, item, num_negs, seed=123):\n",
    "    \"\"\"\n",
    "    Method to build fine-tuning datasets (same format as stimuli in ubuntu_dataset_1M.py) from full dialogues.\n",
    "    \n",
    "    For a given sample, select num_neg negative turns from anywhere in the corpus.\n",
    "    \"\"\"\n",
    "    doc = self.all_docs[item]\n",
    "    length = len(doc)\n",
    "    \n",
    "    # Get the context\n",
    "    tokens_a = []\n",
    "    for i in range(length - 1):\n",
    "        tokens_a+=self.tokenizer.tokenize(doc[i])+[self.tokenizer.eos_token]\n",
    "    tokens_a.pop()\n",
    "\n",
    "    response_sample = {\"doc_id\": item, \"line\": length - 1} # TODO CHECK THIS WORKS\n",
    "    response = doc[length - 1]\n",
    "    \n",
    "#     print('CONTEXT')\n",
    "#     print(doc[-5:])\n",
    "    \n",
    "#     print('RESPONSE')\n",
    "#     print(response_sample)\n",
    "#     print(self.all_docs[response_sample[\"doc_id\"]][response_sample[\"line\"]])\n",
    "#     print(response)\n",
    "    \n",
    "    # Get negative responses\n",
    "    neg_responses = self.get_random_lines(response_sample, num_negs, seed=seed)  \n",
    "    tokens_bs = [self.tokenizer.tokenize(response)]\n",
    "    for n in neg_responses:\n",
    "        tokens_bs.append(self.tokenizer.tokenize(n))\n",
    "\n",
    "    # Join samples and convert to ids\n",
    "    tokenized_samples = [self.tokenizer.convert_tokens_to_ids(tokens_a + [self.tokenizer.eos_token] + [self.tokenizer.sep_token] + tokens_b) for tokens_b in tokens_bs]\n",
    "    \n",
    "#     print('NEGATIVES')\n",
    "#     print(neg_responses)    \n",
    "    \n",
    "    # Build labels\n",
    "    ys = [1]\n",
    "    ys.extend(list(np.zeros(num_negs, dtype=int)))\n",
    "\n",
    "    return tokenized_samples, ys\n",
    "\n",
    "\n",
    "\n"
   ]
  },
  {
   "cell_type": "code",
   "execution_count": 104,
   "id": "dee9855d",
   "metadata": {},
   "outputs": [
    {
     "name": "stdout",
     "output_type": "stream",
     "text": [
      "CONTEXT\n",
      "0 22\n",
      "yeah\n",
      "as far as you know paying off the the the loan that you just got from the credit card to pay off the other loan\n",
      "yeah that's what he's talking about doing now\n",
      "RESPONSE\n",
      "{'doc_id': 0, 'line': 25}\n",
      "oh no um yeah the ATM's they're but they're nice though to have in case you need to get some quick cash and everything is closed\n",
      "oh no um yeah the ATM's they're but they're nice though to have in case you need to get some quick cash and everything is closed\n",
      "NEGATIVES\n"
     ]
    },
    {
     "data": {
      "text/plain": [
       "[\"oh i'm ready yeah sure\",\n",
       " 'neat',\n",
       " \"yeah because i'm always looking at those guys i love them\",\n",
       " \"uh yes i i've read uh several good books lately uh lot of them uh related to um business and financial matters since that's what i do for a living\",\n",
       " \"either savings or investment one of the two but we don't ever put it at a high risk it's just always gonna be there\",\n",
       " 'okay and uh',\n",
       " 'oh man',\n",
       " 'yeah',\n",
       " 'goodness']"
      ]
     },
     "metadata": {},
     "output_type": "display_data"
    }
   ],
   "source": [
    "tokenized_samples, ys = make_ft_sample(val_dataset, 22, 9, seed=123)"
   ]
  },
  {
   "cell_type": "code",
   "execution_count": 115,
   "id": "59491fc5",
   "metadata": {
    "scrolled": true
   },
   "outputs": [
    {
     "name": "stderr",
     "output_type": "stream",
     "text": [
      "100%|██████████| 10/10 [00:00<00:00, 41.42it/s]\n",
      "100%|██████████| 244/244 [00:11<00:00, 20.58it/s]\n",
      "100%|██████████| 244/244 [00:11<00:00, 21.54it/s]\n"
     ]
    }
   ],
   "source": [
    "# Make the sample-version of FT dataset\n",
    "\n",
    "swb_dset = []\n",
    "\n",
    "dset = train_small_dataset # val_dataset test_dataset\n",
    "cr = []\n",
    "y = []\n",
    "for i in tqdm(range(len(dset.all_docs))):\n",
    "    tokenized_samples, ys = make_ft_doc(dset, i, 1)\n",
    "    cr.extend(tokenized_samples)\n",
    "    y.extend(ys)\n",
    "swb_dset.append({'cr':cr, 'y':y})\n",
    "\n",
    "dset = val_dataset\n",
    "cr = []\n",
    "y = []\n",
    "for i in tqdm(range(len(dset.all_docs))):\n",
    "    tokenized_samples, ys = make_ft_doc(dset, i, 9)\n",
    "    cr.extend(tokenized_samples)\n",
    "    y.extend(ys)\n",
    "swb_dset.append({'cr':cr, 'y':y})\n",
    "\n",
    "dset = test_dataset\n",
    "cr = []\n",
    "y = []\n",
    "for i in tqdm(range(len(dset.all_docs))):\n",
    "    tokenized_samples, ys = make_ft_doc(dset, i, 9)\n",
    "    cr.extend(tokenized_samples)\n",
    "    y.extend(ys)\n",
    "swb_dset.append({'cr':cr, 'y':y})\n",
    "    "
   ]
  },
  {
   "cell_type": "code",
   "execution_count": 120,
   "id": "6f1ce3d9",
   "metadata": {},
   "outputs": [
    {
     "name": "stdout",
     "output_type": "stream",
     "text": [
      "3\n",
      "2\n",
      "20 20\n",
      "0\n"
     ]
    },
    {
     "data": {
      "text/plain": [
       "[\"so uh how ' s the weather by you \",\n",
       " ' if it had rained any more in the last two weeks instead of planting [UNK] [UNK] grass in the front yard i think i would have pl ##owed everything under and had a rice field ',\n",
       " \" i i heard that it ' s been raining down there a little bit but it ' s really been that bad \",\n",
       " \" it ' s so bad wanted to mo ##w today i was off and i wanted to mo ##w the yard but just walking across it it ' s still so mu ##sh ##y if i took a mo ##wer out there i ' d tear the so ##d up so bad \",\n",
       " \" really that bad huh is it is it typically this rain - i don ' t think it ' s typically this rainy by you down there is it \",\n",
       " \" it ' s steady but it ' s not in the amounts that we been getting normally we get an inch here and then a week or so will pass and you pick up another inch inch and a half we ' re getting hit by three and four inch bursts at a time \",\n",
       " \" oh [UNK] i guess you ' re getting all of [UNK] ' s rain \",\n",
       " \" well that ' s where the front had came come from they said it came out of the [UNK] run across [UNK] who was really needing the rain it should ' ve it should ' ve stalled over them for a couple more days \",\n",
       " \" right oh they ' re getting another one later in the week there there was another one that was another storm um that was supposed to hit them like on [UNK] or something so i suspect it ' ll it ' ll wind it ' s way to you afterward it ' s not a pleasant thought so \",\n",
       " ' well maybe i maybe i can get the yard mo ##wed before it hits ',\n",
       " \" well well i can uh i can understand that weather we ' re having uh we are it we had a late um um an ice storm here about two weeks ago which is you know um and and it ' s and it ' s they ' re calling it the worst ice storm in like the last hundred years and um and then to the point where about three hundred thousand people in our in our area lost power \",\n",
       " \" isn ' t it a little late in the season for that type of ice storm though \",\n",
       " \" and yeah oh yeah this is this is um well yeah up here in in in [UNK] winter usually doesn ' t you know spring comes about this time [UNK] or [UNK] and um this was sort of unexpected it had actually been pretty fairly nice you know in the in the fort ##ies and um it had even been in the uh in the in the low fifties a couple of days in a row and then they actually they predicted it they said well we ' re going to have an ice storm coming up and then no one knew how bad it was going to be and it came in and in one night it basically destroyed it destroyed approximately one third of all the vegetation in um in like the three county area by us and about half the city owned trees in the city of [UNK] are destroyed um we ha - uh i uh um my wife and i own our own home and we have a very big willow tree in our backyard that um that ninety percent of which came down in one night things like that it was a it it definitely is very um it was it was it wasn ' t supposed to be as bad they they have i g - i - i guess apparently you know ice storms here occasionally but never anything this bad this late in the season \",\n",
       " \" yeah i ' d seen the storm you were talking about when it hit um up around the [UNK] area uh they had a little film clip about how bad it was up there and i just could not believe how much ice that thing was carrying with it \",\n",
       " \" oh yeah it was it was utterly amazing i mean we we would um we got up in the morning you know um we didn ' t we yo - yo - you didn ' t sleep very well because ev - all all around you there were crashing sounds and and there were sounds of things breaking and you know you look you know we at one point we woke up to the sound of the uh the electric lines being ripped off our house and things like that and then you go outside and everything is covered in ice i mean um you ' re talking about the lawn before being too mu ##sh ##y to mo ##w um in our case it was just the opposite i mean the lawn was just a solid sheet of ice each blade of grass had a small individual covering of ice you know um maybe you know two or three mill ##imeters thick but thick enough that you could actually see it my car was covered completely in ice it was uh in ice of about a half inch thick at one point \",\n",
       " \" how do you tha ##w one out after it ' s been coated like that i ' ve always lived down in this part of the country and i ' m not used you know we had an ice storm or a sl ##eet and \",\n",
       " ' well it ',\n",
       " ' a good freeze and the windshield ice ##s over and you take hot water or warm water out of the tap and tha ##w your windshield ',\n",
       " \" yeah um actually it turned out in our case um i know somebody who when they tried to def ##ros ##t their car cracked their windshield um so occasionally it can be a big problem in our case we didn ' t um we didn ' t have the problem because my we keep my wife ' s car in the garage so her car didn ' t get iced over you know it wasn ' t um um it was a little bit cold in her car in the morning but it wasn ' t iced over so i just left my car out there for a couple of days and um within two or three days it was it was actually warm enough that everything melted um it was it was actually one of the most beautiful sights i ' ve ever seen because everything looks you know if you can imagine just seeing everything coated in a nice clean sheet of ice and and and it looks really nice the whole whole place but um it got you know after the initial storm it got worse as things started to melt because um as things melted branches shifted and started to fall again so we ' re still cleaning up we actually left the last people got power i guess yesterday and we left the state of emergency last night or something at like midnight so it ' s it ' s it ' s not fun \",\n",
       " ' just hearing what it does to the lawn i hate to even guess what the road conditions would be like in something like that ',\n",
       " \" strangely enough the roads weren ' t that the the roads themselves were okay um there wasn ' t given that um sort of things hit and and for some reason i don ' t i don ' t quite understand why they i guess m - maybe the ice didn ' t have anything to grab onto the roads themselves weren ' t weren ' t like covered in a solid sheet of ice things seemed to be okay um especially given that you know the next day it was forty degrees um you know everything started to melt and then the roads themselves were okay it was just that um there were there were power lines down everywhere on the road and there were trees downed everywhere and wherever you drove was sort of like driving through an obstacle course you didn ' t want to have to wind up hitting um you know hitting a tree or hitting a power line or hitting a phone line or anything else that was the rough part of it they closed school for kids for like a week ju - just because of that so \",\n",
       " ' sounds like the aftermath of like a hurricane down here ',\n",
       " \" yeah that ' s what i ' m actually told i ' ve i ' ve never experienced a hurricane \",\n",
       " ' well we get the same things trees being up ##ro ##oted limbs falling all over the place power lines getting torn completely off the poles being completely pulled out of the ground ',\n",
       " \" oh [UNK] yeah well i guess um but typically it down there though you don ' t get much cold ##ness right you get \",\n",
       " \" we get maybe all winter long we might end up with twenty five days of really cold weather and of those by the time it gets lunch time as as long as the wind ' s not blowing it ' s bear ##able \",\n",
       " ' how well when you say cold what do you mean by cold ',\n",
       " ' uh i think of any thirty five and below as cold ',\n",
       " \" oh she ##esh yeah um um it ' s right about now when they ' re talking about hitting thirty five and forty degree days we ' re thinking heat wave because o ##cca ##s - what ' ll what ' ll happen here is with the wind chill it can go below zero quite often which is not not fun i personally hate it i ' m only here for school \",\n",
       " ' another thing that saves us during the winter time is if we get a breeze coming straight off the [UNK] the wind chill factor ',\n",
       " \" blows everything out of proportion uh most of the time during the winter that we ' ve got an offshore wind which is blowing straight out \",\n",
       " \" uh so you don ' t get the wind chill there that ' s nice that ' s nice uh i uh my my goal is to move some place south so that i don ' t have to worry about winters any more and just worry about you know an occasional thirty five degree day i can handle but the the the the sad part about here is that winter starts in um in you know early [UNK] - or [UNK] [UNK] and then it ends in [UNK] or [UNK] so there isn ' t that much summer and spring and fall here it ' s pretty much you know lots of winter and uh it ' s a very long winter semi ##col ##d winter and a fairly gray winter usually so not uh not fun \",\n",
       " \" trying to think where ' s the warm ##est the warm lines start i guess probably if you ' re drawing a line across a map of the country put the middle of your ruler on [UNK] \",\n",
       " ' is it that low you think uh ',\n",
       " \" they get snow up there but it ' s it ' s not a long lasting snow it ' ll be there they may have a week of it then it warm ##s back up into the high thirties and fort ##ies \",\n",
       " \" um that ' s not too ba - \",\n",
       " \" you get much above you get much above the [UNK] border on in that sec - sector of the map and get up into [UNK] they ' ve got a little bit longer winter they ' re catching \",\n",
       " ' yeah ',\n",
       " \" all the cold breeze ##s coming straight off the [UNK] straight across [UNK] and [UNK] and there ' s nothing the only thing that stands between [UNK] and [UNK] and [UNK] there ' s a bar ##b wire fence somewhere around [UNK] that ' s the only thing to slow down the wind \",\n",
       " \" a little bar ##b wire fence huh well i ' ve only been out uh i ' ve only been in the west once so uh i was in uh i was in [UNK] and it was bitter cold when i was there and that ' s the way that ' s north um that ' s sort of north midwest though so way way north of where you are so i i uh my experience wasn ' t wasn ' t quite down there i i i like i said i want to wind up somewhere down in that range where it ' s nice and warm and you know when when when you get twenty five cold days a year rather than twenty five warm days a year \",\n",
       " ' [SEP] no']"
      ]
     },
     "execution_count": 120,
     "metadata": {},
     "output_type": "execute_result"
    }
   ],
   "source": [
    "print(len(swb_dset))\n",
    "print(len(swb_dset[0]))\n",
    "print(len(swb_dset[0]['cr']), len(swb_dset[0]['y']))\n",
    "\n",
    "n=121\n",
    "# print(swb_dset[1]['cr'][n])\n",
    "print(swb_dset[1]['y'][n])\n",
    "(' '.join(train_dataset.tokenizer.convert_ids_to_tokens(swb_dset[1]['cr'][n]))).split('[eos]')\n"
   ]
  },
  {
   "cell_type": "code",
   "execution_count": 121,
   "id": "8c4737b0",
   "metadata": {},
   "outputs": [],
   "source": [
    "with open('spoken_data/switchboard_dataset_samples.pkl', 'wb') as fp:\n",
    "    pickle.dump(swb_dset, fp)"
   ]
  },
  {
   "cell_type": "code",
   "execution_count": 59,
   "id": "fc17d8d3",
   "metadata": {},
   "outputs": [],
   "source": []
  },
  {
   "cell_type": "code",
   "execution_count": 15,
   "id": "c84420a7",
   "metadata": {},
   "outputs": [
    {
     "data": {
      "text/plain": [
       "10"
      ]
     },
     "execution_count": 15,
     "metadata": {},
     "output_type": "execute_result"
    }
   ],
   "source": [
    "len(train_small_dataset.all_docs)"
   ]
  },
  {
   "cell_type": "code",
   "execution_count": 96,
   "id": "1786db75",
   "metadata": {},
   "outputs": [
    {
     "data": {
      "text/plain": [
       "[\"you go ahead and start tell me how you ' d you ' d organize \",\n",
       " \" well why don ' t you start because you ' ve had more time to think about if you don ' t mind \",\n",
       " \" [SEP] okay the things that came across you know they said to make it memorable memorable but i thought first of all you needed to kind of about the same time every year like the same week of the the same month and and then you ' d have to send out uh you know good flyers and then mail to all that you wanted to attend and of course food and fun are going to be your your ways to get people there um the ones that i ' ve attended some have had breakfast and lunch and it ' s been a whole day affair some of course just have lunch or um also like at [UNK] time it ' d be a dinner reunion and uh all kinds of events are usually held i ' ve seen talents for mainly the kids that are there and you need probably information about your ancestors to tie that tie you to -\"]"
      ]
     },
     "metadata": {},
     "output_type": "display_data"
    },
    {
     "data": {
      "text/plain": [
       "[\"you go ahead and start tell me how you ' d you ' d organize \",\n",
       " \" well why don ' t you start because you ' ve had more time to think about if you don ' t mind \",\n",
       " ' [SEP] three years okay']"
      ]
     },
     "metadata": {},
     "output_type": "display_data"
    }
   ],
   "source": [
    "display(' '.join(train_dataset.tokenizer.convert_ids_to_tokens(toks[0])).split('[eos]'))\n",
    "display(' '.join(train_dataset.tokenizer.convert_ids_to_tokens(toks[1])).split('[eos]'))\n"
   ]
  },
  {
   "cell_type": "code",
   "execution_count": 37,
   "id": "7d89bb11",
   "metadata": {},
   "outputs": [
    {
     "data": {
      "text/plain": [
       "1"
      ]
     },
     "execution_count": 37,
     "metadata": {},
     "output_type": "execute_result"
    }
   ],
   "source": []
  },
  {
   "cell_type": "code",
   "execution_count": null,
   "id": "02865ede",
   "metadata": {},
   "outputs": [],
   "source": []
  },
  {
   "cell_type": "code",
   "execution_count": 12,
   "id": "8965ea8b",
   "metadata": {},
   "outputs": [],
   "source": [
    "with open('spoken_data/switchboard_dataset_samples.pkl', 'rb') as fp:\n",
    "    swb_dset = pickle.load(fp)\n",
    "train, val, test = swb_dset"
   ]
  },
  {
   "cell_type": "code",
   "execution_count": 18,
   "id": "e192bbd1",
   "metadata": {},
   "outputs": [
    {
     "data": {
      "text/plain": [
       "[7632,\n",
       " 8529,\n",
       " 3398,\n",
       " 1045,\n",
       " 1005,\n",
       " 1040,\n",
       " 2066,\n",
       " 2000,\n",
       " 2831,\n",
       " 2055,\n",
       " 2129,\n",
       " 2017,\n",
       " 4377,\n",
       " 2005,\n",
       " 2147,\n",
       " 1998,\n",
       " 1998,\n",
       " 8529,\n",
       " 2054,\n",
       " 2079,\n",
       " 2017,\n",
       " 5373,\n",
       " 2054,\n",
       " 2828,\n",
       " 1997,\n",
       " 11018,\n",
       " 2079,\n",
       " 2017,\n",
       " 5373,\n",
       " 2031,\n",
       " 2000,\n",
       " 4929,\n",
       " 30522,\n",
       " 2092,\n",
       " 1045,\n",
       " 2147,\n",
       " 1999,\n",
       " 7910,\n",
       " 5971,\n",
       " 2491,\n",
       " 2061,\n",
       " 2057,\n",
       " 2031,\n",
       " 2000,\n",
       " 4377,\n",
       " 2785,\n",
       " 1997,\n",
       " 3835,\n",
       " 2061,\n",
       " 1045,\n",
       " 2788,\n",
       " 4929,\n",
       " 18184,\n",
       " 1998,\n",
       " 14329,\n",
       " 2015,\n",
       " 1999,\n",
       " 1996,\n",
       " 3467,\n",
       " 2051,\n",
       " 27786,\n",
       " 1045,\n",
       " 3984,\n",
       " 1998,\n",
       " 1999,\n",
       " 1996,\n",
       " 2621,\n",
       " 2074,\n",
       " 14464,\n",
       " 30522,\n",
       " 8529,\n",
       " 1011,\n",
       " 14910,\n",
       " 30522,\n",
       " 102,\n",
       " 2057,\n",
       " 2064,\n",
       " 1005,\n",
       " 1056,\n",
       " 2130,\n",
       " 2092,\n",
       " 2057,\n",
       " 1005,\n",
       " 2128,\n",
       " 2025,\n",
       " 2130,\n",
       " 2428,\n",
       " 4011,\n",
       " 2000,\n",
       " 4929,\n",
       " 6312,\n",
       " 2200,\n",
       " 2411,\n",
       " 2061,\n",
       " 2009,\n",
       " 2428,\n",
       " 2987,\n",
       " 1005,\n",
       " 1056,\n",
       " 8137,\n",
       " 2008,\n",
       " 2172,\n",
       " 2013,\n",
       " 2161,\n",
       " 2000,\n",
       " 2161,\n",
       " 2144,\n",
       " 1996,\n",
       " 2436,\n",
       " 2003,\n",
       " 2785,\n",
       " 1997,\n",
       " 2017,\n",
       " 2113,\n",
       " 2467,\n",
       " 1996,\n",
       " 2168,\n",
       " 4860]"
      ]
     },
     "execution_count": 18,
     "metadata": {},
     "output_type": "execute_result"
    }
   ],
   "source": [
    "train['y'][:5]\n",
    "train['cr'][2]"
   ]
  },
  {
   "cell_type": "code",
   "execution_count": 71,
   "id": "9af9b94b",
   "metadata": {},
   "outputs": [
    {
     "data": {
      "text/plain": [
       "(['um-hum ',\n",
       "  \"we can't even well we're not even really supposed to wear jeans very often so it really doesn't vary that much from season to season since the office is kind of you know always the same temperature \",\n",
       "  'and is right right is there is there um an-is there a like a code of dress where you work do they ask'],\n",
       " 'so not formally')"
      ]
     },
     "execution_count": 71,
     "metadata": {},
     "output_type": "execute_result"
    }
   ],
   "source": [
    "def is_subtoken(word):\n",
    "    if word[:2] == \"##\":\n",
    "        return True\n",
    "    else:\n",
    "        return False\n",
    "\n",
    "def detokenize(ids, tokenizer, ):\n",
    "    tokens = tokenizer.convert_ids_to_tokens(ids)\n",
    "    \n",
    "    restored_text = []\n",
    "    for i in range(len(tokens)):\n",
    "        if len(restored_text) > 1 and (restored_text[-1] == \"'\" or restored_text[-1] == \"-\"):\n",
    "            restored_text[-1] = restored_text[-2] + restored_text[-1] + tokens[i]\n",
    "            del restored_text[-2]\n",
    "        elif not is_subtoken(tokens[i]) and (i+1)<len(tokens) and is_subtoken(tokens[i+1]):\n",
    "            restored_text.append(tokens[i] + tokens[i+1][2:])\n",
    "            if (i+2)<len(tokens) and is_subtoken(tokens[i+2]):\n",
    "                restored_text[-1] = restored_text[-1] + tokens[i+2][2:]\n",
    "        elif not is_subtoken(tokens[i]):\n",
    "            restored_text.append(tokens[i])\n",
    "    return ' '.join(restored_text)\n",
    "\n",
    "def split_text(text):\n",
    "    context, response = text.split(' [SEP] ')\n",
    "    context = context[:-6].split('[eos] ')\n",
    "    return context, response\n",
    "\n",
    "def restore_text(ids, tokenizer):\n",
    "    raw_text = detokenize(ids, tokenizer) \n",
    "    return split_text(raw_text)\n",
    "    \n",
    "\n",
    "c, r = restore_text(train['cr'][6], tokenizer) \n",
    "c, r\n",
    "\n",
    "    \n",
    "    \n",
    "\n"
   ]
  },
  {
   "cell_type": "code",
   "execution_count": 72,
   "id": "c2ff2b09",
   "metadata": {},
   "outputs": [
    {
     "name": "stderr",
     "output_type": "stream",
     "text": [
      "100%|██████████| 100/100 [00:00<00:00, 3309.38it/s]\n"
     ]
    }
   ],
   "source": [
    "train_strings = [restore_text(ids, tokenizer) for ids in tqdm(train['cr'][:100])]"
   ]
  },
  {
   "cell_type": "code",
   "execution_count": 77,
   "id": "1b22a018",
   "metadata": {},
   "outputs": [
    {
     "data": {
      "text/plain": [
       "list"
      ]
     },
     "execution_count": 77,
     "metadata": {},
     "output_type": "execute_result"
    }
   ],
   "source": [
    "type(swb_dset)"
   ]
  },
  {
   "cell_type": "code",
   "execution_count": null,
   "id": "0291b9f1",
   "metadata": {},
   "outputs": [],
   "source": []
  }
 ],
 "metadata": {
  "kernelspec": {
   "display_name": "Python 3",
   "language": "python",
   "name": "python3"
  },
  "language_info": {
   "codemirror_mode": {
    "name": "ipython",
    "version": 3
   },
   "file_extension": ".py",
   "mimetype": "text/x-python",
   "name": "python",
   "nbconvert_exporter": "python",
   "pygments_lexer": "ipython3",
   "version": "3.6.8"
  }
 },
 "nbformat": 4,
 "nbformat_minor": 5
}

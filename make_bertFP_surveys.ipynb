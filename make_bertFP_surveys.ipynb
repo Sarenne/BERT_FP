{
 "cells": [
  {
   "cell_type": "code",
   "execution_count": 28,
   "id": "a16df531",
   "metadata": {},
   "outputs": [
    {
     "name": "stdout",
     "output_type": "stream",
     "text": [
      "The autoreload extension is already loaded. To reload it, use:\n",
      "  %reload_ext autoreload\n"
     ]
    }
   ],
   "source": [
    "import sys\n",
    "# For data\n",
    "sys.path.append('/afs/inf.ed.ac.uk/user/s13/s1301730/Documents/discriminitive_turns_project/discriminative_turns/')\n",
    "\n",
    "%load_ext autoreload\n",
    "%autoreload 2\n"
   ]
  },
  {
   "cell_type": "code",
   "execution_count": 29,
   "id": "f378cfb1",
   "metadata": {},
   "outputs": [],
   "source": [
    "# Global imports\n",
    "import pickle\n",
    "\n",
    "import numpy as np\n",
    "import pandas as pd\n",
    "\n",
    "import matplotlib.pyplot as plt\n",
    "# Local imports \n",
    "from conversational_corpus import *\n",
    "from discrimination_dataset import *"
   ]
  },
  {
   "cell_type": "code",
   "execution_count": 30,
   "id": "ca36fe2a",
   "metadata": {},
   "outputs": [
    {
     "name": "stdout",
     "output_type": "stream",
     "text": [
      "4\n",
      "3\n",
      "GeForce GTX 1080 Ti\n",
      "GeForce GTX 1080 Ti\n",
      "GeForce GTX 1080 Ti\n",
      "GeForce GTX 1080 Ti\n"
     ]
    }
   ],
   "source": [
    "# Set torch device (if needed...)\n",
    "# type(swb_dset[1])\n",
    "import torch\n",
    "print(torch.cuda.device_count())\n",
    "print(torch.cuda.current_device())\n",
    "for i in range(torch.cuda.device_count()):\n",
    "    print(torch.cuda.get_device_name(i))\n",
    "    \n",
    "torch.cuda.set_device(3)"
   ]
  },
  {
   "cell_type": "markdown",
   "id": "c8023ad3",
   "metadata": {},
   "source": [
    "# Notebook for building the lexical discrimination surveys \n",
    "Use BERT-FP to sample upcoming responses\n",
    "\n",
    "## Load the BERT-FP model"
   ]
  },
  {
   "cell_type": "code",
   "execution_count": 4,
   "id": "6f0bf38b",
   "metadata": {},
   "outputs": [
    {
     "name": "stderr",
     "output_type": "stream",
     "text": [
      "12/06/2022 14:58:03 - INFO - transformers.tokenization_utils -   loading file https://s3.amazonaws.com/models.huggingface.co/bert/bert-base-uncased-vocab.txt from cache at /disk/scratch/swallbridge/BERT_FP/temp_cache/transformers/26bc1ad6c0ac742e9b52263248f6d0f00068293b33709fae12320c0e35ccfbbb.542ce4285a40d23a559526243235df47c5f75c197f04f37d1a0c124c32c9a084\n",
      "12/06/2022 14:58:03 - INFO - transformers.tokenization_utils -   Adding [eos] to the vocabulary\n",
      "12/06/2022 14:58:03 - INFO - transformers.tokenization_utils -   Assigning [eos] to the eos_token key of the tokenizer\n"
     ]
    }
   ],
   "source": [
    "from FPT.swb_final import BERTDataset, InputExample, convert_example_to_features\n",
    "from transformers import BertTokenizer,BertConfig, BertForPreTraining\n",
    "\n",
    "sys.path.append('Fine-Tuning/')\n",
    "from BERT_finetuning import NeuralNetwork as NeuralNetwork\n",
    "from BERT_concat_finetuning import NeuralNetwork as NeuralNetwork_concat\n",
    "\n",
    "# Create the fine-tuning datasets\n",
    "base_args = {\n",
    "    'bert_model': 'bert-base-uncased', \n",
    "    'do_lower_case': True, \n",
    "    'gradient_accumulation_steps': 1, \n",
    "    'learning_rate': 1.5e-05, \n",
    "    'max_seq_length': 240, \n",
    "    'num_train_epochs': 25.0, \n",
    "    'output_dir': './FPT/PT_checkpoint/switchboard', \n",
    "    'train_batch_size': 8, \n",
    "    'train_file': './spoken_data/swb_train_small.pkl', \n",
    "    'warmup_proportion': 0.01\n",
    "        }\n",
    "\n",
    "\n",
    "tokenizer = BertTokenizer.from_pretrained(base_args['bert_model'], do_lower_case=base_args['do_lower_case'])\n",
    "\n",
    "special_tokens_dict = {'eos_token': '[eos]'}\n",
    "num_added_toks = tokenizer.add_special_tokens(special_tokens_dict)\n"
   ]
  },
  {
   "cell_type": "code",
   "execution_count": 5,
   "id": "7b72e49b",
   "metadata": {
    "scrolled": true
   },
   "outputs": [
    {
     "name": "stderr",
     "output_type": "stream",
     "text": [
      "12/06/2022 14:58:03 - INFO - transformers.configuration_utils -   loading configuration file https://s3.amazonaws.com/models.huggingface.co/bert/bert-base-uncased-config.json from cache at /disk/scratch/swallbridge/BERT_FP/temp_cache/transformers/4dad0251492946e18ac39290fcfe91b89d370fee250efe9521476438fe8ca185.7156163d5fdc189c3016baca0775ffce230789d7fa2a42ef516483e4ca884517\n",
      "12/06/2022 14:58:03 - INFO - transformers.configuration_utils -   Model config BertConfig {\n",
      "  \"_num_labels\": 1,\n",
      "  \"architectures\": [\n",
      "    \"BertForMaskedLM\"\n",
      "  ],\n",
      "  \"attention_probs_dropout_prob\": 0.1,\n",
      "  \"bad_words_ids\": null,\n",
      "  \"bos_token_id\": null,\n",
      "  \"decoder_start_token_id\": null,\n",
      "  \"do_sample\": false,\n",
      "  \"early_stopping\": false,\n",
      "  \"eos_token_id\": null,\n",
      "  \"finetuning_task\": null,\n",
      "  \"hidden_act\": \"gelu\",\n",
      "  \"hidden_dropout_prob\": 0.1,\n",
      "  \"hidden_size\": 768,\n",
      "  \"id2label\": {\n",
      "    \"0\": \"LABEL_0\"\n",
      "  },\n",
      "  \"initializer_range\": 0.02,\n",
      "  \"intermediate_size\": 3072,\n",
      "  \"is_decoder\": false,\n",
      "  \"is_encoder_decoder\": false,\n",
      "  \"label2id\": {\n",
      "    \"LABEL_0\": 0\n",
      "  },\n",
      "  \"layer_norm_eps\": 1e-12,\n",
      "  \"length_penalty\": 1.0,\n",
      "  \"max_length\": 20,\n",
      "  \"max_position_embeddings\": 512,\n",
      "  \"min_length\": 0,\n",
      "  \"model_type\": \"bert\",\n",
      "  \"no_repeat_ngram_size\": 0,\n",
      "  \"num_attention_heads\": 12,\n",
      "  \"num_beams\": 1,\n",
      "  \"num_hidden_layers\": 12,\n",
      "  \"num_return_sequences\": 1,\n",
      "  \"output_attentions\": false,\n",
      "  \"output_hidden_states\": false,\n",
      "  \"output_past\": true,\n",
      "  \"pad_token_id\": 0,\n",
      "  \"prefix\": null,\n",
      "  \"pruned_heads\": {},\n",
      "  \"repetition_penalty\": 1.0,\n",
      "  \"task_specific_params\": null,\n",
      "  \"temperature\": 1.0,\n",
      "  \"top_k\": 50,\n",
      "  \"top_p\": 1.0,\n",
      "  \"torchscript\": false,\n",
      "  \"type_vocab_size\": 2,\n",
      "  \"use_bfloat16\": false,\n",
      "  \"vocab_size\": 30522\n",
      "}\n",
      "\n",
      "12/06/2022 14:58:04 - INFO - transformers.tokenization_utils -   loading file https://s3.amazonaws.com/models.huggingface.co/bert/bert-base-uncased-vocab.txt from cache at /disk/scratch/swallbridge/BERT_FP/temp_cache/transformers/26bc1ad6c0ac742e9b52263248f6d0f00068293b33709fae12320c0e35ccfbbb.542ce4285a40d23a559526243235df47c5f75c197f04f37d1a0c124c32c9a084\n",
      "12/06/2022 14:58:04 - INFO - transformers.tokenization_utils -   Adding [eos] to the vocabulary\n",
      "12/06/2022 14:58:04 - INFO - transformers.tokenization_utils -   Assigning [eos] to the eos_token key of the tokenizer\n",
      "12/06/2022 14:58:05 - INFO - transformers.modeling_utils -   loading weights file https://s3.amazonaws.com/models.huggingface.co/bert/bert-base-uncased-pytorch_model.bin from cache at /disk/scratch/swallbridge/BERT_FP/temp_cache/transformers/aa1ef1aede4482d0dbcd4d52baad8ae300e60902e88fcb0bebdec09afd232066.36ca03ab34a1a5d5fa7bc3d03d55c4fa650fed07220e2eeebc06ce58d0e9a157\n",
      "12/06/2022 14:58:08 - INFO - transformers.modeling_utils -   Weights of BertForSequenceClassification not initialized from pretrained model: ['classifier.weight', 'classifier.bias']\n",
      "12/06/2022 14:58:08 - INFO - transformers.modeling_utils -   Weights from pretrained model not used in BertForSequenceClassification: ['cls.predictions.bias', 'cls.predictions.transform.dense.weight', 'cls.predictions.transform.dense.bias', 'cls.predictions.decoder.weight', 'cls.seq_relationship.weight', 'cls.seq_relationship.bias', 'cls.predictions.transform.LayerNorm.weight', 'cls.predictions.transform.LayerNorm.bias']\n"
     ]
    },
    {
     "name": "stdout",
     "output_type": "stream",
     "text": [
      "Loaded BERT from pre-trained (bert-base-uncased)\n"
     ]
    }
   ],
   "source": [
    "# Load model through Response_selection script\n",
    "class Bunch(object):\n",
    "    def __init__(self, adict):\n",
    "        self.__dict__.update(adict)\n",
    "\n",
    "args_dict = base_args.copy()\n",
    "model_args_dict = {\n",
    "    'task': 'switchboard', \n",
    "#     'is_training': , \n",
    "    'batch_size': 16, \n",
    "    'learning_rate': 1e-5, \n",
    "    'epochs': 5, \n",
    "    'save_path': './fine-tune/pretrained_swb_samples/', \n",
    "    'score_file_path': \"./Fine-Tuning/scorefile.txt\", \n",
    "    'do_lower_case': True, \n",
    "    'checkpoint_path': '',\n",
    "    }\n",
    "args_dict.update(model_args_dict)\n",
    "args = Bunch(args_dict)\n",
    "\n",
    "# Load the base BERT model\n",
    "model = NeuralNetwork(args=args)   "
   ]
  },
  {
   "cell_type": "code",
   "execution_count": 6,
   "id": "110e4a85",
   "metadata": {},
   "outputs": [
    {
     "data": {
      "text/plain": [
       "tensor([-0.0102, -0.0615, -0.0265, -0.0421,  0.0012, -0.0283, -0.0445, -0.0225,\n",
       "        -0.0047, -0.0821], device='cuda:3')"
      ]
     },
     "metadata": {},
     "output_type": "display_data"
    },
    {
     "data": {
      "text/plain": [
       "tensor(-0.0313, device='cuda:3')"
      ]
     },
     "metadata": {},
     "output_type": "display_data"
    }
   ],
   "source": [
    "# (sanity check) the weights are different from the loaded BERT (Y) \n",
    "display(model.bert_model.state_dict()['bert.embeddings.word_embeddings.weight'][0][:10])\n",
    "display(model.bert_model.state_dict()['bert.encoder.layer.11.attention.output.LayerNorm.bias'][0])\n"
   ]
  },
  {
   "cell_type": "code",
   "execution_count": 7,
   "id": "c8d9a240",
   "metadata": {},
   "outputs": [
    {
     "name": "stdout",
     "output_type": "stream",
     "text": [
      "Loading model from ./fine-tune/finetune_32_wts_nxt_20/switchboard_wts_nxt.0.pt\n"
     ]
    },
    {
     "data": {
      "text/plain": [
       "tensor([-0.0056, -0.0647, -0.0278, -0.0440,  0.0025, -0.0323, -0.0414, -0.0295,\n",
       "        -0.0066, -0.0824], device='cuda:3')"
      ]
     },
     "metadata": {},
     "output_type": "display_data"
    },
    {
     "data": {
      "text/plain": [
       "tensor(-0.0259, device='cuda:3')"
      ]
     },
     "metadata": {},
     "output_type": "display_data"
    }
   ],
   "source": [
    "# Load PTFT (Post-trained + Fine-tuned) checkpoint\n",
    "# checkpoint_path = './fine-tune/finetune_swb_samples/switchboard.0.pt'\n",
    "checkpoint_path = './fine-tune/finetune_32_wts_nxt_20/switchboard_wts_nxt.0.pt'\n",
    "model.load_model(checkpoint_path)\n",
    "\n",
    "# (sanity check) the weights are different from the loaded BERT (Y) \n",
    "display(model.bert_model.state_dict()['bert.embeddings.word_embeddings.weight'][0][:10])\n",
    "display(model.bert_model.state_dict()['bert.encoder.layer.11.attention.output.LayerNorm.bias'][0])\n"
   ]
  },
  {
   "cell_type": "code",
   "execution_count": null,
   "id": "4962efa3",
   "metadata": {},
   "outputs": [],
   "source": []
  },
  {
   "cell_type": "markdown",
   "id": "12e73b41",
   "metadata": {},
   "source": [
    "## Load the data\n",
    "Using word-time-stamp segmentation (modified TTD), where the val+test segments are the NXT subset of SWB"
   ]
  },
  {
   "cell_type": "code",
   "execution_count": 31,
   "id": "69ab28e7",
   "metadata": {},
   "outputs": [],
   "source": [
    "# Load the corpus data\n",
    "with open( \"/disk/scratch/swallbridge/pickles/wts_corpus.p\", 'rb' ) as fp:\n",
    "    wts_corpus = pickle.load(fp)"
   ]
  },
  {
   "cell_type": "code",
   "execution_count": 46,
   "id": "b4dcff5f",
   "metadata": {},
   "outputs": [],
   "source": [
    "\n",
    "\n",
    "# # Load discriminative dataset\n",
    "# wts_path = './spoken_data/wts_nxt_info_da_val_test.pkl'\n",
    "# discrim_dataset = DiscriminationDataset(wts_path, tokenizer)\n",
    "\n",
    "# with open('/disk/scratch/swallbridge/pickles/wts_dataset.p', 'wb') as fp:\n",
    "#     pickle.dump(discrim_dataset, fp)\n",
    "\n",
    "\n",
    "# with open(\"/disk/scratch/swallbridge/pickles/wts_dataset.p\", 'rb' ) as fp:\n",
    "#     discrim_dataset = pickle.load(fp)\n",
    "\n"
   ]
  },
  {
   "cell_type": "code",
   "execution_count": 33,
   "id": "c4a640aa",
   "metadata": {},
   "outputs": [],
   "source": [
    "with open('./spoken_data/wts_nxt_info_da_val.pkl', 'rb') as fp:\n",
    "    wts_val = pickle.load(fp)"
   ]
  },
  {
   "cell_type": "code",
   "execution_count": 34,
   "id": "7b989bc4",
   "metadata": {},
   "outputs": [
    {
     "data": {
      "text/plain": [
       "[{'clean_text': 'you ready okay what have you seen lately',\n",
       "  'start': 0.565375,\n",
       "  'stop': 4.075375,\n",
       "  'speaker': 'A',\n",
       "  'conv_id': 'sw3144',\n",
       "  'DA': [('yn_q', 2), ('acknowledge', 1), ('wh_q', 5)],\n",
       "  'turn_id': 0,\n",
       "  'max_DA': 'wh_q'},\n",
       " {'clean_text': \"well uh it's funny when i tried to make the call the other days i thought i hadn't seen anything since dances with wolves but today i went to see regarding with henry\",\n",
       "  'start': 4.237,\n",
       "  'stop': 14.637,\n",
       "  'speaker': 'B',\n",
       "  'conv_id': 'sw3144',\n",
       "  'DA': [('hold', 14), ('statement', 19)],\n",
       "  'turn_id': 1,\n",
       "  'max_DA': 'statement'},\n",
       " {'clean_text': \"oh i'm dying to see that\",\n",
       "  'start': 14.7325,\n",
       "  'stop': 16.447,\n",
       "  'speaker': 'A',\n",
       "  'conv_id': 'sw3144',\n",
       "  'DA': [('statement', 6)],\n",
       "  'turn_id': 2,\n",
       "  'max_DA': 'statement'}]"
      ]
     },
     "execution_count": 34,
     "metadata": {},
     "output_type": "execute_result"
    }
   ],
   "source": [
    "wts_val[5][:3]"
   ]
  },
  {
   "cell_type": "code",
   "execution_count": 50,
   "id": "de301eb8",
   "metadata": {},
   "outputs": [],
   "source": [
    "def show_experiment(dataset, corpus, sample_id, n_negs=1000-1, model=model, reverse=False, audio=False):\n",
    "    # Make BERT-FP predictions\n",
    "    tokenized_samples, ys, lines = dataset.make_cr_sample(sample_id, n_negs)\n",
    "    context_lines, response_lines = lines\n",
    "    y_pred = model.predict({'cr':tokenized_samples, 'y':ys}, pred_batch_size=100)\n",
    "\n",
    "    top_scores, top_ids, top_lines, sort_ids = select_neighbours(y_pred, tokenized_samples, \n",
    "                                                                 response_lines, 1000, \n",
    "                                                                 reverse=reverse\n",
    "                                                                )\n",
    "\n",
    "    target_id = np.argwhere(sort_ids == 0)[0][0]\n",
    "    target_score = top_scores[target_id]\n",
    "\n",
    "    # PRINT AND PLOT\n",
    "    # Plot\n",
    "    fig, axs = plt.subplots(2,1, figsize=(10,10))\n",
    "    axs[0].hist(top_scores)\n",
    "    axs[1].scatter(range(len(top_scores)), top_scores, )\n",
    "    axs[1].axhline(target_score)\n",
    "    axs[1].axvline(target_id, label=f'True response ({target_id})')\n",
    "    axs[1].set_xlabel('Responses')\n",
    "    axs[1].set_ylabel('CR score')\n",
    "    axs[1].legend()\n",
    "    plt.show()\n",
    "\n",
    "    print(f'True turn: #{target_id}')\n",
    "    print(f'CONTEXT: ({context_lines[-1][\"conv_id\"]}, {context_lines[-1][\"turn_id\"]})')\n",
    "    print(f'A: {context_lines[0][\"clean_text\"]}')\n",
    "    print(f'B: {context_lines[1][\"clean_text\"]}')\n",
    "    print(f'A: {context_lines[2][\"clean_text\"]}')\n",
    "\n",
    "    print('RESPONSES')\n",
    "    for i, ss in enumerate(top_scores[:10]):\n",
    "        if target_id == i:\n",
    "            print(f' *** - ({i}) {ss:.3f}, {top_lines[i][\"clean_text\"]} ({top_lines[i][\"conv_id\"]}, {top_lines[i][\"turn_id\"]})')\n",
    "        else:\n",
    "            print(f' - ({i}) {ss:.3f}, {top_lines[i][\"clean_text\"]} ({top_lines[i][\"conv_id\"]}, {top_lines[i][\"turn_id\"]})')\n",
    "\n",
    "    print(f' -  (TRUE RESPONSE) ({target_id}) {ss:.3f}, {top_lines[target_id][\"clean_text\"]} ({top_lines[target_id][\"conv_id\"]}, {top_lines[target_id][\"turn_id\"]})')   \n",
    "    print('\\n----------\\n')\n",
    "    if audio:\n",
    "        play_experiment(y_pred, tokenized_samples, context_lines, response_lines, corpus, reverse=reverse)\n",
    "        "
   ]
  },
  {
   "cell_type": "code",
   "execution_count": null,
   "id": "a612fd20",
   "metadata": {},
   "outputs": [],
   "source": []
  },
  {
   "cell_type": "code",
   "execution_count": 51,
   "id": "ae883a33",
   "metadata": {},
   "outputs": [
    {
     "name": "stderr",
     "output_type": "stream",
     "text": [
      "\r",
      "Prediction dataloader: 0it [00:00, ?it/s]"
     ]
    },
    {
     "name": "stdout",
     "output_type": "stream",
     "text": [
      "Batch[0] batch_size:100\n"
     ]
    },
    {
     "name": "stderr",
     "output_type": "stream",
     "text": [
      "Prediction dataloader: 10it [00:07,  1.37it/s]\n"
     ]
    },
    {
     "data": {
      "image/png": "[encoded data removed]",
      "text/plain": [
       "<Figure size 720x720 with 2 Axes>"
      ]
     },
     "metadata": {
      "needs_background": "light"
     },
     "output_type": "display_data"
    },
    {
     "name": "stdout",
     "output_type": "stream",
     "text": [
      "True turn: #94\n",
      "CONTEXT: (sw2324, 45)\n",
      "A: uhuh\n",
      "B: it may be arrogant but i mean let them come to us that's kind of the way i feel about it we can convert\n",
      "A: and and if they don't like the way we do it just get off our don't worry about it and i think\n",
      "RESPONSES\n",
      " - (0) 0.996, if we have a problem with our connection and get disconnected some time or other don't worry about it we have a a very small phone company down here (sw2093, 31)\n",
      " - (1) 0.995, i think that we're too easy (sw2525, 85)\n",
      " - (2) 0.995, and i think that's what it is gonna have to come to where we're just forced to (sw3876, 13)\n",
      " - (3) 0.994, feel like we've accomplished a little bit here (sw3768, 53)\n",
      " - (4) 0.994, yeah good luck to you (sw2772, 133)\n",
      " - (5) 0.993, perform this conversion anyway (sw2669, 49)\n",
      " - (6) 0.993, i do too i (sw4733, 12)\n",
      " - (7) 0.992, leave (sw4720, 30)\n",
      " - (8) 0.992, i want to believe they go into other countries and teach them how to do things like farm (sw2657, 28)\n",
      " - (9) 0.992, i'm just real surprised that israel stayed out of it as as much as they did (sw2597, 75)\n",
      " -  (TRUE RESPONSE) (94) 0.992, yeah it it's kind of like expecting expecting everyone to suddenly speak german (sw2324, 46)\n",
      "\n",
      "----------\n",
      "\n"
     ]
    }
   ],
   "source": [
    "show_experiment(discrim_dataset, wts_corpus, 12)"
   ]
  },
  {
   "cell_type": "code",
   "execution_count": 52,
   "id": "098fd814",
   "metadata": {
    "scrolled": true
   },
   "outputs": [
    {
     "name": "stderr",
     "output_type": "stream",
     "text": [
      "\r",
      "Prediction dataloader: 0it [00:00, ?it/s]"
     ]
    },
    {
     "name": "stdout",
     "output_type": "stream",
     "text": [
      "Batch[0] batch_size:100\n"
     ]
    },
    {
     "name": "stderr",
     "output_type": "stream",
     "text": [
      "Prediction dataloader: 10it [00:07,  1.38it/s]\n"
     ]
    },
    {
     "data": {
      "image/png": "[encoded data removed]",
      "text/plain": [
       "<Figure size 720x720 with 2 Axes>"
      ]
     },
     "metadata": {
      "needs_background": "light"
     },
     "output_type": "display_data"
    },
    {
     "name": "stdout",
     "output_type": "stream",
     "text": [
      "True turn: #591\n",
      "CONTEXT: (sw2324, 48)\n",
      "A: yeah it it's kind of like expecting expecting everyone to suddenly speak german\n",
      "B: right it is because it is another language yeah\n",
      "A: yeah and and instead of having the world speak german we found out that we can translate and that's what i think we ought to do with the metric system\n",
      "RESPONSES\n",
      " - (0) 0.993, i think that's right i think i think helping us be more enthusiastic enthusiastic about it (sw2876, 68)\n",
      " - (1) 0.993, but there's still a lot more we can do (sw2299, 6)\n",
      " - (2) 0.992, you know and and maybe come up with a better system make it a little more convenient but i (sw4483, 56)\n",
      " - (3) 0.992, right right well that's a real good idea (sw2485, 147)\n",
      " - (4) 0.990, so we kind of discussed that a little bit and shot that idea down right quick (sw3275, 36)\n",
      " - (5) 0.986, and just start at square one (sw3565, 24)\n",
      " - (6) 0.985, i think we're finally beginning to make progress but just not very fast (sw3135, 81)\n",
      " - (7) 0.982, anyway we both a sort of agree on it don't we (sw3242, 44)\n",
      " - (8) 0.982, i think we've kind of you know i mean everybody (sw4175, 104)\n",
      " - (9) 0.980, if you could come up with a device that's the thing (sw2121, 108)\n",
      " -  (TRUE RESPONSE) (591) 0.980, that's funny well that's good well i think we kept it at real good (sw2324, 49)\n",
      "\n",
      "----------\n",
      "\n"
     ]
    },
    {
     "name": "stderr",
     "output_type": "stream",
     "text": [
      "\r",
      "Prediction dataloader: 0it [00:00, ?it/s]"
     ]
    },
    {
     "name": "stdout",
     "output_type": "stream",
     "text": [
      "Batch[0] batch_size:100\n"
     ]
    },
    {
     "name": "stderr",
     "output_type": "stream",
     "text": [
      "Prediction dataloader: 10it [00:07,  1.38it/s]\n"
     ]
    },
    {
     "data": {
      "image/png": "[encoded data removed]",
      "text/plain": [
       "<Figure size 720x720 with 2 Axes>"
      ]
     },
     "metadata": {
      "needs_background": "light"
     },
     "output_type": "display_data"
    },
    {
     "name": "stdout",
     "output_type": "stream",
     "text": [
      "True turn: #213\n",
      "CONTEXT: (sw4071, 47)\n",
      "A: right hm\n",
      "B: doesn't seem fair to me\n",
      "A: yeah it isn't there's not much out there that's fair that's for sure\n",
      "RESPONSES\n",
      " - (0) 0.989, fantastic one one thing that pops into my mind real quick is uh about the uh funding of the the school system right now (sw2461, 3)\n",
      " - (1) 0.989, teachers are out there giving drugs and selling drugs (sw3331, 34)\n",
      " - (2) 0.988, okay well i think we're we're we've done okay though well thank you for calling (sw2113, 99)\n",
      " - (3) 0.988, well it was nice to talk to you (sw2405, 105)\n",
      " - (4) 0.988, i think that's true well i think i'm that's about my uh (sw2876, 88)\n",
      " - (5) 0.985, not the fact that there was a big auto accident down at the corner of broad and main you know (sw4177, 14)\n",
      " - (6) 0.981, nothing comes to mind right off so i guess not (sw2124, 59)\n",
      " - (7) 0.981, well jack it was nice to talk to you (sw2678, 104)\n",
      " - (8) 0.979, it was a pleasure talking you (sw3186, 74)\n",
      " - (9) 0.975, all right well i enjoyed the conversation (sw3697, 57)\n",
      " -  (TRUE RESPONSE) (213) 0.975, right (sw4071, 48)\n",
      "\n",
      "----------\n",
      "\n"
     ]
    },
    {
     "name": "stderr",
     "output_type": "stream",
     "text": [
      "\r",
      "Prediction dataloader: 0it [00:00, ?it/s]"
     ]
    },
    {
     "name": "stdout",
     "output_type": "stream",
     "text": [
      "Batch[0] batch_size:100\n"
     ]
    },
    {
     "name": "stderr",
     "output_type": "stream",
     "text": [
      "Prediction dataloader: 10it [00:07,  1.37it/s]\n"
     ]
    },
    {
     "data": {
      "image/png": "[encoded data removed]",
      "text/plain": [
       "<Figure size 720x720 with 2 Axes>"
      ]
     },
     "metadata": {
      "needs_background": "light"
     },
     "output_type": "display_data"
    },
    {
     "name": "stdout",
     "output_type": "stream",
     "text": [
      "True turn: #55\n",
      "CONTEXT: (sw3097, 95)\n",
      "A: um well in the first place it's not your homework it's your children's homework\n",
      "B: uhuh\n",
      "A: and i was always very careful to be there only when they came to me and asked me for help i helped them with exactly what they asked for and that's all\n",
      "RESPONSES\n",
      " - (0) 0.996, well it's nice nice talking to you (sw3205, 41)\n",
      " - (1) 0.996, well that's that's all right (sw4347, 51)\n",
      " - (2) 0.993, all right well i've enjoyed talking to you (sw2093, 67)\n",
      " - (3) 0.991, i have a similar problem i've got to have time or i don't even want to get into it in the first place (sw2397, 63)\n",
      " - (4) 0.988, that worked out very well for you (sw3120, 40)\n",
      " - (5) 0.987, you had to have the help didn't you (sw3327, 46)\n",
      " - (6) 0.986, good well i guess i'll let you go now (sw3993, 80)\n",
      " - (7) 0.981, yeah and i found that a particularly useless way of studying (sw2362, 80)\n",
      " - (8) 0.980, well that's good too (sw2667, 61)\n",
      " - (9) 0.977, that and i i did the same thing (sw2703, 32)\n",
      " -  (TRUE RESPONSE) (55) 0.977, yeah (sw3097, 96)\n",
      "\n",
      "----------\n",
      "\n"
     ]
    },
    {
     "name": "stderr",
     "output_type": "stream",
     "text": [
      "\r",
      "Prediction dataloader: 0it [00:00, ?it/s]"
     ]
    },
    {
     "name": "stdout",
     "output_type": "stream",
     "text": [
      "Batch[0] batch_size:100\n"
     ]
    },
    {
     "name": "stderr",
     "output_type": "stream",
     "text": [
      "Prediction dataloader: 10it [00:07,  1.37it/s]\n"
     ]
    },
    {
     "data": {
      "image/png": "[encoded data removed]",
      "text/plain": [
       "<Figure size 720x720 with 2 Axes>"
      ]
     },
     "metadata": {
      "needs_background": "light"
     },
     "output_type": "display_data"
    },
    {
     "name": "stdout",
     "output_type": "stream",
     "text": [
      "True turn: #13\n",
      "CONTEXT: (sw2547, 95)\n",
      "A: maybe a little bit higher than that now\n",
      "B: that's\n",
      "A: but that same house here you'd pay almost six thousand dollars a year taxes on it\n",
      "RESPONSES\n",
      " - (0) 0.992, yep but it well you know we it's it's only a state taxes no local we've got a five percent sales tax (sw4181, 18)\n",
      " - (1) 0.992, yeah i know and that's (sw2279, 128)\n",
      " - (2) 0.989, a little bit much oh yeah yep yep (sw3040, 53)\n",
      " - (3) 0.989, that's not bad (sw4171, 12)\n",
      " - (4) 0.988, i know but they try every year and every year they get thrown out it's so stupid because they let you take it in there but they don't they don't allow you to sell it don't allow them to sell it there (sw2078, 49)\n",
      " - (5) 0.986, and we bought it from someone who was in it but before they had it i found out after i had been in the house it had it had sat empty for the better part of a year (sw3517, 59)\n",
      " - (6) 0.985, higher taxes yeah (sw4707, 32)\n",
      " - (7) 0.985, yeah i i it's it's it's something definitely that uh yeah it's it's uh got the extra little oomph of interest (sw3580, 29)\n",
      " - (8) 0.983, and so it wasn't so bad (sw2641, 37)\n",
      " - (9) 0.983, and interest is like eighteen or something (sw2334, 51)\n",
      " -  (TRUE RESPONSE) (13) 0.983, wow wow that's pretty (sw2547, 96)\n",
      "\n",
      "----------\n",
      "\n"
     ]
    },
    {
     "name": "stderr",
     "output_type": "stream",
     "text": [
      "\r",
      "Prediction dataloader: 0it [00:00, ?it/s]"
     ]
    },
    {
     "name": "stdout",
     "output_type": "stream",
     "text": [
      "Batch[0] batch_size:100\n"
     ]
    },
    {
     "name": "stderr",
     "output_type": "stream",
     "text": [
      "Prediction dataloader: 10it [00:07,  1.37it/s]\n"
     ]
    },
    {
     "data": {
      "image/png": "[encoded data removed]",
      "text/plain": [
       "<Figure size 720x720 with 2 Axes>"
      ]
     },
     "metadata": {
      "needs_background": "light"
     },
     "output_type": "display_data"
    },
    {
     "name": "stdout",
     "output_type": "stream",
     "text": [
      "True turn: #71\n",
      "CONTEXT: (sw2938, 87)\n",
      "A: and uh the the epa and they were just screening some candidates and i don't think i'd ever you know do that but they uh asked me if i was a smoker and i didn't fit into the smoker's category and i didn't fit into the nonsmoker's category um it was you know i was just one of those\n",
      "B: yeah because you do smoke one a day\n",
      "A: yeah in between people so that kind of threw them off\n",
      "RESPONSES\n",
      " - (0) 0.997, at a rate greater than one a day (sw3111, 23)\n",
      " - (1) 0.995, it was like you know that was the only reason i quit i didn't want to and i don't want to quit smoking i enjoy that i said i have very few vices i'll keep this one thank you (sw2893, 57)\n",
      " - (2) 0.995, i didn't think we could go too far on this privacy thing but uh i guess it's close enough (sw2139, 108)\n",
      " - (3) 0.995, so i don't know if i wasn't drug tested based on that or because the man who hired me didn't request the drug test because i know that my company does drug testing on occasion (sw2314, 54)\n",
      " - (4) 0.995, but anyway well it was nice to talk to you (sw2260, 160)\n",
      " - (5) 0.994, they did me to (sw2406, 65)\n",
      " - (6) 0.994, right i think that's what goes you know really goes right now in the in the dallas area (sw3259, 67)\n",
      " - (7) 0.994, well you know that's kind of interesting though because i don't know if that's necessarily the case anymore i use to think that you know after you worth you mean security job security (sw4060, 15)\n",
      " - (8) 0.993, yeah i think it's just like anything else a new concept you know as i had said if i have to go to a testing area with my urine specimen i was (sw3242, 29)\n",
      " - (9) 0.993, ah that wasn't too too bad (sw2434, 19)\n",
      " -  (TRUE RESPONSE) (71) 0.993, hum uh (sw2938, 88)\n",
      "\n",
      "----------\n",
      "\n"
     ]
    },
    {
     "name": "stderr",
     "output_type": "stream",
     "text": [
      "\r",
      "Prediction dataloader: 0it [00:00, ?it/s]"
     ]
    },
    {
     "name": "stdout",
     "output_type": "stream",
     "text": [
      "Batch[0] batch_size:100\n"
     ]
    },
    {
     "name": "stderr",
     "output_type": "stream",
     "text": [
      "Prediction dataloader: 10it [00:07,  1.37it/s]\n"
     ]
    },
    {
     "data": {
      "image/png": "[encoded data removed]",
      "text/plain": [
       "<Figure size 720x720 with 2 Axes>"
      ]
     },
     "metadata": {
      "needs_background": "light"
     },
     "output_type": "display_data"
    },
    {
     "name": "stdout",
     "output_type": "stream",
     "text": [
      "True turn: #174\n",
      "CONTEXT: (sw3171, 41)\n",
      "A: mhm\n",
      "B: so it's\n",
      "A: so that's perfect what more could you ask for\n",
      "RESPONSES\n",
      " - (0) 0.990, good good question probably taking (sw2362, 95)\n",
      " - (1) 0.989, okay well i i think we have exhausted my pitifully small knowledge on (sw2302, 47)\n",
      " - (2) 0.985, anyway it's a tough question (sw2349, 87)\n",
      " - (3) 0.984, that's what yeah well (sw2826, 32)\n",
      " - (4) 0.982, but since last time we've gotten more like a dollar (sw3236, 50)\n",
      " - (5) 0.982, i guess that's most of my um financial plans right now is is there anything you'd like to add (sw2022, 68)\n",
      " - (6) 0.979, it's better than nothing (sw3236, 24)\n",
      " - (7) 0.978, oh another thing i've got a i've got a degree from another college (sw3232, 69)\n",
      " - (8) 0.977, well it's what it truly is supposed to mean is nine weeks of school three weeks of vacation (sw3093, 46)\n",
      " - (9) 0.973, i see well congratulations on that (sw2653, 18)\n",
      " -  (TRUE RESPONSE) (174) 0.973, that's right but if this (sw3171, 42)\n",
      "\n",
      "----------\n",
      "\n"
     ]
    },
    {
     "name": "stderr",
     "output_type": "stream",
     "text": [
      "\r",
      "Prediction dataloader: 0it [00:00, ?it/s]"
     ]
    },
    {
     "name": "stdout",
     "output_type": "stream",
     "text": [
      "Batch[0] batch_size:100\n"
     ]
    },
    {
     "name": "stderr",
     "output_type": "stream",
     "text": [
      "Prediction dataloader: 10it [00:07,  1.37it/s]\n"
     ]
    },
    {
     "data": {
      "image/png": "[encoded data removed]",
      "text/plain": [
       "<Figure size 720x720 with 2 Axes>"
      ]
     },
     "metadata": {
      "needs_background": "light"
     },
     "output_type": "display_data"
    },
    {
     "name": "stdout",
     "output_type": "stream",
     "text": [
      "True turn: #5\n",
      "CONTEXT: (sw2615, 55)\n",
      "A: yeah well i'd bought uh a gmc diesel pickup and uh loved that thing you know i really liked it but it turns out a pickup wasn't what i really\n",
      "B: yeah\n",
      "A: needed and it was the van that i needed then to buying the you know traded it in on the chevy van but uh i sure enjoyed it\n",
      "RESPONSES\n",
      " - (0) 0.993, yeah yeah and needed need to take the little one (sw3636, 53)\n",
      " - (1) 0.992, i really enjoy (sw3056, 47)\n",
      " - (2) 0.991, well i think the next car we get will probably be a well i i like buicks we have a buick century now it's a nineteen eighty seven (sw4339, 20)\n",
      " - (3) 0.991, thoroughly enjoyed it and and it's really a a blast my wife hates it but that's the way life is i guess (sw2072, 18)\n",
      " - (4) 0.987, just a nice comfortable ride (sw3411, 20)\n",
      " *** - (5) 0.983, you got the three fifty in the van (sw2615, 56)\n",
      " - (6) 0.982, well the the ones that we were test driving were the uh were the new ones there (sw2439, 29)\n",
      " - (7) 0.982, well it was nice to talk to you (sw2405, 105)\n",
      " - (8) 0.981, so i i would have really i haven't really priced you know in the market so i (sw2547, 23)\n",
      " - (9) 0.979, what about the miniskirt (sw2486, 19)\n",
      " -  (TRUE RESPONSE) (5) 0.979, you got the three fifty in the van (sw2615, 56)\n",
      "\n",
      "----------\n",
      "\n"
     ]
    }
   ],
   "source": [
    "for i in [5,298,64,790,403,1002,2003]:\n",
    "    show_experiment(discrim_dataset, wts_corpus, i+10)\n"
   ]
  },
  {
   "cell_type": "code",
   "execution_count": 53,
   "id": "9743f309",
   "metadata": {},
   "outputs": [
    {
     "name": "stderr",
     "output_type": "stream",
     "text": [
      "\r",
      "Prediction dataloader: 0it [00:00, ?it/s]"
     ]
    },
    {
     "name": "stdout",
     "output_type": "stream",
     "text": [
      "Batch[0] batch_size:100\n"
     ]
    },
    {
     "name": "stderr",
     "output_type": "stream",
     "text": [
      "Prediction dataloader: 10it [00:07,  1.37it/s]\n"
     ]
    },
    {
     "data": {
      "image/png": "[encoded data removed]",
      "text/plain": [
       "<Figure size 720x720 with 2 Axes>"
      ]
     },
     "metadata": {
      "needs_background": "light"
     },
     "output_type": "display_data"
    },
    {
     "name": "stdout",
     "output_type": "stream",
     "text": [
      "True turn: #998\n",
      "CONTEXT: (sw2324, 47)\n",
      "A: and and if they don't like the way we do it just get off our don't worry about it and i think\n",
      "B: yeah it it's kind of like expecting expecting everyone to suddenly speak german\n",
      "A: right it is because it is another language yeah\n",
      "RESPONSES\n",
      " - (0) 0.010, it's uh marketed of course it its own dealerships usually usually or somebody that's maybe got a cadillac or lincoln and lexus dealership uh sometimes they do that but (sw3639, 13)\n",
      " - (1) 0.010, sometimes i i want to plant something there's not enough room to plant it (sw2427, 13)\n",
      " - (2) 0.010, yeah i'm looking i've i've already been to one game and in fact i should have been to two but (sw2565, 65)\n",
      " - (3) 0.010, i had a sixty six mustang that i was rebuilding but i almost had it done and i went on went ahead and sold it (sw3349, 20)\n",
      " - (4) 0.010, because that's a lot of fun especially this time of year where it's so nice out (sw3229, 2)\n",
      " - (5) 0.010, okay and and in in in his league do they have like a pitcher or do they have a standing ball or a machine or what (sw2279, 14)\n",
      " - (6) 0.010, one year i didn't put anything on and i didn't have any problems (sw2427, 83)\n",
      " - (7) 0.010, and i will get uh is it uh what color is is yours blooming (sw2969, 63)\n",
      " - (8) 0.010, uhuh that's just fantastic down there take it more as a this is your opportunity to do whatever you want pick out where you want to live and then once you pick that spot out pick out what you want to do (sw2645, 93)\n",
      " - (9) 0.010, they really are the cats are so independent and (sw2107, 99)\n",
      " -  (TRUE RESPONSE) (998) 0.010, yeah and and instead of having the world speak german we found out that we can translate and that's what i think we ought to do with the metric system (sw2324, 48)\n",
      "\n",
      "----------\n",
      "\n"
     ]
    },
    {
     "name": "stderr",
     "output_type": "stream",
     "text": [
      "\r",
      "Prediction dataloader: 0it [00:00, ?it/s]"
     ]
    },
    {
     "name": "stdout",
     "output_type": "stream",
     "text": [
      "Batch[0] batch_size:100\n"
     ]
    },
    {
     "name": "stderr",
     "output_type": "stream",
     "text": [
      "Prediction dataloader: 10it [00:07,  1.37it/s]\n"
     ]
    },
    {
     "data": {
      "image/png": "[encoded data removed]",
      "text/plain": [
       "<Figure size 720x720 with 2 Axes>"
      ]
     },
     "metadata": {
      "needs_background": "light"
     },
     "output_type": "display_data"
    },
    {
     "name": "stdout",
     "output_type": "stream",
     "text": [
      "True turn: #894\n",
      "CONTEXT: (sw3154, 14)\n",
      "A: oh of course that they did you know actually we had milk delivered to our house\n",
      "B: oh\n",
      "A: in glass bottles and we had a milk shoot at the side of the house\n",
      "RESPONSES\n",
      " - (0) 0.010, right now that's about well right now i'm on two teams so it's four nights a week but uh uh so i enjoy it but (sw2789, 16)\n",
      " - (1) 0.010, this is the first year we're staying home too and uh i think it's going to be real quiet but uh that's an opportunity to get out the games and (sw3615, 60)\n",
      " - (2) 0.010, or either they'd trade him off to somebody else for two of these nobodies (sw2521, 82)\n",
      " - (3) 0.010, that's the thing if woman's role like we said if women's roles change drastically men's roles will too (sw2370, 121)\n",
      " - (4) 0.010, yeah even in washington you know there seems to be lot more women involved (sw2018, 33)\n",
      " - (5) 0.010, no i don't well i i do i like ice skating and i like uh gymnastics (sw3073, 66)\n",
      " - (6) 0.010, well it's it's it's not it's not music it's just it's just uh uh beat talking in a beat it is just it's not exciting at all it doesn't (sw2131, 52)\n",
      " - (7) 0.010, um you know it's it's hard because you know then you're not getting to spend as much time with at home i mean your husband is not getting to spend as much time at home as he'd want to (sw2945, 96)\n",
      " - (8) 0.010, yeah well i haven't talked to her i haven't i haven't talked to a tina yet (sw2851, 58)\n",
      " - (9) 0.010, oh yeah because i mean yeah because i everybody grows up looking at these cop movies and trying to you know to imitate them or whatever and (sw2435, 60)\n",
      " -  (TRUE RESPONSE) (894) 0.010, uhuh (sw3154, 15)\n",
      "\n",
      "----------\n",
      "\n"
     ]
    },
    {
     "name": "stderr",
     "output_type": "stream",
     "text": [
      "\r",
      "Prediction dataloader: 0it [00:00, ?it/s]"
     ]
    },
    {
     "name": "stdout",
     "output_type": "stream",
     "text": [
      "Batch[0] batch_size:100\n"
     ]
    },
    {
     "name": "stderr",
     "output_type": "stream",
     "text": [
      "Prediction dataloader: 10it [00:07,  1.37it/s]\n"
     ]
    },
    {
     "data": {
      "image/png": "[encoded data removed]",
      "text/plain": [
       "<Figure size 720x720 with 2 Axes>"
      ]
     },
     "metadata": {
      "needs_background": "light"
     },
     "output_type": "display_data"
    },
    {
     "name": "stdout",
     "output_type": "stream",
     "text": [
      "True turn: #936\n",
      "CONTEXT: (sw4633, 10)\n",
      "A: to have them uh\n",
      "B: i try to fool everybody\n",
      "A: i think you're doing a good job i just have one child\n",
      "RESPONSES\n",
      " - (0) 0.010, double whammy because like you say if you cut defense well that's great that's gonna lower our national expenditures but then you're gonna have people on welfare and they're not putting taxes in (sw4181, 63)\n",
      " - (1) 0.010, and so how do you relate as to whether this particular armed robbery was a you know worth five years or twenty five (sw3113, 9)\n",
      " - (2) 0.010, yeah uh well it's it's more than a loaded it's a loaded cannon i mean they've got trillions of dollars to spend every year and they in my opinion don't do a very responsible job of spending that money (sw4022, 42)\n",
      " - (3) 0.010, oh see i didn't really care that's that's one side of the action i guess that i didn't really care for but see i don't really like sylvester stallone (sw2568, 76)\n",
      " - (4) 0.010, well you know the funny thing i find about american opinion is that when we have gone in to destabilize a government before the american public goes crazy (sw2554, 14)\n",
      " - (5) 0.010, they're getting serious about things like uh mandatory well they've already passed laws where you have to get your cars checked for pollution if you're in certain counties emissions (sw4382, 10)\n",
      " - (6) 0.010, if they reported every murder if they reported every violent crime in atlanta it would take it would probably take the whole news hour but uh (sw4033, 49)\n",
      " - (7) 0.010, well part of that is the overcrowding of the court system (sw3283, 43)\n",
      " - (8) 0.010, well why was cnn the only of course i think saddam hussein only allowed cnn to broadcast it is that not true (sw2060, 4)\n",
      " - (9) 0.010, yeah i'm surprised to hear that the v-8s are coming back uh they've got some pretty powerful 6s (sw4339, 25)\n",
      " -  (TRUE RESPONSE) (936) 0.010, uhuh (sw4633, 11)\n",
      "\n",
      "----------\n",
      "\n"
     ]
    },
    {
     "name": "stderr",
     "output_type": "stream",
     "text": [
      "\r",
      "Prediction dataloader: 0it [00:00, ?it/s]"
     ]
    },
    {
     "name": "stdout",
     "output_type": "stream",
     "text": [
      "Batch[0] batch_size:100\n"
     ]
    },
    {
     "name": "stderr",
     "output_type": "stream",
     "text": [
      "Prediction dataloader: 10it [00:07,  1.37it/s]\n"
     ]
    },
    {
     "data": {
      "image/png": "[encoded data removed]",
      "text/plain": [
       "<Figure size 720x720 with 2 Axes>"
      ]
     },
     "metadata": {
      "needs_background": "light"
     },
     "output_type": "display_data"
    },
    {
     "name": "stdout",
     "output_type": "stream",
     "text": [
      "True turn: #845\n",
      "CONTEXT: (sw3284, 39)\n",
      "A: and uh they they promote service on the part of the kids to to uh some of those people so at least that's a step in the right direction i guess\n",
      "B: yeah yeah at uh now i didn't i don't know it did i i think you're right that that that's not the not the way that the society these days is going and i i think we need to we need to try to figure out some way to to turn that around that everybody\n",
      "A: yeah it's really it's really unfortunate because when you do i do volunteer work for the american lung association\n",
      "RESPONSES\n",
      " - (0) 0.010, i mean it's good because they they try new things you know but it's like they'll try something and then they throw it out and get something else you know and you get tired of that (sw2078, 80)\n",
      " - (1) 0.010, yeah and it's it's just about six feet long it rolls up (sw3473, 54)\n",
      " - (2) 0.010, no i don't well i i do i like ice skating and i like uh gymnastics (sw3073, 66)\n",
      " - (3) 0.010, it's its amazing i love those movies i really do (sw2435, 84)\n",
      " - (4) 0.010, yeah yep okay what else do you like (sw3364, 22)\n",
      " - (5) 0.010, uh actually we've only made one of them since we got married about four years ago (sw3725, 37)\n",
      " - (6) 0.010, oh i have i really haven't listened to that (sw4168, 36)\n",
      " - (7) 0.010, so we're we take trips pretty often (sw2756, 17)\n",
      " - (8) 0.010, is it small (sw3699, 22)\n",
      " - (9) 0.010, have you seen it (sw2113, 4)\n",
      " -  (TRUE RESPONSE) (845) 0.010, hm (sw3284, 40)\n",
      "\n",
      "----------\n",
      "\n"
     ]
    },
    {
     "name": "stderr",
     "output_type": "stream",
     "text": [
      "\r",
      "Prediction dataloader: 0it [00:00, ?it/s]"
     ]
    },
    {
     "name": "stdout",
     "output_type": "stream",
     "text": [
      "Batch[0] batch_size:100\n"
     ]
    },
    {
     "name": "stderr",
     "output_type": "stream",
     "text": [
      "Prediction dataloader: 10it [00:07,  1.37it/s]\n"
     ]
    },
    {
     "data": {
      "image/png": "[encoded data removed]",
      "text/plain": [
       "<Figure size 720x720 with 2 Axes>"
      ]
     },
     "metadata": {
      "needs_background": "light"
     },
     "output_type": "display_data"
    },
    {
     "name": "stdout",
     "output_type": "stream",
     "text": [
      "True turn: #872\n",
      "CONTEXT: (sw3097, 30)\n",
      "A: right\n",
      "B: then i went back to work\n",
      "A: right and that will come i know that day will come and i am looking forward to that too\n",
      "RESPONSES\n",
      " - (0) 0.010, no i don't i have a friend who has a little inflatable inflatable raft and we use that sometimes i wish i had a boat but i don't (sw3342, 21)\n",
      " - (1) 0.010, yeah that's uh that's strange with me you know you think dallas you know almost semitropical you wouldn't have that kind of that kind of problem but (sw3251, 48)\n",
      " - (2) 0.010, oh yeah um you're not supposed to i mean you're not supposed to eat them dead i mean well you eat them dead but (sw2429, 18)\n",
      " - (3) 0.010, yeah a lot of times you can do that think the i think the pinks there's like forty two different shades of pink (sw2053, 32)\n",
      " - (4) 0.010, oh okay the yeah that's the one i wanted to see where he was on she was on a carnival at a carnival on a ferris wheel or something (sw2913, 88)\n",
      " - (5) 0.010, they're better but how about all the trucks and buses that are out there uh when when was the last time you saw a truck that didn't belch smoke or uh (sw2121, 72)\n",
      " - (6) 0.010, i don't know coming from texas you're probably i don't know i i shouldn't make stereo types but gun control is probably frowned on quite a bit down there i would think (sw4080, 12)\n",
      " - (7) 0.010, yeah and some paper or something in the super dome up in the roof caught on fire (sw3389, 18)\n",
      " - (8) 0.010, we just have the case i'm i'm sure you've probably heard of marion berry (sw4830, 43)\n",
      " - (9) 0.010, yeah we all used to yeah it's the unsweetened kind it's not like nestle quik (sw2187, 75)\n",
      " -  (TRUE RESPONSE) (872) 0.010, right (sw3097, 31)\n",
      "\n",
      "----------\n",
      "\n"
     ]
    },
    {
     "name": "stderr",
     "output_type": "stream",
     "text": [
      "\r",
      "Prediction dataloader: 0it [00:00, ?it/s]"
     ]
    },
    {
     "name": "stdout",
     "output_type": "stream",
     "text": [
      "Batch[0] batch_size:100\n"
     ]
    },
    {
     "name": "stderr",
     "output_type": "stream",
     "text": [
      "Prediction dataloader: 10it [00:07,  1.37it/s]\n"
     ]
    },
    {
     "data": {
      "image/png": "[encoded data removed]",
      "text/plain": [
       "<Figure size 720x720 with 2 Axes>"
      ]
     },
     "metadata": {
      "needs_background": "light"
     },
     "output_type": "display_data"
    },
    {
     "name": "stdout",
     "output_type": "stream",
     "text": [
      "True turn: #997\n",
      "CONTEXT: (sw2109, 19)\n",
      "A: two diametrically opposed people from the stand point that one was jewish and one was black\n",
      "B: oh my\n",
      "A: and this all took place in the south and uh normally never the twain shall meet\n",
      "RESPONSES\n",
      " - (0) 0.010, yeah well honda does too that's why i was really (sw2526, 12)\n",
      " - (1) 0.010, uhuh that's just fantastic down there take it more as a this is your opportunity to do whatever you want pick out where you want to live and then once you pick that spot out pick out what you want to do (sw2645, 93)\n",
      " - (2) 0.010, but mostly petty things and nothing nothing nothing nothing really too big (sw4336, 6)\n",
      " - (3) 0.010, yeah we camp year round (sw3663, 28)\n",
      " - (4) 0.010, i don't even know much money my sister spent on hers but i i just thought i it's it's going to be a waste she's not going to do it not going to use it oh well (sw2545, 80)\n",
      " - (5) 0.010, so it's a lot of fun i worked up there last summer so i guess it was kind of like a vacation the whole summer long (sw3072, 21)\n",
      " - (6) 0.010, and they do that at night too because employees been complaining that the cars have been pitted and you know spots all over them (sw2121, 32)\n",
      " - (7) 0.010, well not really uh we're doing the same thing tying it in with my husband's business trip and i just save vacation for things like that (sw3171, 29)\n",
      " - (8) 0.010, yeah it's real pretty (sw2756, 111)\n",
      " - (9) 0.010, yeah they aren't they aren't by nature really nasty critters they are very determined critters (sw4184, 59)\n",
      " -  (TRUE RESPONSE) (997) 0.010, um you bet especially in the south (sw2109, 20)\n",
      "\n",
      "----------\n",
      "\n"
     ]
    }
   ],
   "source": [
    "# WTS stimuli (reversed)\n",
    "for i in [4,8,325,653,43,346]:#[5,298,64,790, ]:\n",
    "    show_experiment(discrim_dataset, wts_corpus, i+10, reverse=True)"
   ]
  },
  {
   "cell_type": "code",
   "execution_count": null,
   "id": "e45366f8",
   "metadata": {},
   "outputs": [],
   "source": []
  },
  {
   "cell_type": "code",
   "execution_count": null,
   "id": "0ccc91a3",
   "metadata": {},
   "outputs": [],
   "source": [
    "sample_id = 10\n",
    "n_neighbours = 4\n",
    "\n",
    "dataset = discrim_dataset\n",
    "corpus = wts_corpus\n",
    "n_negs = 500-1\n",
    "model = model\n",
    "reverse = False\n",
    "audio = False\n",
    "\n",
    "tokenized_samples, ys, lines = dataset.make_cr_sample(sample_id, n_negs)\n",
    "context_lines, response_lines = lines\n",
    "y_pred = model.predict({'cr':tokenized_samples, 'y':ys}, pred_batch_size=100)\n",
    "\n",
    "sids = np.argsort(y_pred)\n",
    "top_scores, top_ids, top_lines, sort_ids = select_neighbours(y_pred, tokenized_samples, \n",
    "                                                             response_lines, 500, \n",
    "                                                             reverse=reverse\n",
    "                                                            )\n",
    "\n",
    "# Return the negatives and target responses\n",
    "num_negs = n_neighbours\n",
    "if target_id <= n_negs:\n",
    "    num_negs = top_lines[:n_neighbours + 1]\n",
    "    \n",
    "neg_lines = [response_lines[i] for i in sort_ids[:num_negs] if i != 0]\n",
    "neg_scores = [y_pred[i] for i in sort_ids[:num_negs] if i != 0]\n",
    "\n",
    "target_id = np.argwhere(sort_ids == 0)[0][0]\n",
    "target_response = response_lines[target_id]\n",
    "target_score = top_scores[target_id]\n",
    "\n",
    "\n",
    "\n",
    "# PRINT AND PLOT\n",
    "print(context_lines[2])"
   ]
  },
  {
   "cell_type": "code",
   "execution_count": null,
   "id": "8f58db83",
   "metadata": {},
   "outputs": [],
   "source": [
    "# response_lines[target_id]\n",
    "# Return the negatives and target responses\n",
    "num_negs = n_neighbours\n",
    "if target_id <= n_negs:\n",
    "    num_negs = n_neighbours + 1\n",
    "\n",
    "print(n_neighbours)\n",
    "\n",
    "neg_lines = [response_lines[i] for i in sort_ids[:num_negs] if i != 0]\n",
    "neg_scores = [y_pred[i] for i in sort_ids[:num_negs] if i != 0]\n",
    "\n",
    "target_id = np.argwhere(sort_ids == 0)[0][0]\n",
    "target_response = response_lines[target_id]\n",
    "target_score = top_scores[target_id]"
   ]
  },
  {
   "cell_type": "code",
   "execution_count": null,
   "id": "ba8dc581",
   "metadata": {},
   "outputs": [],
   "source": [
    "context_lines"
   ]
  },
  {
   "cell_type": "code",
   "execution_count": null,
   "id": "0257c9b2",
   "metadata": {},
   "outputs": [],
   "source": [
    "# TODO: why is this being sampled as accetable?\n",
    "print(discrim_dataset.acceptable_context_turn(context_lines[-1]))\n",
    "discrim_dataset.min_context_tokens\n",
    "# doc_id = discrim_dataset.conv_to_doc[context_lines[-1][\"conv_id\"]]\n",
    "\n",
    "# sample = context_lines[-1]\n",
    "\n",
    "# print(discrim_dataset.all_docs[doc_id][sample[\"turn_id\"]])\n",
    "\n",
    "# t1 = discrim_dataset.all_docs[doc_id][sample[\"turn_id\"] - 2]\n",
    "# t2 = discrim_dataset.all_docs[doc_id][sample[\"turn_id\"] - 1]\n",
    "# t3 = discrim_dataset.all_docs[doc_id][sample[\"turn_id\"]]\n",
    "\n",
    "# display(t1)\n",
    "# display(t2)\n",
    "# display(t3)\n",
    "#         sample = self.acceptable_context_turns[item]\n",
    "#         doc_id = self.conv_to_doc[sample[\"conv_id\"]]"
   ]
  },
  {
   "cell_type": "code",
   "execution_count": null,
   "id": "ed9bdd5e",
   "metadata": {},
   "outputs": [],
   "source": [
    "# [t for t in discrim_dataset.acceptable_context_turns if len(t['clean_text'].split(' ')) == 1]"
   ]
  },
  {
   "cell_type": "code",
   "execution_count": 16,
   "id": "7acfa5fd",
   "metadata": {},
   "outputs": [],
   "source": [
    "# neg_lines\n"
   ]
  },
  {
   "cell_type": "code",
   "execution_count": 16,
   "id": "f7a6ce0d",
   "metadata": {},
   "outputs": [
    {
     "ename": "NameError",
     "evalue": "name 'target_response' is not defined",
     "output_type": "error",
     "traceback": [
      "\u001b[0;31m---------------------------------------------------------------------------\u001b[0m",
      "\u001b[0;31mNameError\u001b[0m                                 Traceback (most recent call last)",
      "\u001b[0;32m<ipython-input-16-6ce89a344bc1>\u001b[0m in \u001b[0;36m<module>\u001b[0;34m\u001b[0m\n\u001b[0;32m----> 1\u001b[0;31m \u001b[0mtarget_response\u001b[0m\u001b[0;34m\u001b[0m\u001b[0;34m\u001b[0m\u001b[0m\n\u001b[0m",
      "\u001b[0;31mNameError\u001b[0m: name 'target_response' is not defined"
     ]
    }
   ],
   "source": [
    "# target_response"
   ]
  },
  {
   "cell_type": "code",
   "execution_count": null,
   "id": "3abda5cd",
   "metadata": {},
   "outputs": [],
   "source": []
  },
  {
   "cell_type": "code",
   "execution_count": null,
   "id": "a7447df3",
   "metadata": {},
   "outputs": [],
   "source": []
  },
  {
   "cell_type": "code",
   "execution_count": 70,
   "id": "bebe610d",
   "metadata": {},
   "outputs": [],
   "source": [
    "\n",
    "def print_context(turns):\n",
    "    \"\"\"Given a list of (3) context turns, return a list of texts and the printable text string\"\"\"\n",
    "    turn_start = {0:' <div class=\"yours messages\"><div class =\"message last\">',\n",
    "                  1: '<div class=\"mine messages\"><div class =\"message last\">',\n",
    "                 }\n",
    "    turn_end = \"</div>\"\n",
    "    turn_dots = '<div class=\"dots messages\"><div class=\"message\"> .  .  . </div></div>'\n",
    "\n",
    "    texts = [t['clean_text'] for t in turns]\n",
    "    turn_string = \"\"\n",
    "    for i, text in enumerate(texts):\n",
    "        speaker = i % 2\n",
    "        turn_string += turn_start[speaker]\n",
    "        turn_string += text\n",
    "        turn_string += turn_end\n",
    "        turn_string += turn_end\n",
    "\n",
    "    turn_string += turn_dots\n",
    "\n",
    "    # The actual printing...\n",
    "    text_print = '<div class=\"chat\">' + turn_dots\n",
    "    text_print += turn_string\n",
    "\n",
    "    return texts, text_print\n",
    "\n",
    "def print_response(turn, person='mine'):\n",
    "    \"\"\"Given a turn, return the text and printable string\"\"\"\n",
    "\n",
    "    text = turn['clean_text']\n",
    "\n",
    "    if person not in ['mine', 'yours']:\n",
    "        print('ERROR in response_print()')\n",
    "        return None\n",
    "\n",
    "    text_print = f'<div class=\"response_chat\"><div class=\"{person} messages\"><div class=\"message last\">{text}</div></div></div>'\n",
    "#     <div class=\"response_chat\"><div class=\"mine messages\"><div class=\"message last\">{<u><b>right that's what I thought too</b></u>}</div></div></div>\n",
    "    return text, text_print\n",
    "\n",
    "\n",
    "COLS = [\n",
    "    'context_text', 'context_print', 'context_id', 'q_id',\n",
    "    'response_text', 'response_print', 'response_id', 'target', 'response_score',\n",
    "        ]\n",
    "\n",
    "def make_bertfp_stimuli_df(n_samples, n_responses, reverse,\n",
    "                           dataset, corpus, model, tokenizer, n_negs = 500-1,\n",
    "                           columns=COLS, sample_seed=123, max_grid_size=100,\n",
    "                          ):\n",
    "    \"\"\"Fill grid_df with contexts and responses\"\"\"\n",
    "    grid_df = pd.DataFrame(columns=columns)\n",
    "\n",
    "    # Select some random context indices\n",
    "    np.random.seed(sample_seed)\n",
    "    idxs = np.random.choice(range(len(dataset.acceptable_context_turns)), n_samples, replace=False)\n",
    "\n",
    "    for sample_id in tqdm(idxs):\n",
    "        # Make a (context, responses) BERT-FP sample\n",
    "        tokenized_samples, ys, lines = dataset.make_cr_sample(sample_id, n_negs)\n",
    "        context_lines, response_lines = lines\n",
    "        y_pred = model.predict({'cr':tokenized_samples, 'y':ys}, pred_batch_size=100)\n",
    "\n",
    "        sids = np.argsort(y_pred)\n",
    "        top_scores, top_ids, top_lines, sort_ids = select_neighbours(y_pred, tokenized_samples,\n",
    "                                                                 response_lines, 500,\n",
    "                                                                 reverse=reverse\n",
    "                                                                )\n",
    "\n",
    "        # Get the true response\n",
    "        target_id = np.argwhere(sort_ids == 0)[0][0]\n",
    "        target_response = top_lines[target_id]\n",
    "        target_score = top_scores[target_id]\n",
    "        \n",
    "        # Return the top(n_response) negatives (excluding the true response)\n",
    "        num_responses = n_responses - 1\n",
    "        if target_id <= n_responses: # if the target is in top[n_responses], add an extra!\n",
    "            num_responses += 1\n",
    "\n",
    "        neg_lines = [response_lines[i] for i in sort_ids[:num_responses] if i != 0]\n",
    "        neg_scores = [y_pred[i] for i in sort_ids[:num_responses] if i != 0]\n",
    "\n",
    "        # Make rows in grid_df\n",
    "        context_text, context_print = print_context(context_lines)\n",
    "        context_id = f\"{context_lines[-1]['conv_id']}_{context_lines[-1]['turn_id']}\"\n",
    "        c_row = {\n",
    "            'context_text': context_text,\n",
    "            'context_print': context_print,\n",
    "            'context_id': context_id,\n",
    "            'q_id': context_id, # context_id = f\"{context_turns[0]['conv_id']}_{context_turns[0]['turn_id']}\"\n",
    "                }\n",
    "\n",
    "        # target response info\n",
    "        response_text, response_print = print_response(target_response)\n",
    "        response_id = f\"{target_response['conv_id']}_{target_response['turn_id']}\"\n",
    "        t_row = {\n",
    "            'response_text': response_text,\n",
    "            'response_print': response_print,\n",
    "            'response_id': response_id, # response_id = f\"{neg['conv_id']}_{neg['turn_id']}\"\n",
    "            'target': 1,\n",
    "            'response_score': target_score\n",
    "                }\n",
    "\n",
    "        row = {**c_row, **t_row,}\n",
    "        display(f'Target: {row}')\n",
    "        grid_df = grid_df.append(row, ignore_index=True)\n",
    "\n",
    "        for i, neg in enumerate(neg_lines):\n",
    "            response_text, response_print = print_response(neg)\n",
    "            response_id = f\"{neg['conv_id']}_{neg['turn_id']}\"\n",
    "            r_row = {\n",
    "                'response_text': response_text,\n",
    "                'response_print': response_print,\n",
    "                'response_id': response_id, # response_id = f\"{neg['conv_id']}_{neg['turn_id']}\"\n",
    "                'target': 0,\n",
    "                'response_score': neg_scores[i]\n",
    "                    }\n",
    "            row = {**c_row, **r_row,}\n",
    "            display(f'Negative: {row}')\n",
    "            grid_df = grid_df.append(row, ignore_index=True)\n",
    "\n",
    "    return grid_df\n",
    "\n"
   ]
  },
  {
   "cell_type": "code",
   "execution_count": 71,
   "id": "3aa70ded",
   "metadata": {},
   "outputs": [
    {
     "name": "stderr",
     "output_type": "stream",
     "text": [
      "  0%|          | 0/5 [00:00<?, ?it/s]\n",
      "Prediction dataloader: 0it [00:00, ?it/s]\u001b[A"
     ]
    },
    {
     "name": "stdout",
     "output_type": "stream",
     "text": [
      "Batch[0] batch_size:100\n"
     ]
    },
    {
     "name": "stderr",
     "output_type": "stream",
     "text": [
      "\n",
      "Prediction dataloader: 1it [00:00,  1.28it/s]\u001b[A\n"
     ]
    },
    {
     "data": {
      "text/plain": [
       "'Target: {\\'context_text\\': [\\'yeah\\', \"i\\'ve been with them sixteen\", \\'yeah i can imagine you know the longer and longer it goes\\'], \\'context_print\\': \\'<div class=\"chat\"><div class=\"dots messages\"><div class=\"message\"> .  .  . </div></div> <div class=\"yours messages\"><div class =\"message last\">yeah</div></div><div class=\"mine messages\"><div class =\"message last\">i\\\\\\'ve been with them sixteen</div></div> <div class=\"yours messages\"><div class =\"message last\">yeah i can imagine you know the longer and longer it goes</div></div><div class=\"dots messages\"><div class=\"message\"> .  .  . </div></div>\\', \\'context_id\\': \\'sw2645_109\\', \\'q_id\\': \\'sw2645_109\\', \\'response_text\\': \\'actually seventeen now and oh yeah momentum is uh driving force in our lives\\', \\'response_print\\': \\'<div class=\"response_chat\"><div class=\"mine messages\"><div class=\"message last\">actually seventeen now and oh yeah momentum is uh driving force in our lives</div></div></div>\\', \\'response_id\\': \\'sw2645_110\\', \\'target\\': 1, \\'response_score\\': 0.9951044321060181}'"
      ]
     },
     "metadata": {},
     "output_type": "display_data"
    },
    {
     "data": {
      "text/plain": [
       "'Negative: {\\'context_text\\': [\\'yeah\\', \"i\\'ve been with them sixteen\", \\'yeah i can imagine you know the longer and longer it goes\\'], \\'context_print\\': \\'<div class=\"chat\"><div class=\"dots messages\"><div class=\"message\"> .  .  . </div></div> <div class=\"yours messages\"><div class =\"message last\">yeah</div></div><div class=\"mine messages\"><div class =\"message last\">i\\\\\\'ve been with them sixteen</div></div> <div class=\"yours messages\"><div class =\"message last\">yeah i can imagine you know the longer and longer it goes</div></div><div class=\"dots messages\"><div class=\"message\"> .  .  . </div></div>\\', \\'context_id\\': \\'sw2645_109\\', \\'q_id\\': \\'sw2645_109\\', \\'response_text\\': \"yeah so it\\'s\", \\'response_print\\': \\'<div class=\"response_chat\"><div class=\"mine messages\"><div class=\"message last\">yeah so it\\\\\\'s</div></div></div>\\', \\'response_id\\': \\'sw2121_55\\', \\'target\\': 0, \\'response_score\\': 0.9404706358909607}'"
      ]
     },
     "metadata": {},
     "output_type": "display_data"
    },
    {
     "data": {
      "text/plain": [
       "'Negative: {\\'context_text\\': [\\'yeah\\', \"i\\'ve been with them sixteen\", \\'yeah i can imagine you know the longer and longer it goes\\'], \\'context_print\\': \\'<div class=\"chat\"><div class=\"dots messages\"><div class=\"message\"> .  .  . </div></div> <div class=\"yours messages\"><div class =\"message last\">yeah</div></div><div class=\"mine messages\"><div class =\"message last\">i\\\\\\'ve been with them sixteen</div></div> <div class=\"yours messages\"><div class =\"message last\">yeah i can imagine you know the longer and longer it goes</div></div><div class=\"dots messages\"><div class=\"message\"> .  .  . </div></div>\\', \\'context_id\\': \\'sw2645_109\\', \\'q_id\\': \\'sw2645_109\\', \\'response_text\\': \\'yeah i used to have uh chevy van it was a short van\\', \\'response_print\\': \\'<div class=\"response_chat\"><div class=\"mine messages\"><div class=\"message last\">yeah i used to have uh chevy van it was a short van</div></div></div>\\', \\'response_id\\': \\'sw2615_16\\', \\'target\\': 0, \\'response_score\\': 0.9019864797592163}'"
      ]
     },
     "metadata": {},
     "output_type": "display_data"
    },
    {
     "data": {
      "text/plain": [
       "'Negative: {\\'context_text\\': [\\'yeah\\', \"i\\'ve been with them sixteen\", \\'yeah i can imagine you know the longer and longer it goes\\'], \\'context_print\\': \\'<div class=\"chat\"><div class=\"dots messages\"><div class=\"message\"> .  .  . </div></div> <div class=\"yours messages\"><div class =\"message last\">yeah</div></div><div class=\"mine messages\"><div class =\"message last\">i\\\\\\'ve been with them sixteen</div></div> <div class=\"yours messages\"><div class =\"message last\">yeah i can imagine you know the longer and longer it goes</div></div><div class=\"dots messages\"><div class=\"message\"> .  .  . </div></div>\\', \\'context_id\\': \\'sw2645_109\\', \\'q_id\\': \\'sw2645_109\\', \\'response_text\\': \\'do you follow professional sports at all\\', \\'response_print\\': \\'<div class=\"response_chat\"><div class=\"mine messages\"><div class=\"message last\">do you follow professional sports at all</div></div></div>\\', \\'response_id\\': \\'sw4691_21\\', \\'target\\': 0, \\'response_score\\': 0.8418468236923218}'"
      ]
     },
     "metadata": {},
     "output_type": "display_data"
    },
    {
     "data": {
      "text/plain": [
       "'Negative: {\\'context_text\\': [\\'yeah\\', \"i\\'ve been with them sixteen\", \\'yeah i can imagine you know the longer and longer it goes\\'], \\'context_print\\': \\'<div class=\"chat\"><div class=\"dots messages\"><div class=\"message\"> .  .  . </div></div> <div class=\"yours messages\"><div class =\"message last\">yeah</div></div><div class=\"mine messages\"><div class =\"message last\">i\\\\\\'ve been with them sixteen</div></div> <div class=\"yours messages\"><div class =\"message last\">yeah i can imagine you know the longer and longer it goes</div></div><div class=\"dots messages\"><div class=\"message\"> .  .  . </div></div>\\', \\'context_id\\': \\'sw2645_109\\', \\'q_id\\': \\'sw2645_109\\', \\'response_text\\': \"yeah it\\'s uh\", \\'response_print\\': \\'<div class=\"response_chat\"><div class=\"mine messages\"><div class=\"message last\">yeah it\\\\\\'s uh</div></div></div>\\', \\'response_id\\': \\'sw4171_32\\', \\'target\\': 0, \\'response_score\\': 0.8000493049621582}'"
      ]
     },
     "metadata": {},
     "output_type": "display_data"
    },
    {
     "name": "stderr",
     "output_type": "stream",
     "text": [
      " 20%|██        | 1/5 [00:07<00:28,  7.10s/it]\n",
      "Prediction dataloader: 0it [00:00, ?it/s]\u001b[A"
     ]
    },
    {
     "name": "stdout",
     "output_type": "stream",
     "text": [
      "Batch[0] batch_size:100\n"
     ]
    },
    {
     "name": "stderr",
     "output_type": "stream",
     "text": [
      "\n",
      "Prediction dataloader: 1it [00:00,  1.37it/s]\u001b[A\n"
     ]
    },
    {
     "data": {
      "text/plain": [
       "'Target: {\\'context_text\\': [\"you know yeah honestly um i don\\'t do as much reading like i say as i would like to we\\'ve been working a lot of hours at work and\", \\'really\\', \"yeah and then of course we have a home so it\\'s you know a lot time is spent doing things as far as the yard work or housework or\"], \\'context_print\\': \\'<div class=\"chat\"><div class=\"dots messages\"><div class=\"message\"> .  .  . </div></div> <div class=\"yours messages\"><div class =\"message last\">you know yeah honestly um i don\\\\\\'t do as much reading like i say as i would like to we\\\\\\'ve been working a lot of hours at work and</div></div><div class=\"mine messages\"><div class =\"message last\">really</div></div> <div class=\"yours messages\"><div class =\"message last\">yeah and then of course we have a home so it\\\\\\'s you know a lot time is spent doing things as far as the yard work or housework or</div></div><div class=\"dots messages\"><div class=\"message\"> .  .  . </div></div>\\', \\'context_id\\': \\'sw2792_35\\', \\'q_id\\': \\'sw2792_35\\', \\'response_text\\': \\'yeah\\', \\'response_print\\': \\'<div class=\"response_chat\"><div class=\"mine messages\"><div class=\"message last\">yeah</div></div></div>\\', \\'response_id\\': \\'sw2792_36\\', \\'target\\': 1, \\'response_score\\': 0.5069614052772522}'"
      ]
     },
     "metadata": {},
     "output_type": "display_data"
    },
    {
     "data": {
      "text/plain": [
       "'Negative: {\\'context_text\\': [\"you know yeah honestly um i don\\'t do as much reading like i say as i would like to we\\'ve been working a lot of hours at work and\", \\'really\\', \"yeah and then of course we have a home so it\\'s you know a lot time is spent doing things as far as the yard work or housework or\"], \\'context_print\\': \\'<div class=\"chat\"><div class=\"dots messages\"><div class=\"message\"> .  .  . </div></div> <div class=\"yours messages\"><div class =\"message last\">you know yeah honestly um i don\\\\\\'t do as much reading like i say as i would like to we\\\\\\'ve been working a lot of hours at work and</div></div><div class=\"mine messages\"><div class =\"message last\">really</div></div> <div class=\"yours messages\"><div class =\"message last\">yeah and then of course we have a home so it\\\\\\'s you know a lot time is spent doing things as far as the yard work or housework or</div></div><div class=\"dots messages\"><div class=\"message\"> .  .  . </div></div>\\', \\'context_id\\': \\'sw2792_35\\', \\'q_id\\': \\'sw2792_35\\', \\'response_text\\': \\'yeah i i usually get it started for my wife and i\\', \\'response_print\\': \\'<div class=\"response_chat\"><div class=\"mine messages\"><div class=\"message last\">yeah i i usually get it started for my wife and i</div></div></div>\\', \\'response_id\\': \\'sw2427_49\\', \\'target\\': 0, \\'response_score\\': 0.9712047576904297}'"
      ]
     },
     "metadata": {},
     "output_type": "display_data"
    },
    {
     "data": {
      "text/plain": [
       "'Negative: {\\'context_text\\': [\"you know yeah honestly um i don\\'t do as much reading like i say as i would like to we\\'ve been working a lot of hours at work and\", \\'really\\', \"yeah and then of course we have a home so it\\'s you know a lot time is spent doing things as far as the yard work or housework or\"], \\'context_print\\': \\'<div class=\"chat\"><div class=\"dots messages\"><div class=\"message\"> .  .  . </div></div> <div class=\"yours messages\"><div class =\"message last\">you know yeah honestly um i don\\\\\\'t do as much reading like i say as i would like to we\\\\\\'ve been working a lot of hours at work and</div></div><div class=\"mine messages\"><div class =\"message last\">really</div></div> <div class=\"yours messages\"><div class =\"message last\">yeah and then of course we have a home so it\\\\\\'s you know a lot time is spent doing things as far as the yard work or housework or</div></div><div class=\"dots messages\"><div class=\"message\"> .  .  . </div></div>\\', \\'context_id\\': \\'sw2792_35\\', \\'q_id\\': \\'sw2792_35\\', \\'response_text\\': \"yeah so that\\'s why i do that\", \\'response_print\\': \\'<div class=\"response_chat\"><div class=\"mine messages\"><div class=\"message last\">yeah so that\\\\\\'s why i do that</div></div></div>\\', \\'response_id\\': \\'sw2187_107\\', \\'target\\': 0, \\'response_score\\': 0.9367142915725708}'"
      ]
     },
     "metadata": {},
     "output_type": "display_data"
    },
    {
     "data": {
      "text/plain": [
       "'Negative: {\\'context_text\\': [\"you know yeah honestly um i don\\'t do as much reading like i say as i would like to we\\'ve been working a lot of hours at work and\", \\'really\\', \"yeah and then of course we have a home so it\\'s you know a lot time is spent doing things as far as the yard work or housework or\"], \\'context_print\\': \\'<div class=\"chat\"><div class=\"dots messages\"><div class=\"message\"> .  .  . </div></div> <div class=\"yours messages\"><div class =\"message last\">you know yeah honestly um i don\\\\\\'t do as much reading like i say as i would like to we\\\\\\'ve been working a lot of hours at work and</div></div><div class=\"mine messages\"><div class =\"message last\">really</div></div> <div class=\"yours messages\"><div class =\"message last\">yeah and then of course we have a home so it\\\\\\'s you know a lot time is spent doing things as far as the yard work or housework or</div></div><div class=\"dots messages\"><div class=\"message\"> .  .  . </div></div>\\', \\'context_id\\': \\'sw2792_35\\', \\'q_id\\': \\'sw2792_35\\', \\'response_text\\': \"just uh graduated in the past year so we\\'re you know we don\\'t have that\", \\'response_print\\': \\'<div class=\"response_chat\"><div class=\"mine messages\"><div class=\"message last\">just uh graduated in the past year so we\\\\\\'re you know we don\\\\\\'t have that</div></div></div>\\', \\'response_id\\': \\'sw4868_32\\', \\'target\\': 0, \\'response_score\\': 0.6852262020111084}'"
      ]
     },
     "metadata": {},
     "output_type": "display_data"
    },
    {
     "data": {
      "text/plain": [
       "'Negative: {\\'context_text\\': [\"you know yeah honestly um i don\\'t do as much reading like i say as i would like to we\\'ve been working a lot of hours at work and\", \\'really\\', \"yeah and then of course we have a home so it\\'s you know a lot time is spent doing things as far as the yard work or housework or\"], \\'context_print\\': \\'<div class=\"chat\"><div class=\"dots messages\"><div class=\"message\"> .  .  . </div></div> <div class=\"yours messages\"><div class =\"message last\">you know yeah honestly um i don\\\\\\'t do as much reading like i say as i would like to we\\\\\\'ve been working a lot of hours at work and</div></div><div class=\"mine messages\"><div class =\"message last\">really</div></div> <div class=\"yours messages\"><div class =\"message last\">yeah and then of course we have a home so it\\\\\\'s you know a lot time is spent doing things as far as the yard work or housework or</div></div><div class=\"dots messages\"><div class=\"message\"> .  .  . </div></div>\\', \\'context_id\\': \\'sw2792_35\\', \\'q_id\\': \\'sw2792_35\\', \\'response_text\\': \\'uhuh but\\', \\'response_print\\': \\'<div class=\"response_chat\"><div class=\"mine messages\"><div class=\"message last\">uhuh but</div></div></div>\\', \\'response_id\\': \\'sw2608_96\\', \\'target\\': 0, \\'response_score\\': 0.5062552094459534}'"
      ]
     },
     "metadata": {},
     "output_type": "display_data"
    },
    {
     "name": "stderr",
     "output_type": "stream",
     "text": [
      " 40%|████      | 2/5 [00:14<00:21,  7.07s/it]\n",
      "Prediction dataloader: 0it [00:00, ?it/s]\u001b[A"
     ]
    },
    {
     "name": "stdout",
     "output_type": "stream",
     "text": [
      "Batch[0] batch_size:100\n"
     ]
    },
    {
     "name": "stderr",
     "output_type": "stream",
     "text": [
      "\n",
      "Prediction dataloader: 1it [00:00,  1.36it/s]\u001b[A\n"
     ]
    },
    {
     "data": {
      "text/plain": [
       "'Target: {\\'context_text\\': [\\'well have you ever thought about coming to louisiana you know to visit\\', \\'i would love to\\', \"yeah you ought to come down um you don\\'t even have to go all the way to new orleans you know if you want to really get some good food\"], \\'context_print\\': \\'<div class=\"chat\"><div class=\"dots messages\"><div class=\"message\"> .  .  . </div></div> <div class=\"yours messages\"><div class =\"message last\">well have you ever thought about coming to louisiana you know to visit</div></div><div class=\"mine messages\"><div class =\"message last\">i would love to</div></div> <div class=\"yours messages\"><div class =\"message last\">yeah you ought to come down um you don\\\\\\'t even have to go all the way to new orleans you know if you want to really get some good food</div></div><div class=\"dots messages\"><div class=\"message\"> .  .  . </div></div>\\', \\'context_id\\': \\'sw2608_162\\', \\'q_id\\': \\'sw2608_162\\', \\'response_text\\': \\'really\\', \\'response_print\\': \\'<div class=\"response_chat\"><div class=\"mine messages\"><div class=\"message last\">really</div></div></div>\\', \\'response_id\\': \\'sw2608_163\\', \\'target\\': 1, \\'response_score\\': 0.7633330225944519}'"
      ]
     },
     "metadata": {},
     "output_type": "display_data"
    },
    {
     "data": {
      "text/plain": [
       "'Negative: {\\'context_text\\': [\\'well have you ever thought about coming to louisiana you know to visit\\', \\'i would love to\\', \"yeah you ought to come down um you don\\'t even have to go all the way to new orleans you know if you want to really get some good food\"], \\'context_print\\': \\'<div class=\"chat\"><div class=\"dots messages\"><div class=\"message\"> .  .  . </div></div> <div class=\"yours messages\"><div class =\"message last\">well have you ever thought about coming to louisiana you know to visit</div></div><div class=\"mine messages\"><div class =\"message last\">i would love to</div></div> <div class=\"yours messages\"><div class =\"message last\">yeah you ought to come down um you don\\\\\\'t even have to go all the way to new orleans you know if you want to really get some good food</div></div><div class=\"dots messages\"><div class=\"message\"> .  .  . </div></div>\\', \\'context_id\\': \\'sw2608_162\\', \\'q_id\\': \\'sw2608_162\\', \\'response_text\\': \\'but if you do if you do have to go something i guess we can just cut off\\', \\'response_print\\': \\'<div class=\"response_chat\"><div class=\"mine messages\"><div class=\"message last\">but if you do if you do have to go something i guess we can just cut off</div></div></div>\\', \\'response_id\\': \\'sw2678_102\\', \\'target\\': 0, \\'response_score\\': 0.9586168527603149}'"
      ]
     },
     "metadata": {},
     "output_type": "display_data"
    },
    {
     "data": {
      "text/plain": [
       "'Negative: {\\'context_text\\': [\\'well have you ever thought about coming to louisiana you know to visit\\', \\'i would love to\\', \"yeah you ought to come down um you don\\'t even have to go all the way to new orleans you know if you want to really get some good food\"], \\'context_print\\': \\'<div class=\"chat\"><div class=\"dots messages\"><div class=\"message\"> .  .  . </div></div> <div class=\"yours messages\"><div class =\"message last\">well have you ever thought about coming to louisiana you know to visit</div></div><div class=\"mine messages\"><div class =\"message last\">i would love to</div></div> <div class=\"yours messages\"><div class =\"message last\">yeah you ought to come down um you don\\\\\\'t even have to go all the way to new orleans you know if you want to really get some good food</div></div><div class=\"dots messages\"><div class=\"message\"> .  .  . </div></div>\\', \\'context_id\\': \\'sw2608_162\\', \\'q_id\\': \\'sw2608_162\\', \\'response_text\\': \"i\\'ve been here for um just uh almost five years well no almost four years\", \\'response_print\\': \\'<div class=\"response_chat\"><div class=\"mine messages\"><div class=\"message last\">i\\\\\\'ve been here for um just uh almost five years well no almost four years</div></div></div>\\', \\'response_id\\': \\'sw2171_10\\', \\'target\\': 0, \\'response_score\\': 0.8920595645904541}'"
      ]
     },
     "metadata": {},
     "output_type": "display_data"
    },
    {
     "data": {
      "text/plain": [
       "'Negative: {\\'context_text\\': [\\'well have you ever thought about coming to louisiana you know to visit\\', \\'i would love to\\', \"yeah you ought to come down um you don\\'t even have to go all the way to new orleans you know if you want to really get some good food\"], \\'context_print\\': \\'<div class=\"chat\"><div class=\"dots messages\"><div class=\"message\"> .  .  . </div></div> <div class=\"yours messages\"><div class =\"message last\">well have you ever thought about coming to louisiana you know to visit</div></div><div class=\"mine messages\"><div class =\"message last\">i would love to</div></div> <div class=\"yours messages\"><div class =\"message last\">yeah you ought to come down um you don\\\\\\'t even have to go all the way to new orleans you know if you want to really get some good food</div></div><div class=\"dots messages\"><div class=\"message\"> .  .  . </div></div>\\', \\'context_id\\': \\'sw2608_162\\', \\'q_id\\': \\'sw2608_162\\', \\'response_text\\': \"yeah yeah but other than that i\\'ve heard the the you know the um the scenery in it is absolutely beautiful\", \\'response_print\\': \\'<div class=\"response_chat\"><div class=\"mine messages\"><div class=\"message last\">yeah yeah but other than that i\\\\\\'ve heard the the you know the um the scenery in it is absolutely beautiful</div></div></div>\\', \\'response_id\\': \\'sw2177_31\\', \\'target\\': 0, \\'response_score\\': 0.8804137706756592}'"
      ]
     },
     "metadata": {},
     "output_type": "display_data"
    },
    {
     "data": {
      "text/plain": [
       "'Negative: {\\'context_text\\': [\\'well have you ever thought about coming to louisiana you know to visit\\', \\'i would love to\\', \"yeah you ought to come down um you don\\'t even have to go all the way to new orleans you know if you want to really get some good food\"], \\'context_print\\': \\'<div class=\"chat\"><div class=\"dots messages\"><div class=\"message\"> .  .  . </div></div> <div class=\"yours messages\"><div class =\"message last\">well have you ever thought about coming to louisiana you know to visit</div></div><div class=\"mine messages\"><div class =\"message last\">i would love to</div></div> <div class=\"yours messages\"><div class =\"message last\">yeah you ought to come down um you don\\\\\\'t even have to go all the way to new orleans you know if you want to really get some good food</div></div><div class=\"dots messages\"><div class=\"message\"> .  .  . </div></div>\\', \\'context_id\\': \\'sw2608_162\\', \\'q_id\\': \\'sw2608_162\\', \\'response_text\\': \\'around here\\', \\'response_print\\': \\'<div class=\"response_chat\"><div class=\"mine messages\"><div class=\"message last\">around here</div></div></div>\\', \\'response_id\\': \\'sw2772_48\\', \\'target\\': 0, \\'response_score\\': 0.7980210185050964}'"
      ]
     },
     "metadata": {},
     "output_type": "display_data"
    },
    {
     "data": {
      "text/plain": [
       "'Negative: {\\'context_text\\': [\\'well have you ever thought about coming to louisiana you know to visit\\', \\'i would love to\\', \"yeah you ought to come down um you don\\'t even have to go all the way to new orleans you know if you want to really get some good food\"], \\'context_print\\': \\'<div class=\"chat\"><div class=\"dots messages\"><div class=\"message\"> .  .  . </div></div> <div class=\"yours messages\"><div class =\"message last\">well have you ever thought about coming to louisiana you know to visit</div></div><div class=\"mine messages\"><div class =\"message last\">i would love to</div></div> <div class=\"yours messages\"><div class =\"message last\">yeah you ought to come down um you don\\\\\\'t even have to go all the way to new orleans you know if you want to really get some good food</div></div><div class=\"dots messages\"><div class=\"message\"> .  .  . </div></div>\\', \\'context_id\\': \\'sw2608_162\\', \\'q_id\\': \\'sw2608_162\\', \\'response_text\\': \"really that\\'s\", \\'response_print\\': \\'<div class=\"response_chat\"><div class=\"mine messages\"><div class=\"message last\">really that\\\\\\'s</div></div></div>\\', \\'response_id\\': \\'sw2603_22\\', \\'target\\': 0, \\'response_score\\': 0.770865261554718}'"
      ]
     },
     "metadata": {},
     "output_type": "display_data"
    },
    {
     "name": "stderr",
     "output_type": "stream",
     "text": [
      " 60%|██████    | 3/5 [00:21<00:14,  7.02s/it]\n",
      "Prediction dataloader: 0it [00:00, ?it/s]\u001b[A"
     ]
    },
    {
     "name": "stdout",
     "output_type": "stream",
     "text": [
      "Batch[0] batch_size:100\n"
     ]
    },
    {
     "name": "stderr",
     "output_type": "stream",
     "text": [
      "\n",
      "Prediction dataloader: 1it [00:00,  1.36it/s]\u001b[A\n"
     ]
    },
    {
     "data": {
      "text/plain": [
       "'Target: {\\'context_text\\': [\\'mhm\\', \\'well new orleans and uh minneapolis\\', \"mhm well there\\'s lots of pretty country further west\"], \\'context_print\\': \\'<div class=\"chat\"><div class=\"dots messages\"><div class=\"message\"> .  .  . </div></div> <div class=\"yours messages\"><div class =\"message last\">mhm</div></div><div class=\"mine messages\"><div class =\"message last\">well new orleans and uh minneapolis</div></div> <div class=\"yours messages\"><div class =\"message last\">mhm well there\\\\\\'s lots of pretty country further west</div></div><div class=\"dots messages\"><div class=\"message\"> .  .  . </div></div>\\', \\'context_id\\': \\'sw3636_49\\', \\'q_id\\': \\'sw3636_49\\', \\'response_text\\': \\'oh yeah\\', \\'response_print\\': \\'<div class=\"response_chat\"><div class=\"mine messages\"><div class=\"message last\">oh yeah</div></div></div>\\', \\'response_id\\': \\'sw3636_50\\', \\'target\\': 1, \\'response_score\\': 0.6204338669776917}'"
      ]
     },
     "metadata": {},
     "output_type": "display_data"
    },
    {
     "data": {
      "text/plain": [
       "'Negative: {\\'context_text\\': [\\'mhm\\', \\'well new orleans and uh minneapolis\\', \"mhm well there\\'s lots of pretty country further west\"], \\'context_print\\': \\'<div class=\"chat\"><div class=\"dots messages\"><div class=\"message\"> .  .  . </div></div> <div class=\"yours messages\"><div class =\"message last\">mhm</div></div><div class=\"mine messages\"><div class =\"message last\">well new orleans and uh minneapolis</div></div> <div class=\"yours messages\"><div class =\"message last\">mhm well there\\\\\\'s lots of pretty country further west</div></div><div class=\"dots messages\"><div class=\"message\"> .  .  . </div></div>\\', \\'context_id\\': \\'sw3636_49\\', \\'q_id\\': \\'sw3636_49\\', \\'response_text\\': \"uh or maybe just because you know there\\'s there\\'s a lot more flat lands you know out in the west\", \\'response_print\\': \\'<div class=\"response_chat\"><div class=\"mine messages\"><div class=\"message last\">uh or maybe just because you know there\\\\\\'s there\\\\\\'s a lot more flat lands you know out in the west</div></div></div>\\', \\'response_id\\': \\'sw2724_60\\', \\'target\\': 0, \\'response_score\\': 0.9929695725440979}'"
      ]
     },
     "metadata": {},
     "output_type": "display_data"
    },
    {
     "data": {
      "text/plain": [
       "'Negative: {\\'context_text\\': [\\'mhm\\', \\'well new orleans and uh minneapolis\\', \"mhm well there\\'s lots of pretty country further west\"], \\'context_print\\': \\'<div class=\"chat\"><div class=\"dots messages\"><div class=\"message\"> .  .  . </div></div> <div class=\"yours messages\"><div class =\"message last\">mhm</div></div><div class=\"mine messages\"><div class =\"message last\">well new orleans and uh minneapolis</div></div> <div class=\"yours messages\"><div class =\"message last\">mhm well there\\\\\\'s lots of pretty country further west</div></div><div class=\"dots messages\"><div class=\"message\"> .  .  . </div></div>\\', \\'context_id\\': \\'sw3636_49\\', \\'q_id\\': \\'sw3636_49\\', \\'response_text\\': \"that\\'s true but i was thinking boy in dallas if somebody asked me if there were places you wouldn\\'t go by yourself at night i\\'d have to set them down for about five or ten minutes to list all the places out i mean\", \\'response_print\\': \\'<div class=\"response_chat\"><div class=\"mine messages\"><div class=\"message last\">that\\\\\\'s true but i was thinking boy in dallas if somebody asked me if there were places you wouldn\\\\\\'t go by yourself at night i\\\\\\'d have to set them down for about five or ten minutes to list all the places out i mean</div></div></div>\\', \\'response_id\\': \\'sw2525_78\\', \\'target\\': 0, \\'response_score\\': 0.9708179831504822}'"
      ]
     },
     "metadata": {},
     "output_type": "display_data"
    },
    {
     "data": {
      "text/plain": [
       "'Negative: {\\'context_text\\': [\\'mhm\\', \\'well new orleans and uh minneapolis\\', \"mhm well there\\'s lots of pretty country further west\"], \\'context_print\\': \\'<div class=\"chat\"><div class=\"dots messages\"><div class=\"message\"> .  .  . </div></div> <div class=\"yours messages\"><div class =\"message last\">mhm</div></div><div class=\"mine messages\"><div class =\"message last\">well new orleans and uh minneapolis</div></div> <div class=\"yours messages\"><div class =\"message last\">mhm well there\\\\\\'s lots of pretty country further west</div></div><div class=\"dots messages\"><div class=\"message\"> .  .  . </div></div>\\', \\'context_id\\': \\'sw3636_49\\', \\'q_id\\': \\'sw3636_49\\', \\'response_text\\': \\'originally um i was born in missouri\\', \\'response_print\\': \\'<div class=\"response_chat\"><div class=\"mine messages\"><div class=\"message last\">originally um i was born in missouri</div></div></div>\\', \\'response_id\\': \\'sw3725_52\\', \\'target\\': 0, \\'response_score\\': 0.9601345062255859}'"
      ]
     },
     "metadata": {},
     "output_type": "display_data"
    },
    {
     "data": {
      "text/plain": [
       "'Negative: {\\'context_text\\': [\\'mhm\\', \\'well new orleans and uh minneapolis\\', \"mhm well there\\'s lots of pretty country further west\"], \\'context_print\\': \\'<div class=\"chat\"><div class=\"dots messages\"><div class=\"message\"> .  .  . </div></div> <div class=\"yours messages\"><div class =\"message last\">mhm</div></div><div class=\"mine messages\"><div class =\"message last\">well new orleans and uh minneapolis</div></div> <div class=\"yours messages\"><div class =\"message last\">mhm well there\\\\\\'s lots of pretty country further west</div></div><div class=\"dots messages\"><div class=\"message\"> .  .  . </div></div>\\', \\'context_id\\': \\'sw3636_49\\', \\'q_id\\': \\'sw3636_49\\', \\'response_text\\': \\'yeah you know i i camped in the boy scouts and uh you know my dad and i went out sometimes but\\', \\'response_print\\': \\'<div class=\"response_chat\"><div class=\"mine messages\"><div class=\"message last\">yeah you know i i camped in the boy scouts and uh you know my dad and i went out sometimes but</div></div></div>\\', \\'response_id\\': \\'sw3750_8\\', \\'target\\': 0, \\'response_score\\': 0.9427639245986938}'"
      ]
     },
     "metadata": {},
     "output_type": "display_data"
    },
    {
     "name": "stderr",
     "output_type": "stream",
     "text": [
      " 80%|████████  | 4/5 [00:28<00:07,  7.00s/it]\n",
      "Prediction dataloader: 0it [00:00, ?it/s]\u001b[A"
     ]
    },
    {
     "name": "stdout",
     "output_type": "stream",
     "text": [
      "Batch[0] batch_size:100\n"
     ]
    },
    {
     "name": "stderr",
     "output_type": "stream",
     "text": [
      "\n",
      "Prediction dataloader: 1it [00:00,  1.31it/s]\u001b[A\n"
     ]
    },
    {
     "data": {
      "text/plain": [
       "'Target: {\\'context_text\\': [\"yeah well actually like i say it ain\\'t as bad this time because i was in shape when i got pregnant\", \\'right\\', \"i wasn\\'t out of shape i wasn\\'t overweight with when i got pregnant with him i just wasn\\'t in in shape i don\\'t know the difference but\"], \\'context_print\\': \\'<div class=\"chat\"><div class=\"dots messages\"><div class=\"message\"> .  .  . </div></div> <div class=\"yours messages\"><div class =\"message last\">yeah well actually like i say it ain\\\\\\'t as bad this time because i was in shape when i got pregnant</div></div><div class=\"mine messages\"><div class =\"message last\">right</div></div> <div class=\"yours messages\"><div class =\"message last\">i wasn\\\\\\'t out of shape i wasn\\\\\\'t overweight with when i got pregnant with him i just wasn\\\\\\'t in in shape i don\\\\\\'t know the difference but</div></div><div class=\"dots messages\"><div class=\"message\"> .  .  . </div></div>\\', \\'context_id\\': \\'sw2893_79\\', \\'q_id\\': \\'sw2893_79\\', \\'response_text\\': \\'yeah some people are a little bit fanatical about it\\', \\'response_print\\': \\'<div class=\"response_chat\"><div class=\"mine messages\"><div class=\"message last\">yeah some people are a little bit fanatical about it</div></div></div>\\', \\'response_id\\': \\'sw2893_80\\', \\'target\\': 1, \\'response_score\\': 0.012156042270362377}'"
      ]
     },
     "metadata": {},
     "output_type": "display_data"
    },
    {
     "data": {
      "text/plain": [
       "'Negative: {\\'context_text\\': [\"yeah well actually like i say it ain\\'t as bad this time because i was in shape when i got pregnant\", \\'right\\', \"i wasn\\'t out of shape i wasn\\'t overweight with when i got pregnant with him i just wasn\\'t in in shape i don\\'t know the difference but\"], \\'context_print\\': \\'<div class=\"chat\"><div class=\"dots messages\"><div class=\"message\"> .  .  . </div></div> <div class=\"yours messages\"><div class =\"message last\">yeah well actually like i say it ain\\\\\\'t as bad this time because i was in shape when i got pregnant</div></div><div class=\"mine messages\"><div class =\"message last\">right</div></div> <div class=\"yours messages\"><div class =\"message last\">i wasn\\\\\\'t out of shape i wasn\\\\\\'t overweight with when i got pregnant with him i just wasn\\\\\\'t in in shape i don\\\\\\'t know the difference but</div></div><div class=\"dots messages\"><div class=\"message\"> .  .  . </div></div>\\', \\'context_id\\': \\'sw2893_79\\', \\'q_id\\': \\'sw2893_79\\', \\'response_text\\': \"well yeah i think we\\'re getting\", \\'response_print\\': \\'<div class=\"response_chat\"><div class=\"mine messages\"><div class=\"message last\">well yeah i think we\\\\\\'re getting</div></div></div>\\', \\'response_id\\': \\'sw2962_57\\', \\'target\\': 0, \\'response_score\\': 0.9753043055534363}'"
      ]
     },
     "metadata": {},
     "output_type": "display_data"
    },
    {
     "data": {
      "text/plain": [
       "'Negative: {\\'context_text\\': [\"yeah well actually like i say it ain\\'t as bad this time because i was in shape when i got pregnant\", \\'right\\', \"i wasn\\'t out of shape i wasn\\'t overweight with when i got pregnant with him i just wasn\\'t in in shape i don\\'t know the difference but\"], \\'context_print\\': \\'<div class=\"chat\"><div class=\"dots messages\"><div class=\"message\"> .  .  . </div></div> <div class=\"yours messages\"><div class =\"message last\">yeah well actually like i say it ain\\\\\\'t as bad this time because i was in shape when i got pregnant</div></div><div class=\"mine messages\"><div class =\"message last\">right</div></div> <div class=\"yours messages\"><div class =\"message last\">i wasn\\\\\\'t out of shape i wasn\\\\\\'t overweight with when i got pregnant with him i just wasn\\\\\\'t in in shape i don\\\\\\'t know the difference but</div></div><div class=\"dots messages\"><div class=\"message\"> .  .  . </div></div>\\', \\'context_id\\': \\'sw2893_79\\', \\'q_id\\': \\'sw2893_79\\', \\'response_text\\': \\'have you uh you eaten yet or whatever\\', \\'response_print\\': \\'<div class=\"response_chat\"><div class=\"mine messages\"><div class=\"message last\">have you uh you eaten yet or whatever</div></div></div>\\', \\'response_id\\': \\'sw4080_74\\', \\'target\\': 0, \\'response_score\\': 0.9669544100761414}'"
      ]
     },
     "metadata": {},
     "output_type": "display_data"
    },
    {
     "data": {
      "text/plain": [
       "'Negative: {\\'context_text\\': [\"yeah well actually like i say it ain\\'t as bad this time because i was in shape when i got pregnant\", \\'right\\', \"i wasn\\'t out of shape i wasn\\'t overweight with when i got pregnant with him i just wasn\\'t in in shape i don\\'t know the difference but\"], \\'context_print\\': \\'<div class=\"chat\"><div class=\"dots messages\"><div class=\"message\"> .  .  . </div></div> <div class=\"yours messages\"><div class =\"message last\">yeah well actually like i say it ain\\\\\\'t as bad this time because i was in shape when i got pregnant</div></div><div class=\"mine messages\"><div class =\"message last\">right</div></div> <div class=\"yours messages\"><div class =\"message last\">i wasn\\\\\\'t out of shape i wasn\\\\\\'t overweight with when i got pregnant with him i just wasn\\\\\\'t in in shape i don\\\\\\'t know the difference but</div></div><div class=\"dots messages\"><div class=\"message\"> .  .  . </div></div>\\', \\'context_id\\': \\'sw2893_79\\', \\'q_id\\': \\'sw2893_79\\', \\'response_text\\': \"okay well then i think it i just started doing this so i don\\'t know too much about it\", \\'response_print\\': \\'<div class=\"response_chat\"><div class=\"mine messages\"><div class=\"message last\">okay well then i think it i just started doing this so i don\\\\\\'t know too much about it</div></div></div>\\', \\'response_id\\': \\'sw3012_7\\', \\'target\\': 0, \\'response_score\\': 0.9545596241950989}'"
      ]
     },
     "metadata": {},
     "output_type": "display_data"
    },
    {
     "data": {
      "text/plain": [
       "'Negative: {\\'context_text\\': [\"yeah well actually like i say it ain\\'t as bad this time because i was in shape when i got pregnant\", \\'right\\', \"i wasn\\'t out of shape i wasn\\'t overweight with when i got pregnant with him i just wasn\\'t in in shape i don\\'t know the difference but\"], \\'context_print\\': \\'<div class=\"chat\"><div class=\"dots messages\"><div class=\"message\"> .  .  . </div></div> <div class=\"yours messages\"><div class =\"message last\">yeah well actually like i say it ain\\\\\\'t as bad this time because i was in shape when i got pregnant</div></div><div class=\"mine messages\"><div class =\"message last\">right</div></div> <div class=\"yours messages\"><div class =\"message last\">i wasn\\\\\\'t out of shape i wasn\\\\\\'t overweight with when i got pregnant with him i just wasn\\\\\\'t in in shape i don\\\\\\'t know the difference but</div></div><div class=\"dots messages\"><div class=\"message\"> .  .  . </div></div>\\', \\'context_id\\': \\'sw2893_79\\', \\'q_id\\': \\'sw2893_79\\', \\'response_text\\': \"so i mean i like aerobics but i\\'m not so sure\", \\'response_print\\': \\'<div class=\"response_chat\"><div class=\"mine messages\"><div class=\"message last\">so i mean i like aerobics but i\\\\\\'m not so sure</div></div></div>\\', \\'response_id\\': \\'sw2433_52\\', \\'target\\': 0, \\'response_score\\': 0.9527527689933777}'"
      ]
     },
     "metadata": {},
     "output_type": "display_data"
    },
    {
     "name": "stderr",
     "output_type": "stream",
     "text": [
      "100%|██████████| 5/5 [00:35<00:00,  7.02s/it]\n"
     ]
    }
   ],
   "source": [
    "grid_df = make_bertfp_stimuli_df(5, 5, False,\n",
    "                                 dataset=discrim_dataset, corpus=wts_corpus, model=model, tokenizer=tokenizer, \n",
    "                                 n_negs=100-1, columns=COLS, sample_seed=123, max_grid_size=100\n",
    "                          )"
   ]
  },
  {
   "cell_type": "code",
   "execution_count": 74,
   "id": "641e8d2a",
   "metadata": {},
   "outputs": [
    {
     "name": "stderr",
     "output_type": "stream",
     "text": [
      "  0%|          | 0/5 [00:00<?, ?it/s]\n",
      "Prediction dataloader: 0it [00:00, ?it/s]\u001b[A"
     ]
    },
    {
     "name": "stdout",
     "output_type": "stream",
     "text": [
      "Batch[0] batch_size:100\n"
     ]
    },
    {
     "name": "stderr",
     "output_type": "stream",
     "text": [
      "\n",
      "Prediction dataloader: 1it [00:00,  1.30it/s]\u001b[A\n"
     ]
    },
    {
     "data": {
      "text/plain": [
       "'Target: {\\'context_text\\': [\\'yeah\\', \"i\\'ve been with them sixteen\", \\'yeah i can imagine you know the longer and longer it goes\\'], \\'context_print\\': \\'<div class=\"chat\"><div class=\"dots messages\"><div class=\"message\"> .  .  . </div></div> <div class=\"yours messages\"><div class =\"message last\">yeah</div></div><div class=\"mine messages\"><div class =\"message last\">i\\\\\\'ve been with them sixteen</div></div> <div class=\"yours messages\"><div class =\"message last\">yeah i can imagine you know the longer and longer it goes</div></div><div class=\"dots messages\"><div class=\"message\"> .  .  . </div></div>\\', \\'context_id\\': \\'sw2645_109\\', \\'q_id\\': \\'sw2645_109\\', \\'response_text\\': \\'actually seventeen now and oh yeah momentum is uh driving force in our lives\\', \\'response_print\\': \\'<div class=\"response_chat\"><div class=\"mine messages\"><div class=\"message last\">actually seventeen now and oh yeah momentum is uh driving force in our lives</div></div></div>\\', \\'response_id\\': \\'sw2645_110\\', \\'target\\': 1, \\'response_score\\': 0.9951044321060181}'"
      ]
     },
     "metadata": {},
     "output_type": "display_data"
    },
    {
     "data": {
      "text/plain": [
       "'Negative: {\\'context_text\\': [\\'yeah\\', \"i\\'ve been with them sixteen\", \\'yeah i can imagine you know the longer and longer it goes\\'], \\'context_print\\': \\'<div class=\"chat\"><div class=\"dots messages\"><div class=\"message\"> .  .  . </div></div> <div class=\"yours messages\"><div class =\"message last\">yeah</div></div><div class=\"mine messages\"><div class =\"message last\">i\\\\\\'ve been with them sixteen</div></div> <div class=\"yours messages\"><div class =\"message last\">yeah i can imagine you know the longer and longer it goes</div></div><div class=\"dots messages\"><div class=\"message\"> .  .  . </div></div>\\', \\'context_id\\': \\'sw2645_109\\', \\'q_id\\': \\'sw2645_109\\', \\'response_text\\': \\'and last year there were six and this guy is indicted on three of them\\', \\'response_print\\': \\'<div class=\"response_chat\"><div class=\"mine messages\"><div class=\"message last\">and last year there were six and this guy is indicted on three of them</div></div></div>\\', \\'response_id\\': \\'sw3503_21\\', \\'target\\': 0, \\'response_score\\': 0.011539951898157597}'"
      ]
     },
     "metadata": {},
     "output_type": "display_data"
    },
    {
     "data": {
      "text/plain": [
       "'Negative: {\\'context_text\\': [\\'yeah\\', \"i\\'ve been with them sixteen\", \\'yeah i can imagine you know the longer and longer it goes\\'], \\'context_print\\': \\'<div class=\"chat\"><div class=\"dots messages\"><div class=\"message\"> .  .  . </div></div> <div class=\"yours messages\"><div class =\"message last\">yeah</div></div><div class=\"mine messages\"><div class =\"message last\">i\\\\\\'ve been with them sixteen</div></div> <div class=\"yours messages\"><div class =\"message last\">yeah i can imagine you know the longer and longer it goes</div></div><div class=\"dots messages\"><div class=\"message\"> .  .  . </div></div>\\', \\'context_id\\': \\'sw2645_109\\', \\'q_id\\': \\'sw2645_109\\', \\'response_text\\': \\'but it then became unanimous so\\', \\'response_print\\': \\'<div class=\"response_chat\"><div class=\"mine messages\"><div class=\"message last\">but it then became unanimous so</div></div></div>\\', \\'response_id\\': \\'sw4036_23\\', \\'target\\': 0, \\'response_score\\': 0.011853501200675964}'"
      ]
     },
     "metadata": {},
     "output_type": "display_data"
    },
    {
     "data": {
      "text/plain": [
       "'Negative: {\\'context_text\\': [\\'yeah\\', \"i\\'ve been with them sixteen\", \\'yeah i can imagine you know the longer and longer it goes\\'], \\'context_print\\': \\'<div class=\"chat\"><div class=\"dots messages\"><div class=\"message\"> .  .  . </div></div> <div class=\"yours messages\"><div class =\"message last\">yeah</div></div><div class=\"mine messages\"><div class =\"message last\">i\\\\\\'ve been with them sixteen</div></div> <div class=\"yours messages\"><div class =\"message last\">yeah i can imagine you know the longer and longer it goes</div></div><div class=\"dots messages\"><div class=\"message\"> .  .  . </div></div>\\', \\'context_id\\': \\'sw2645_109\\', \\'q_id\\': \\'sw2645_109\\', \\'response_text\\': \"or you hear somebody already starting reading reading off a list of stuff that they\\'ve read probably a thousand times that day already\", \\'response_print\\': \\'<div class=\"response_chat\"><div class=\"mine messages\"><div class=\"message last\">or you hear somebody already starting reading reading off a list of stuff that they\\\\\\'ve read probably a thousand times that day already</div></div></div>\\', \\'response_id\\': \\'sw2015_6\\', \\'target\\': 0, \\'response_score\\': 0.012086639180779457}'"
      ]
     },
     "metadata": {},
     "output_type": "display_data"
    },
    {
     "data": {
      "text/plain": [
       "'Negative: {\\'context_text\\': [\\'yeah\\', \"i\\'ve been with them sixteen\", \\'yeah i can imagine you know the longer and longer it goes\\'], \\'context_print\\': \\'<div class=\"chat\"><div class=\"dots messages\"><div class=\"message\"> .  .  . </div></div> <div class=\"yours messages\"><div class =\"message last\">yeah</div></div><div class=\"mine messages\"><div class =\"message last\">i\\\\\\'ve been with them sixteen</div></div> <div class=\"yours messages\"><div class =\"message last\">yeah i can imagine you know the longer and longer it goes</div></div><div class=\"dots messages\"><div class=\"message\"> .  .  . </div></div>\\', \\'context_id\\': \\'sw2645_109\\', \\'q_id\\': \\'sw2645_109\\', \\'response_text\\': \"don\\'t necessarily come true in their voting in the senate or congress whatever\", \\'response_print\\': \\'<div class=\"response_chat\"><div class=\"mine messages\"><div class=\"message last\">don\\\\\\'t necessarily come true in their voting in the senate or congress whatever</div></div></div>\\', \\'response_id\\': \\'sw3309_12\\', \\'target\\': 0, \\'response_score\\': 0.012506719678640366}'"
      ]
     },
     "metadata": {},
     "output_type": "display_data"
    },
    {
     "name": "stderr",
     "output_type": "stream",
     "text": [
      " 20%|██        | 1/5 [00:07<00:28,  7.02s/it]\n",
      "Prediction dataloader: 0it [00:00, ?it/s]\u001b[A"
     ]
    },
    {
     "name": "stdout",
     "output_type": "stream",
     "text": [
      "Batch[0] batch_size:100\n"
     ]
    },
    {
     "name": "stderr",
     "output_type": "stream",
     "text": [
      "\n",
      "Prediction dataloader: 1it [00:00,  1.36it/s]\u001b[A\n"
     ]
    },
    {
     "data": {
      "text/plain": [
       "'Target: {\\'context_text\\': [\"you know yeah honestly um i don\\'t do as much reading like i say as i would like to we\\'ve been working a lot of hours at work and\", \\'really\\', \"yeah and then of course we have a home so it\\'s you know a lot time is spent doing things as far as the yard work or housework or\"], \\'context_print\\': \\'<div class=\"chat\"><div class=\"dots messages\"><div class=\"message\"> .  .  . </div></div> <div class=\"yours messages\"><div class =\"message last\">you know yeah honestly um i don\\\\\\'t do as much reading like i say as i would like to we\\\\\\'ve been working a lot of hours at work and</div></div><div class=\"mine messages\"><div class =\"message last\">really</div></div> <div class=\"yours messages\"><div class =\"message last\">yeah and then of course we have a home so it\\\\\\'s you know a lot time is spent doing things as far as the yard work or housework or</div></div><div class=\"dots messages\"><div class=\"message\"> .  .  . </div></div>\\', \\'context_id\\': \\'sw2792_35\\', \\'q_id\\': \\'sw2792_35\\', \\'response_text\\': \\'yeah\\', \\'response_print\\': \\'<div class=\"response_chat\"><div class=\"mine messages\"><div class=\"message last\">yeah</div></div></div>\\', \\'response_id\\': \\'sw2792_36\\', \\'target\\': 1, \\'response_score\\': 0.5069614052772522}'"
      ]
     },
     "metadata": {},
     "output_type": "display_data"
    },
    {
     "data": {
      "text/plain": [
       "'Negative: {\\'context_text\\': [\"you know yeah honestly um i don\\'t do as much reading like i say as i would like to we\\'ve been working a lot of hours at work and\", \\'really\\', \"yeah and then of course we have a home so it\\'s you know a lot time is spent doing things as far as the yard work or housework or\"], \\'context_print\\': \\'<div class=\"chat\"><div class=\"dots messages\"><div class=\"message\"> .  .  . </div></div> <div class=\"yours messages\"><div class =\"message last\">you know yeah honestly um i don\\\\\\'t do as much reading like i say as i would like to we\\\\\\'ve been working a lot of hours at work and</div></div><div class=\"mine messages\"><div class =\"message last\">really</div></div> <div class=\"yours messages\"><div class =\"message last\">yeah and then of course we have a home so it\\\\\\'s you know a lot time is spent doing things as far as the yard work or housework or</div></div><div class=\"dots messages\"><div class=\"message\"> .  .  . </div></div>\\', \\'context_id\\': \\'sw2792_35\\', \\'q_id\\': \\'sw2792_35\\', \\'response_text\\': \\'but you know i think they can test all they want for drugs you know and\\', \\'response_print\\': \\'<div class=\"response_chat\"><div class=\"mine messages\"><div class=\"message last\">but you know i think they can test all they want for drugs you know and</div></div></div>\\', \\'response_id\\': \\'sw3174_15\\', \\'target\\': 0, \\'response_score\\': 0.010325009934604168}'"
      ]
     },
     "metadata": {},
     "output_type": "display_data"
    },
    {
     "data": {
      "text/plain": [
       "'Negative: {\\'context_text\\': [\"you know yeah honestly um i don\\'t do as much reading like i say as i would like to we\\'ve been working a lot of hours at work and\", \\'really\\', \"yeah and then of course we have a home so it\\'s you know a lot time is spent doing things as far as the yard work or housework or\"], \\'context_print\\': \\'<div class=\"chat\"><div class=\"dots messages\"><div class=\"message\"> .  .  . </div></div> <div class=\"yours messages\"><div class =\"message last\">you know yeah honestly um i don\\\\\\'t do as much reading like i say as i would like to we\\\\\\'ve been working a lot of hours at work and</div></div><div class=\"mine messages\"><div class =\"message last\">really</div></div> <div class=\"yours messages\"><div class =\"message last\">yeah and then of course we have a home so it\\\\\\'s you know a lot time is spent doing things as far as the yard work or housework or</div></div><div class=\"dots messages\"><div class=\"message\"> .  .  . </div></div>\\', \\'context_id\\': \\'sw2792_35\\', \\'q_id\\': \\'sw2792_35\\', \\'response_text\\': \"yeah i haven\\'t i haven\\'t played in about two years and then i went out two weeks ago with the guys here i work at ti\", \\'response_print\\': \\'<div class=\"response_chat\"><div class=\"mine messages\"><div class=\"message last\">yeah i haven\\\\\\'t i haven\\\\\\'t played in about two years and then i went out two weeks ago with the guys here i work at ti</div></div></div>\\', \\'response_id\\': \\'sw2331_6\\', \\'target\\': 0, \\'response_score\\': 0.010515175759792328}'"
      ]
     },
     "metadata": {},
     "output_type": "display_data"
    },
    {
     "data": {
      "text/plain": [
       "'Negative: {\\'context_text\\': [\"you know yeah honestly um i don\\'t do as much reading like i say as i would like to we\\'ve been working a lot of hours at work and\", \\'really\\', \"yeah and then of course we have a home so it\\'s you know a lot time is spent doing things as far as the yard work or housework or\"], \\'context_print\\': \\'<div class=\"chat\"><div class=\"dots messages\"><div class=\"message\"> .  .  . </div></div> <div class=\"yours messages\"><div class =\"message last\">you know yeah honestly um i don\\\\\\'t do as much reading like i say as i would like to we\\\\\\'ve been working a lot of hours at work and</div></div><div class=\"mine messages\"><div class =\"message last\">really</div></div> <div class=\"yours messages\"><div class =\"message last\">yeah and then of course we have a home so it\\\\\\'s you know a lot time is spent doing things as far as the yard work or housework or</div></div><div class=\"dots messages\"><div class=\"message\"> .  .  . </div></div>\\', \\'context_id\\': \\'sw2792_35\\', \\'q_id\\': \\'sw2792_35\\', \\'response_text\\': \\'right well you see that with the foreigners that come here\\', \\'response_print\\': \\'<div class=\"response_chat\"><div class=\"mine messages\"><div class=\"message last\">right well you see that with the foreigners that come here</div></div></div>\\', \\'response_id\\': \\'sw3062_76\\', \\'target\\': 0, \\'response_score\\': 0.01055126078426838}'"
      ]
     },
     "metadata": {},
     "output_type": "display_data"
    },
    {
     "data": {
      "text/plain": [
       "'Negative: {\\'context_text\\': [\"you know yeah honestly um i don\\'t do as much reading like i say as i would like to we\\'ve been working a lot of hours at work and\", \\'really\\', \"yeah and then of course we have a home so it\\'s you know a lot time is spent doing things as far as the yard work or housework or\"], \\'context_print\\': \\'<div class=\"chat\"><div class=\"dots messages\"><div class=\"message\"> .  .  . </div></div> <div class=\"yours messages\"><div class =\"message last\">you know yeah honestly um i don\\\\\\'t do as much reading like i say as i would like to we\\\\\\'ve been working a lot of hours at work and</div></div><div class=\"mine messages\"><div class =\"message last\">really</div></div> <div class=\"yours messages\"><div class =\"message last\">yeah and then of course we have a home so it\\\\\\'s you know a lot time is spent doing things as far as the yard work or housework or</div></div><div class=\"dots messages\"><div class=\"message\"> .  .  . </div></div>\\', \\'context_id\\': \\'sw2792_35\\', \\'q_id\\': \\'sw2792_35\\', \\'response_text\\': \\'i camp uh every month uh camp at least one weekend and during the summer we camp uh two or three weeks a year\\', \\'response_print\\': \\'<div class=\"response_chat\"><div class=\"mine messages\"><div class=\"message last\">i camp uh every month uh camp at least one weekend and during the summer we camp uh two or three weeks a year</div></div></div>\\', \\'response_id\\': \\'sw4055_5\\', \\'target\\': 0, \\'response_score\\': 0.010607401840388775}'"
      ]
     },
     "metadata": {},
     "output_type": "display_data"
    },
    {
     "name": "stderr",
     "output_type": "stream",
     "text": [
      " 40%|████      | 2/5 [00:14<00:21,  7.01s/it]\n",
      "Prediction dataloader: 0it [00:00, ?it/s]\u001b[A"
     ]
    },
    {
     "name": "stdout",
     "output_type": "stream",
     "text": [
      "Batch[0] batch_size:100\n"
     ]
    },
    {
     "name": "stderr",
     "output_type": "stream",
     "text": [
      "\n",
      "Prediction dataloader: 1it [00:00,  1.36it/s]\u001b[A\n"
     ]
    },
    {
     "data": {
      "text/plain": [
       "'Target: {\\'context_text\\': [\\'well have you ever thought about coming to louisiana you know to visit\\', \\'i would love to\\', \"yeah you ought to come down um you don\\'t even have to go all the way to new orleans you know if you want to really get some good food\"], \\'context_print\\': \\'<div class=\"chat\"><div class=\"dots messages\"><div class=\"message\"> .  .  . </div></div> <div class=\"yours messages\"><div class =\"message last\">well have you ever thought about coming to louisiana you know to visit</div></div><div class=\"mine messages\"><div class =\"message last\">i would love to</div></div> <div class=\"yours messages\"><div class =\"message last\">yeah you ought to come down um you don\\\\\\'t even have to go all the way to new orleans you know if you want to really get some good food</div></div><div class=\"dots messages\"><div class=\"message\"> .  .  . </div></div>\\', \\'context_id\\': \\'sw2608_162\\', \\'q_id\\': \\'sw2608_162\\', \\'response_text\\': \\'really\\', \\'response_print\\': \\'<div class=\"response_chat\"><div class=\"mine messages\"><div class=\"message last\">really</div></div></div>\\', \\'response_id\\': \\'sw2608_163\\', \\'target\\': 1, \\'response_score\\': 0.7633330225944519}'"
      ]
     },
     "metadata": {},
     "output_type": "display_data"
    },
    {
     "data": {
      "text/plain": [
       "'Negative: {\\'context_text\\': [\\'well have you ever thought about coming to louisiana you know to visit\\', \\'i would love to\\', \"yeah you ought to come down um you don\\'t even have to go all the way to new orleans you know if you want to really get some good food\"], \\'context_print\\': \\'<div class=\"chat\"><div class=\"dots messages\"><div class=\"message\"> .  .  . </div></div> <div class=\"yours messages\"><div class =\"message last\">well have you ever thought about coming to louisiana you know to visit</div></div><div class=\"mine messages\"><div class =\"message last\">i would love to</div></div> <div class=\"yours messages\"><div class =\"message last\">yeah you ought to come down um you don\\\\\\'t even have to go all the way to new orleans you know if you want to really get some good food</div></div><div class=\"dots messages\"><div class=\"message\"> .  .  . </div></div>\\', \\'context_id\\': \\'sw2608_162\\', \\'q_id\\': \\'sw2608_162\\', \\'response_text\\': \"and that i know is run by the state but there may be other things i\\'m not so sure what kind of uh training that is for the future for those kids\", \\'response_print\\': \\'<div class=\"response_chat\"><div class=\"mine messages\"><div class=\"message last\">and that i know is run by the state but there may be other things i\\\\\\'m not so sure what kind of uh training that is for the future for those kids</div></div></div>\\', \\'response_id\\': \\'sw2558_56\\', \\'target\\': 0, \\'response_score\\': 0.010112100280821323}'"
      ]
     },
     "metadata": {},
     "output_type": "display_data"
    },
    {
     "data": {
      "text/plain": [
       "'Negative: {\\'context_text\\': [\\'well have you ever thought about coming to louisiana you know to visit\\', \\'i would love to\\', \"yeah you ought to come down um you don\\'t even have to go all the way to new orleans you know if you want to really get some good food\"], \\'context_print\\': \\'<div class=\"chat\"><div class=\"dots messages\"><div class=\"message\"> .  .  . </div></div> <div class=\"yours messages\"><div class =\"message last\">well have you ever thought about coming to louisiana you know to visit</div></div><div class=\"mine messages\"><div class =\"message last\">i would love to</div></div> <div class=\"yours messages\"><div class =\"message last\">yeah you ought to come down um you don\\\\\\'t even have to go all the way to new orleans you know if you want to really get some good food</div></div><div class=\"dots messages\"><div class=\"message\"> .  .  . </div></div>\\', \\'context_id\\': \\'sw2608_162\\', \\'q_id\\': \\'sw2608_162\\', \\'response_text\\': \"excuse me i see it being done i know of a friend that works for my lawyer that has had no training whatsoever and she\\'s training her\", \\'response_print\\': \\'<div class=\"response_chat\"><div class=\"mine messages\"><div class=\"message last\">excuse me i see it being done i know of a friend that works for my lawyer that has had no training whatsoever and she\\\\\\'s training her</div></div></div>\\', \\'response_id\\': \\'sw2708_29\\', \\'target\\': 0, \\'response_score\\': 0.010208259336650372}'"
      ]
     },
     "metadata": {},
     "output_type": "display_data"
    },
    {
     "data": {
      "text/plain": [
       "'Negative: {\\'context_text\\': [\\'well have you ever thought about coming to louisiana you know to visit\\', \\'i would love to\\', \"yeah you ought to come down um you don\\'t even have to go all the way to new orleans you know if you want to really get some good food\"], \\'context_print\\': \\'<div class=\"chat\"><div class=\"dots messages\"><div class=\"message\"> .  .  . </div></div> <div class=\"yours messages\"><div class =\"message last\">well have you ever thought about coming to louisiana you know to visit</div></div><div class=\"mine messages\"><div class =\"message last\">i would love to</div></div> <div class=\"yours messages\"><div class =\"message last\">yeah you ought to come down um you don\\\\\\'t even have to go all the way to new orleans you know if you want to really get some good food</div></div><div class=\"dots messages\"><div class=\"message\"> .  .  . </div></div>\\', \\'context_id\\': \\'sw2608_162\\', \\'q_id\\': \\'sw2608_162\\', \\'response_text\\': \"and a lot of his problems had to do with money mostly i know a lot of a lot of if you have more money it\\'s just logical that you can provide a better school system\", \\'response_print\\': \\'<div class=\"response_chat\"><div class=\"mine messages\"><div class=\"message last\">and a lot of his problems had to do with money mostly i know a lot of a lot of if you have more money it\\\\\\'s just logical that you can provide a better school system</div></div></div>\\', \\'response_id\\': \\'sw3375_29\\', \\'target\\': 0, \\'response_score\\': 0.010422728955745697}'"
      ]
     },
     "metadata": {},
     "output_type": "display_data"
    },
    {
     "data": {
      "text/plain": [
       "'Negative: {\\'context_text\\': [\\'well have you ever thought about coming to louisiana you know to visit\\', \\'i would love to\\', \"yeah you ought to come down um you don\\'t even have to go all the way to new orleans you know if you want to really get some good food\"], \\'context_print\\': \\'<div class=\"chat\"><div class=\"dots messages\"><div class=\"message\"> .  .  . </div></div> <div class=\"yours messages\"><div class =\"message last\">well have you ever thought about coming to louisiana you know to visit</div></div><div class=\"mine messages\"><div class =\"message last\">i would love to</div></div> <div class=\"yours messages\"><div class =\"message last\">yeah you ought to come down um you don\\\\\\'t even have to go all the way to new orleans you know if you want to really get some good food</div></div><div class=\"dots messages\"><div class=\"message\"> .  .  . </div></div>\\', \\'context_id\\': \\'sw2608_162\\', \\'q_id\\': \\'sw2608_162\\', \\'response_text\\': \\'have you ever had it to crack or break or leak\\', \\'response_print\\': \\'<div class=\"response_chat\"><div class=\"mine messages\"><div class=\"message last\">have you ever had it to crack or break or leak</div></div></div>\\', \\'response_id\\': \\'sw3586_63\\', \\'target\\': 0, \\'response_score\\': 0.010425243526697159}'"
      ]
     },
     "metadata": {},
     "output_type": "display_data"
    },
    {
     "name": "stderr",
     "output_type": "stream",
     "text": [
      " 60%|██████    | 3/5 [00:20<00:13,  6.99s/it]\n",
      "Prediction dataloader: 0it [00:00, ?it/s]\u001b[A"
     ]
    },
    {
     "name": "stdout",
     "output_type": "stream",
     "text": [
      "Batch[0] batch_size:100\n"
     ]
    },
    {
     "name": "stderr",
     "output_type": "stream",
     "text": [
      "\n",
      "Prediction dataloader: 1it [00:00,  1.36it/s]\u001b[A\n"
     ]
    },
    {
     "data": {
      "text/plain": [
       "'Target: {\\'context_text\\': [\\'mhm\\', \\'well new orleans and uh minneapolis\\', \"mhm well there\\'s lots of pretty country further west\"], \\'context_print\\': \\'<div class=\"chat\"><div class=\"dots messages\"><div class=\"message\"> .  .  . </div></div> <div class=\"yours messages\"><div class =\"message last\">mhm</div></div><div class=\"mine messages\"><div class =\"message last\">well new orleans and uh minneapolis</div></div> <div class=\"yours messages\"><div class =\"message last\">mhm well there\\\\\\'s lots of pretty country further west</div></div><div class=\"dots messages\"><div class=\"message\"> .  .  . </div></div>\\', \\'context_id\\': \\'sw3636_49\\', \\'q_id\\': \\'sw3636_49\\', \\'response_text\\': \\'oh yeah\\', \\'response_print\\': \\'<div class=\"response_chat\"><div class=\"mine messages\"><div class=\"message last\">oh yeah</div></div></div>\\', \\'response_id\\': \\'sw3636_50\\', \\'target\\': 1, \\'response_score\\': 0.6204338669776917}'"
      ]
     },
     "metadata": {},
     "output_type": "display_data"
    },
    {
     "data": {
      "text/plain": [
       "'Negative: {\\'context_text\\': [\\'mhm\\', \\'well new orleans and uh minneapolis\\', \"mhm well there\\'s lots of pretty country further west\"], \\'context_print\\': \\'<div class=\"chat\"><div class=\"dots messages\"><div class=\"message\"> .  .  . </div></div> <div class=\"yours messages\"><div class =\"message last\">mhm</div></div><div class=\"mine messages\"><div class =\"message last\">well new orleans and uh minneapolis</div></div> <div class=\"yours messages\"><div class =\"message last\">mhm well there\\\\\\'s lots of pretty country further west</div></div><div class=\"dots messages\"><div class=\"message\"> .  .  . </div></div>\\', \\'context_id\\': \\'sw3636_49\\', \\'q_id\\': \\'sw3636_49\\', \\'response_text\\': \"i understand i understand that they\\'re now covering women\\'s preventative health care\", \\'response_print\\': \\'<div class=\"response_chat\"><div class=\"mine messages\"><div class=\"message last\">i understand i understand that they\\\\\\'re now covering women\\\\\\'s preventative health care</div></div></div>\\', \\'response_id\\': \\'sw2382_55\\', \\'target\\': 0, \\'response_score\\': 0.011031451635062695}'"
      ]
     },
     "metadata": {},
     "output_type": "display_data"
    },
    {
     "data": {
      "text/plain": [
       "'Negative: {\\'context_text\\': [\\'mhm\\', \\'well new orleans and uh minneapolis\\', \"mhm well there\\'s lots of pretty country further west\"], \\'context_print\\': \\'<div class=\"chat\"><div class=\"dots messages\"><div class=\"message\"> .  .  . </div></div> <div class=\"yours messages\"><div class =\"message last\">mhm</div></div><div class=\"mine messages\"><div class =\"message last\">well new orleans and uh minneapolis</div></div> <div class=\"yours messages\"><div class =\"message last\">mhm well there\\\\\\'s lots of pretty country further west</div></div><div class=\"dots messages\"><div class=\"message\"> .  .  . </div></div>\\', \\'context_id\\': \\'sw3636_49\\', \\'q_id\\': \\'sw3636_49\\', \\'response_text\\': \"he\\'s like a semi government type agent who goes out then to uh works for the phoenix foundation supposedly\", \\'response_print\\': \\'<div class=\"response_chat\"><div class=\"mine messages\"><div class=\"message last\">he\\\\\\'s like a semi government type agent who goes out then to uh works for the phoenix foundation supposedly</div></div></div>\\', \\'response_id\\': \\'sw2102_18\\', \\'target\\': 0, \\'response_score\\': 0.011227217502892017}'"
      ]
     },
     "metadata": {},
     "output_type": "display_data"
    },
    {
     "data": {
      "text/plain": [
       "'Negative: {\\'context_text\\': [\\'mhm\\', \\'well new orleans and uh minneapolis\\', \"mhm well there\\'s lots of pretty country further west\"], \\'context_print\\': \\'<div class=\"chat\"><div class=\"dots messages\"><div class=\"message\"> .  .  . </div></div> <div class=\"yours messages\"><div class =\"message last\">mhm</div></div><div class=\"mine messages\"><div class =\"message last\">well new orleans and uh minneapolis</div></div> <div class=\"yours messages\"><div class =\"message last\">mhm well there\\\\\\'s lots of pretty country further west</div></div><div class=\"dots messages\"><div class=\"message\"> .  .  . </div></div>\\', \\'context_id\\': \\'sw3636_49\\', \\'q_id\\': \\'sw3636_49\\', \\'response_text\\': \"well no that\\'s it you could interpret it that way\", \\'response_print\\': \\'<div class=\"response_chat\"><div class=\"mine messages\"><div class=\"message last\">well no that\\\\\\'s it you could interpret it that way</div></div></div>\\', \\'response_id\\': \\'sw2039_95\\', \\'target\\': 0, \\'response_score\\': 0.012335659004747868}'"
      ]
     },
     "metadata": {},
     "output_type": "display_data"
    },
    {
     "data": {
      "text/plain": [
       "'Negative: {\\'context_text\\': [\\'mhm\\', \\'well new orleans and uh minneapolis\\', \"mhm well there\\'s lots of pretty country further west\"], \\'context_print\\': \\'<div class=\"chat\"><div class=\"dots messages\"><div class=\"message\"> .  .  . </div></div> <div class=\"yours messages\"><div class =\"message last\">mhm</div></div><div class=\"mine messages\"><div class =\"message last\">well new orleans and uh minneapolis</div></div> <div class=\"yours messages\"><div class =\"message last\">mhm well there\\\\\\'s lots of pretty country further west</div></div><div class=\"dots messages\"><div class=\"message\"> .  .  . </div></div>\\', \\'context_id\\': \\'sw3636_49\\', \\'q_id\\': \\'sw3636_49\\', \\'response_text\\': \\'i i would settle for the glitz for the glitz if the side effects were useful if they oh but uh\\', \\'response_print\\': \\'<div class=\"response_chat\"><div class=\"mine messages\"><div class=\"message last\">i i would settle for the glitz for the glitz if the side effects were useful if they oh but uh</div></div></div>\\', \\'response_id\\': \\'sw4796_57\\', \\'target\\': 0, \\'response_score\\': 0.01246738899499178}'"
      ]
     },
     "metadata": {},
     "output_type": "display_data"
    },
    {
     "name": "stderr",
     "output_type": "stream",
     "text": [
      " 80%|████████  | 4/5 [00:27<00:06,  7.00s/it]\n",
      "Prediction dataloader: 0it [00:00, ?it/s]\u001b[A"
     ]
    },
    {
     "name": "stdout",
     "output_type": "stream",
     "text": [
      "Batch[0] batch_size:100\n"
     ]
    },
    {
     "name": "stderr",
     "output_type": "stream",
     "text": [
      "\n",
      "Prediction dataloader: 1it [00:00,  1.36it/s]\u001b[A\n"
     ]
    },
    {
     "data": {
      "text/plain": [
       "'Target: {\\'context_text\\': [\"yeah well actually like i say it ain\\'t as bad this time because i was in shape when i got pregnant\", \\'right\\', \"i wasn\\'t out of shape i wasn\\'t overweight with when i got pregnant with him i just wasn\\'t in in shape i don\\'t know the difference but\"], \\'context_print\\': \\'<div class=\"chat\"><div class=\"dots messages\"><div class=\"message\"> .  .  . </div></div> <div class=\"yours messages\"><div class =\"message last\">yeah well actually like i say it ain\\\\\\'t as bad this time because i was in shape when i got pregnant</div></div><div class=\"mine messages\"><div class =\"message last\">right</div></div> <div class=\"yours messages\"><div class =\"message last\">i wasn\\\\\\'t out of shape i wasn\\\\\\'t overweight with when i got pregnant with him i just wasn\\\\\\'t in in shape i don\\\\\\'t know the difference but</div></div><div class=\"dots messages\"><div class=\"message\"> .  .  . </div></div>\\', \\'context_id\\': \\'sw2893_79\\', \\'q_id\\': \\'sw2893_79\\', \\'response_text\\': \\'yeah some people are a little bit fanatical about it\\', \\'response_print\\': \\'<div class=\"response_chat\"><div class=\"mine messages\"><div class=\"message last\">yeah some people are a little bit fanatical about it</div></div></div>\\', \\'response_id\\': \\'sw2893_80\\', \\'target\\': 1, \\'response_score\\': 0.012156042270362377}'"
      ]
     },
     "metadata": {},
     "output_type": "display_data"
    },
    {
     "data": {
      "text/plain": [
       "'Negative: {\\'context_text\\': [\"yeah well actually like i say it ain\\'t as bad this time because i was in shape when i got pregnant\", \\'right\\', \"i wasn\\'t out of shape i wasn\\'t overweight with when i got pregnant with him i just wasn\\'t in in shape i don\\'t know the difference but\"], \\'context_print\\': \\'<div class=\"chat\"><div class=\"dots messages\"><div class=\"message\"> .  .  . </div></div> <div class=\"yours messages\"><div class =\"message last\">yeah well actually like i say it ain\\\\\\'t as bad this time because i was in shape when i got pregnant</div></div><div class=\"mine messages\"><div class =\"message last\">right</div></div> <div class=\"yours messages\"><div class =\"message last\">i wasn\\\\\\'t out of shape i wasn\\\\\\'t overweight with when i got pregnant with him i just wasn\\\\\\'t in in shape i don\\\\\\'t know the difference but</div></div><div class=\"dots messages\"><div class=\"message\"> .  .  . </div></div>\\', \\'context_id\\': \\'sw2893_79\\', \\'q_id\\': \\'sw2893_79\\', \\'response_text\\': \"and they\\'re only there to perpetuate their own their own power structure\", \\'response_print\\': \\'<div class=\"response_chat\"><div class=\"mine messages\"><div class=\"message last\">and they\\\\\\'re only there to perpetuate their own their own power structure</div></div></div>\\', \\'response_id\\': \\'sw2441_150\\', \\'target\\': 0, \\'response_score\\': 0.00982337910681963}'"
      ]
     },
     "metadata": {},
     "output_type": "display_data"
    },
    {
     "data": {
      "text/plain": [
       "'Negative: {\\'context_text\\': [\"yeah well actually like i say it ain\\'t as bad this time because i was in shape when i got pregnant\", \\'right\\', \"i wasn\\'t out of shape i wasn\\'t overweight with when i got pregnant with him i just wasn\\'t in in shape i don\\'t know the difference but\"], \\'context_print\\': \\'<div class=\"chat\"><div class=\"dots messages\"><div class=\"message\"> .  .  . </div></div> <div class=\"yours messages\"><div class =\"message last\">yeah well actually like i say it ain\\\\\\'t as bad this time because i was in shape when i got pregnant</div></div><div class=\"mine messages\"><div class =\"message last\">right</div></div> <div class=\"yours messages\"><div class =\"message last\">i wasn\\\\\\'t out of shape i wasn\\\\\\'t overweight with when i got pregnant with him i just wasn\\\\\\'t in in shape i don\\\\\\'t know the difference but</div></div><div class=\"dots messages\"><div class=\"message\"> .  .  . </div></div>\\', \\'context_id\\': \\'sw2893_79\\', \\'q_id\\': \\'sw2893_79\\', \\'response_text\\': \"so i\\'ve heard that\\'s really on the rise as far as um you know a new type of crime\", \\'response_print\\': \\'<div class=\"response_chat\"><div class=\"mine messages\"><div class=\"message last\">so i\\\\\\'ve heard that\\\\\\'s really on the rise as far as um you know a new type of crime</div></div></div>\\', \\'response_id\\': \\'sw4608_34\\', \\'target\\': 0, \\'response_score\\': 0.009965488687157631}'"
      ]
     },
     "metadata": {},
     "output_type": "display_data"
    },
    {
     "data": {
      "text/plain": [
       "'Negative: {\\'context_text\\': [\"yeah well actually like i say it ain\\'t as bad this time because i was in shape when i got pregnant\", \\'right\\', \"i wasn\\'t out of shape i wasn\\'t overweight with when i got pregnant with him i just wasn\\'t in in shape i don\\'t know the difference but\"], \\'context_print\\': \\'<div class=\"chat\"><div class=\"dots messages\"><div class=\"message\"> .  .  . </div></div> <div class=\"yours messages\"><div class =\"message last\">yeah well actually like i say it ain\\\\\\'t as bad this time because i was in shape when i got pregnant</div></div><div class=\"mine messages\"><div class =\"message last\">right</div></div> <div class=\"yours messages\"><div class =\"message last\">i wasn\\\\\\'t out of shape i wasn\\\\\\'t overweight with when i got pregnant with him i just wasn\\\\\\'t in in shape i don\\\\\\'t know the difference but</div></div><div class=\"dots messages\"><div class=\"message\"> .  .  . </div></div>\\', \\'context_id\\': \\'sw2893_79\\', \\'q_id\\': \\'sw2893_79\\', \\'response_text\\': \\'no i just shoot around by myself\\', \\'response_print\\': \\'<div class=\"response_chat\"><div class=\"mine messages\"><div class=\"message last\">no i just shoot around by myself</div></div></div>\\', \\'response_id\\': \\'sw4099_36\\', \\'target\\': 0, \\'response_score\\': 0.01007091999053955}'"
      ]
     },
     "metadata": {},
     "output_type": "display_data"
    },
    {
     "data": {
      "text/plain": [
       "'Negative: {\\'context_text\\': [\"yeah well actually like i say it ain\\'t as bad this time because i was in shape when i got pregnant\", \\'right\\', \"i wasn\\'t out of shape i wasn\\'t overweight with when i got pregnant with him i just wasn\\'t in in shape i don\\'t know the difference but\"], \\'context_print\\': \\'<div class=\"chat\"><div class=\"dots messages\"><div class=\"message\"> .  .  . </div></div> <div class=\"yours messages\"><div class =\"message last\">yeah well actually like i say it ain\\\\\\'t as bad this time because i was in shape when i got pregnant</div></div><div class=\"mine messages\"><div class =\"message last\">right</div></div> <div class=\"yours messages\"><div class =\"message last\">i wasn\\\\\\'t out of shape i wasn\\\\\\'t overweight with when i got pregnant with him i just wasn\\\\\\'t in in shape i don\\\\\\'t know the difference but</div></div><div class=\"dots messages\"><div class=\"message\"> .  .  . </div></div>\\', \\'context_id\\': \\'sw2893_79\\', \\'q_id\\': \\'sw2893_79\\', \\'response_text\\': \\'uh in uh allendal\\', \\'response_print\\': \\'<div class=\"response_chat\"><div class=\"mine messages\"><div class=\"message last\">uh in uh allendal</div></div></div>\\', \\'response_id\\': \\'sw2826_26\\', \\'target\\': 0, \\'response_score\\': 0.010200981982052326}'"
      ]
     },
     "metadata": {},
     "output_type": "display_data"
    },
    {
     "name": "stderr",
     "output_type": "stream",
     "text": [
      "100%|██████████| 5/5 [00:35<00:00,  7.00s/it]\n"
     ]
    }
   ],
   "source": [
    "check_df = make_bertfp_stimuli_df(5, 5, True,\n",
    "                                 dataset=discrim_dataset, corpus=wts_corpus, model=model, tokenizer=tokenizer, \n",
    "                                 n_negs=100-1, columns=COLS, sample_seed=123, max_grid_size=100\n",
    "                          )"
   ]
  },
  {
   "cell_type": "code",
   "execution_count": 78,
   "id": "c94eaa9a",
   "metadata": {},
   "outputs": [],
   "source": [
    "grid_df.to_csv('/afs/inf.ed.ac.uk/user/s13/s1301730/Desktop/grid_df.csv')"
   ]
  },
  {
   "cell_type": "code",
   "execution_count": 77,
   "id": "2d07489e",
   "metadata": {},
   "outputs": [],
   "source": [
    "check_df.to_csv('/afs/inf.ed.ac.uk/user/s13/s1301730/Desktop/check_df.csv')"
   ]
  },
  {
   "cell_type": "code",
   "execution_count": null,
   "id": "95447973",
   "metadata": {},
   "outputs": [],
   "source": []
  },
  {
   "cell_type": "code",
   "execution_count": 75,
   "id": "081c8c73",
   "metadata": {},
   "outputs": [
    {
     "data": {
      "text/html": [
       "<div>\n",
       "<style scoped>\n",
       "    .dataframe tbody tr th:only-of-type {\n",
       "        vertical-align: middle;\n",
       "    }\n",
       "\n",
       "    .dataframe tbody tr th {\n",
       "        vertical-align: top;\n",
       "    }\n",
       "\n",
       "    .dataframe thead th {\n",
       "        text-align: right;\n",
       "    }\n",
       "</style>\n",
       "<table border=\"1\" class=\"dataframe\">\n",
       "  <thead>\n",
       "    <tr style=\"text-align: right;\">\n",
       "      <th></th>\n",
       "      <th>context_text</th>\n",
       "      <th>context_print</th>\n",
       "      <th>context_id</th>\n",
       "      <th>q_id</th>\n",
       "      <th>response_text</th>\n",
       "      <th>response_print</th>\n",
       "      <th>response_id</th>\n",
       "      <th>target</th>\n",
       "      <th>response_score</th>\n",
       "    </tr>\n",
       "  </thead>\n",
       "  <tbody>\n",
       "    <tr>\n",
       "      <th>0</th>\n",
       "      <td>[yeah, i've been with them sixteen, yeah i can...</td>\n",
       "      <td>&lt;div class=\"chat\"&gt;&lt;div class=\"dots messages\"&gt;&lt;...</td>\n",
       "      <td>sw2645_109</td>\n",
       "      <td>sw2645_109</td>\n",
       "      <td>actually seventeen now and oh yeah momentum is...</td>\n",
       "      <td>&lt;div class=\"response_chat\"&gt;&lt;div class=\"mine me...</td>\n",
       "      <td>sw2645_110</td>\n",
       "      <td>1</td>\n",
       "      <td>0.995104</td>\n",
       "    </tr>\n",
       "    <tr>\n",
       "      <th>1</th>\n",
       "      <td>[yeah, i've been with them sixteen, yeah i can...</td>\n",
       "      <td>&lt;div class=\"chat\"&gt;&lt;div class=\"dots messages\"&gt;&lt;...</td>\n",
       "      <td>sw2645_109</td>\n",
       "      <td>sw2645_109</td>\n",
       "      <td>and last year there were six and this guy is i...</td>\n",
       "      <td>&lt;div class=\"response_chat\"&gt;&lt;div class=\"mine me...</td>\n",
       "      <td>sw3503_21</td>\n",
       "      <td>0</td>\n",
       "      <td>0.011540</td>\n",
       "    </tr>\n",
       "    <tr>\n",
       "      <th>2</th>\n",
       "      <td>[yeah, i've been with them sixteen, yeah i can...</td>\n",
       "      <td>&lt;div class=\"chat\"&gt;&lt;div class=\"dots messages\"&gt;&lt;...</td>\n",
       "      <td>sw2645_109</td>\n",
       "      <td>sw2645_109</td>\n",
       "      <td>but it then became unanimous so</td>\n",
       "      <td>&lt;div class=\"response_chat\"&gt;&lt;div class=\"mine me...</td>\n",
       "      <td>sw4036_23</td>\n",
       "      <td>0</td>\n",
       "      <td>0.011854</td>\n",
       "    </tr>\n",
       "    <tr>\n",
       "      <th>3</th>\n",
       "      <td>[yeah, i've been with them sixteen, yeah i can...</td>\n",
       "      <td>&lt;div class=\"chat\"&gt;&lt;div class=\"dots messages\"&gt;&lt;...</td>\n",
       "      <td>sw2645_109</td>\n",
       "      <td>sw2645_109</td>\n",
       "      <td>or you hear somebody already starting reading ...</td>\n",
       "      <td>&lt;div class=\"response_chat\"&gt;&lt;div class=\"mine me...</td>\n",
       "      <td>sw2015_6</td>\n",
       "      <td>0</td>\n",
       "      <td>0.012087</td>\n",
       "    </tr>\n",
       "    <tr>\n",
       "      <th>4</th>\n",
       "      <td>[yeah, i've been with them sixteen, yeah i can...</td>\n",
       "      <td>&lt;div class=\"chat\"&gt;&lt;div class=\"dots messages\"&gt;&lt;...</td>\n",
       "      <td>sw2645_109</td>\n",
       "      <td>sw2645_109</td>\n",
       "      <td>don't necessarily come true in their voting in...</td>\n",
       "      <td>&lt;div class=\"response_chat\"&gt;&lt;div class=\"mine me...</td>\n",
       "      <td>sw3309_12</td>\n",
       "      <td>0</td>\n",
       "      <td>0.012507</td>\n",
       "    </tr>\n",
       "    <tr>\n",
       "      <th>5</th>\n",
       "      <td>[you know yeah honestly um i don't do as much ...</td>\n",
       "      <td>&lt;div class=\"chat\"&gt;&lt;div class=\"dots messages\"&gt;&lt;...</td>\n",
       "      <td>sw2792_35</td>\n",
       "      <td>sw2792_35</td>\n",
       "      <td>yeah</td>\n",
       "      <td>&lt;div class=\"response_chat\"&gt;&lt;div class=\"mine me...</td>\n",
       "      <td>sw2792_36</td>\n",
       "      <td>1</td>\n",
       "      <td>0.506961</td>\n",
       "    </tr>\n",
       "    <tr>\n",
       "      <th>6</th>\n",
       "      <td>[you know yeah honestly um i don't do as much ...</td>\n",
       "      <td>&lt;div class=\"chat\"&gt;&lt;div class=\"dots messages\"&gt;&lt;...</td>\n",
       "      <td>sw2792_35</td>\n",
       "      <td>sw2792_35</td>\n",
       "      <td>but you know i think they can test all they wa...</td>\n",
       "      <td>&lt;div class=\"response_chat\"&gt;&lt;div class=\"mine me...</td>\n",
       "      <td>sw3174_15</td>\n",
       "      <td>0</td>\n",
       "      <td>0.010325</td>\n",
       "    </tr>\n",
       "    <tr>\n",
       "      <th>7</th>\n",
       "      <td>[you know yeah honestly um i don't do as much ...</td>\n",
       "      <td>&lt;div class=\"chat\"&gt;&lt;div class=\"dots messages\"&gt;&lt;...</td>\n",
       "      <td>sw2792_35</td>\n",
       "      <td>sw2792_35</td>\n",
       "      <td>yeah i haven't i haven't played in about two y...</td>\n",
       "      <td>&lt;div class=\"response_chat\"&gt;&lt;div class=\"mine me...</td>\n",
       "      <td>sw2331_6</td>\n",
       "      <td>0</td>\n",
       "      <td>0.010515</td>\n",
       "    </tr>\n",
       "    <tr>\n",
       "      <th>8</th>\n",
       "      <td>[you know yeah honestly um i don't do as much ...</td>\n",
       "      <td>&lt;div class=\"chat\"&gt;&lt;div class=\"dots messages\"&gt;&lt;...</td>\n",
       "      <td>sw2792_35</td>\n",
       "      <td>sw2792_35</td>\n",
       "      <td>right well you see that with the foreigners th...</td>\n",
       "      <td>&lt;div class=\"response_chat\"&gt;&lt;div class=\"mine me...</td>\n",
       "      <td>sw3062_76</td>\n",
       "      <td>0</td>\n",
       "      <td>0.010551</td>\n",
       "    </tr>\n",
       "    <tr>\n",
       "      <th>9</th>\n",
       "      <td>[you know yeah honestly um i don't do as much ...</td>\n",
       "      <td>&lt;div class=\"chat\"&gt;&lt;div class=\"dots messages\"&gt;&lt;...</td>\n",
       "      <td>sw2792_35</td>\n",
       "      <td>sw2792_35</td>\n",
       "      <td>i camp uh every month uh camp at least one wee...</td>\n",
       "      <td>&lt;div class=\"response_chat\"&gt;&lt;div class=\"mine me...</td>\n",
       "      <td>sw4055_5</td>\n",
       "      <td>0</td>\n",
       "      <td>0.010607</td>\n",
       "    </tr>\n",
       "    <tr>\n",
       "      <th>10</th>\n",
       "      <td>[well have you ever thought about coming to lo...</td>\n",
       "      <td>&lt;div class=\"chat\"&gt;&lt;div class=\"dots messages\"&gt;&lt;...</td>\n",
       "      <td>sw2608_162</td>\n",
       "      <td>sw2608_162</td>\n",
       "      <td>really</td>\n",
       "      <td>&lt;div class=\"response_chat\"&gt;&lt;div class=\"mine me...</td>\n",
       "      <td>sw2608_163</td>\n",
       "      <td>1</td>\n",
       "      <td>0.763333</td>\n",
       "    </tr>\n",
       "    <tr>\n",
       "      <th>11</th>\n",
       "      <td>[well have you ever thought about coming to lo...</td>\n",
       "      <td>&lt;div class=\"chat\"&gt;&lt;div class=\"dots messages\"&gt;&lt;...</td>\n",
       "      <td>sw2608_162</td>\n",
       "      <td>sw2608_162</td>\n",
       "      <td>and that i know is run by the state but there ...</td>\n",
       "      <td>&lt;div class=\"response_chat\"&gt;&lt;div class=\"mine me...</td>\n",
       "      <td>sw2558_56</td>\n",
       "      <td>0</td>\n",
       "      <td>0.010112</td>\n",
       "    </tr>\n",
       "    <tr>\n",
       "      <th>12</th>\n",
       "      <td>[well have you ever thought about coming to lo...</td>\n",
       "      <td>&lt;div class=\"chat\"&gt;&lt;div class=\"dots messages\"&gt;&lt;...</td>\n",
       "      <td>sw2608_162</td>\n",
       "      <td>sw2608_162</td>\n",
       "      <td>excuse me i see it being done i know of a frie...</td>\n",
       "      <td>&lt;div class=\"response_chat\"&gt;&lt;div class=\"mine me...</td>\n",
       "      <td>sw2708_29</td>\n",
       "      <td>0</td>\n",
       "      <td>0.010208</td>\n",
       "    </tr>\n",
       "    <tr>\n",
       "      <th>13</th>\n",
       "      <td>[well have you ever thought about coming to lo...</td>\n",
       "      <td>&lt;div class=\"chat\"&gt;&lt;div class=\"dots messages\"&gt;&lt;...</td>\n",
       "      <td>sw2608_162</td>\n",
       "      <td>sw2608_162</td>\n",
       "      <td>and a lot of his problems had to do with money...</td>\n",
       "      <td>&lt;div class=\"response_chat\"&gt;&lt;div class=\"mine me...</td>\n",
       "      <td>sw3375_29</td>\n",
       "      <td>0</td>\n",
       "      <td>0.010423</td>\n",
       "    </tr>\n",
       "    <tr>\n",
       "      <th>14</th>\n",
       "      <td>[well have you ever thought about coming to lo...</td>\n",
       "      <td>&lt;div class=\"chat\"&gt;&lt;div class=\"dots messages\"&gt;&lt;...</td>\n",
       "      <td>sw2608_162</td>\n",
       "      <td>sw2608_162</td>\n",
       "      <td>have you ever had it to crack or break or leak</td>\n",
       "      <td>&lt;div class=\"response_chat\"&gt;&lt;div class=\"mine me...</td>\n",
       "      <td>sw3586_63</td>\n",
       "      <td>0</td>\n",
       "      <td>0.010425</td>\n",
       "    </tr>\n",
       "    <tr>\n",
       "      <th>15</th>\n",
       "      <td>[mhm, well new orleans and uh minneapolis, mhm...</td>\n",
       "      <td>&lt;div class=\"chat\"&gt;&lt;div class=\"dots messages\"&gt;&lt;...</td>\n",
       "      <td>sw3636_49</td>\n",
       "      <td>sw3636_49</td>\n",
       "      <td>oh yeah</td>\n",
       "      <td>&lt;div class=\"response_chat\"&gt;&lt;div class=\"mine me...</td>\n",
       "      <td>sw3636_50</td>\n",
       "      <td>1</td>\n",
       "      <td>0.620434</td>\n",
       "    </tr>\n",
       "    <tr>\n",
       "      <th>16</th>\n",
       "      <td>[mhm, well new orleans and uh minneapolis, mhm...</td>\n",
       "      <td>&lt;div class=\"chat\"&gt;&lt;div class=\"dots messages\"&gt;&lt;...</td>\n",
       "      <td>sw3636_49</td>\n",
       "      <td>sw3636_49</td>\n",
       "      <td>i understand i understand that they're now cov...</td>\n",
       "      <td>&lt;div class=\"response_chat\"&gt;&lt;div class=\"mine me...</td>\n",
       "      <td>sw2382_55</td>\n",
       "      <td>0</td>\n",
       "      <td>0.011031</td>\n",
       "    </tr>\n",
       "    <tr>\n",
       "      <th>17</th>\n",
       "      <td>[mhm, well new orleans and uh minneapolis, mhm...</td>\n",
       "      <td>&lt;div class=\"chat\"&gt;&lt;div class=\"dots messages\"&gt;&lt;...</td>\n",
       "      <td>sw3636_49</td>\n",
       "      <td>sw3636_49</td>\n",
       "      <td>he's like a semi government type agent who goe...</td>\n",
       "      <td>&lt;div class=\"response_chat\"&gt;&lt;div class=\"mine me...</td>\n",
       "      <td>sw2102_18</td>\n",
       "      <td>0</td>\n",
       "      <td>0.011227</td>\n",
       "    </tr>\n",
       "    <tr>\n",
       "      <th>18</th>\n",
       "      <td>[mhm, well new orleans and uh minneapolis, mhm...</td>\n",
       "      <td>&lt;div class=\"chat\"&gt;&lt;div class=\"dots messages\"&gt;&lt;...</td>\n",
       "      <td>sw3636_49</td>\n",
       "      <td>sw3636_49</td>\n",
       "      <td>well no that's it you could interpret it that way</td>\n",
       "      <td>&lt;div class=\"response_chat\"&gt;&lt;div class=\"mine me...</td>\n",
       "      <td>sw2039_95</td>\n",
       "      <td>0</td>\n",
       "      <td>0.012336</td>\n",
       "    </tr>\n",
       "    <tr>\n",
       "      <th>19</th>\n",
       "      <td>[mhm, well new orleans and uh minneapolis, mhm...</td>\n",
       "      <td>&lt;div class=\"chat\"&gt;&lt;div class=\"dots messages\"&gt;&lt;...</td>\n",
       "      <td>sw3636_49</td>\n",
       "      <td>sw3636_49</td>\n",
       "      <td>i i would settle for the glitz for the glitz i...</td>\n",
       "      <td>&lt;div class=\"response_chat\"&gt;&lt;div class=\"mine me...</td>\n",
       "      <td>sw4796_57</td>\n",
       "      <td>0</td>\n",
       "      <td>0.012467</td>\n",
       "    </tr>\n",
       "    <tr>\n",
       "      <th>20</th>\n",
       "      <td>[yeah well actually like i say it ain't as bad...</td>\n",
       "      <td>&lt;div class=\"chat\"&gt;&lt;div class=\"dots messages\"&gt;&lt;...</td>\n",
       "      <td>sw2893_79</td>\n",
       "      <td>sw2893_79</td>\n",
       "      <td>yeah some people are a little bit fanatical ab...</td>\n",
       "      <td>&lt;div class=\"response_chat\"&gt;&lt;div class=\"mine me...</td>\n",
       "      <td>sw2893_80</td>\n",
       "      <td>1</td>\n",
       "      <td>0.012156</td>\n",
       "    </tr>\n",
       "    <tr>\n",
       "      <th>21</th>\n",
       "      <td>[yeah well actually like i say it ain't as bad...</td>\n",
       "      <td>&lt;div class=\"chat\"&gt;&lt;div class=\"dots messages\"&gt;&lt;...</td>\n",
       "      <td>sw2893_79</td>\n",
       "      <td>sw2893_79</td>\n",
       "      <td>and they're only there to perpetuate their own...</td>\n",
       "      <td>&lt;div class=\"response_chat\"&gt;&lt;div class=\"mine me...</td>\n",
       "      <td>sw2441_150</td>\n",
       "      <td>0</td>\n",
       "      <td>0.009823</td>\n",
       "    </tr>\n",
       "    <tr>\n",
       "      <th>22</th>\n",
       "      <td>[yeah well actually like i say it ain't as bad...</td>\n",
       "      <td>&lt;div class=\"chat\"&gt;&lt;div class=\"dots messages\"&gt;&lt;...</td>\n",
       "      <td>sw2893_79</td>\n",
       "      <td>sw2893_79</td>\n",
       "      <td>so i've heard that's really on the rise as far...</td>\n",
       "      <td>&lt;div class=\"response_chat\"&gt;&lt;div class=\"mine me...</td>\n",
       "      <td>sw4608_34</td>\n",
       "      <td>0</td>\n",
       "      <td>0.009965</td>\n",
       "    </tr>\n",
       "    <tr>\n",
       "      <th>23</th>\n",
       "      <td>[yeah well actually like i say it ain't as bad...</td>\n",
       "      <td>&lt;div class=\"chat\"&gt;&lt;div class=\"dots messages\"&gt;&lt;...</td>\n",
       "      <td>sw2893_79</td>\n",
       "      <td>sw2893_79</td>\n",
       "      <td>no i just shoot around by myself</td>\n",
       "      <td>&lt;div class=\"response_chat\"&gt;&lt;div class=\"mine me...</td>\n",
       "      <td>sw4099_36</td>\n",
       "      <td>0</td>\n",
       "      <td>0.010071</td>\n",
       "    </tr>\n",
       "    <tr>\n",
       "      <th>24</th>\n",
       "      <td>[yeah well actually like i say it ain't as bad...</td>\n",
       "      <td>&lt;div class=\"chat\"&gt;&lt;div class=\"dots messages\"&gt;&lt;...</td>\n",
       "      <td>sw2893_79</td>\n",
       "      <td>sw2893_79</td>\n",
       "      <td>uh in uh allendal</td>\n",
       "      <td>&lt;div class=\"response_chat\"&gt;&lt;div class=\"mine me...</td>\n",
       "      <td>sw2826_26</td>\n",
       "      <td>0</td>\n",
       "      <td>0.010201</td>\n",
       "    </tr>\n",
       "  </tbody>\n",
       "</table>\n",
       "</div>"
      ],
      "text/plain": [
       "                                         context_text  \\\n",
       "0   [yeah, i've been with them sixteen, yeah i can...   \n",
       "1   [yeah, i've been with them sixteen, yeah i can...   \n",
       "2   [yeah, i've been with them sixteen, yeah i can...   \n",
       "3   [yeah, i've been with them sixteen, yeah i can...   \n",
       "4   [yeah, i've been with them sixteen, yeah i can...   \n",
       "5   [you know yeah honestly um i don't do as much ...   \n",
       "6   [you know yeah honestly um i don't do as much ...   \n",
       "7   [you know yeah honestly um i don't do as much ...   \n",
       "8   [you know yeah honestly um i don't do as much ...   \n",
       "9   [you know yeah honestly um i don't do as much ...   \n",
       "10  [well have you ever thought about coming to lo...   \n",
       "11  [well have you ever thought about coming to lo...   \n",
       "12  [well have you ever thought about coming to lo...   \n",
       "13  [well have you ever thought about coming to lo...   \n",
       "14  [well have you ever thought about coming to lo...   \n",
       "15  [mhm, well new orleans and uh minneapolis, mhm...   \n",
       "16  [mhm, well new orleans and uh minneapolis, mhm...   \n",
       "17  [mhm, well new orleans and uh minneapolis, mhm...   \n",
       "18  [mhm, well new orleans and uh minneapolis, mhm...   \n",
       "19  [mhm, well new orleans and uh minneapolis, mhm...   \n",
       "20  [yeah well actually like i say it ain't as bad...   \n",
       "21  [yeah well actually like i say it ain't as bad...   \n",
       "22  [yeah well actually like i say it ain't as bad...   \n",
       "23  [yeah well actually like i say it ain't as bad...   \n",
       "24  [yeah well actually like i say it ain't as bad...   \n",
       "\n",
       "                                        context_print  context_id        q_id  \\\n",
       "0   <div class=\"chat\"><div class=\"dots messages\"><...  sw2645_109  sw2645_109   \n",
       "1   <div class=\"chat\"><div class=\"dots messages\"><...  sw2645_109  sw2645_109   \n",
       "2   <div class=\"chat\"><div class=\"dots messages\"><...  sw2645_109  sw2645_109   \n",
       "3   <div class=\"chat\"><div class=\"dots messages\"><...  sw2645_109  sw2645_109   \n",
       "4   <div class=\"chat\"><div class=\"dots messages\"><...  sw2645_109  sw2645_109   \n",
       "5   <div class=\"chat\"><div class=\"dots messages\"><...   sw2792_35   sw2792_35   \n",
       "6   <div class=\"chat\"><div class=\"dots messages\"><...   sw2792_35   sw2792_35   \n",
       "7   <div class=\"chat\"><div class=\"dots messages\"><...   sw2792_35   sw2792_35   \n",
       "8   <div class=\"chat\"><div class=\"dots messages\"><...   sw2792_35   sw2792_35   \n",
       "9   <div class=\"chat\"><div class=\"dots messages\"><...   sw2792_35   sw2792_35   \n",
       "10  <div class=\"chat\"><div class=\"dots messages\"><...  sw2608_162  sw2608_162   \n",
       "11  <div class=\"chat\"><div class=\"dots messages\"><...  sw2608_162  sw2608_162   \n",
       "12  <div class=\"chat\"><div class=\"dots messages\"><...  sw2608_162  sw2608_162   \n",
       "13  <div class=\"chat\"><div class=\"dots messages\"><...  sw2608_162  sw2608_162   \n",
       "14  <div class=\"chat\"><div class=\"dots messages\"><...  sw2608_162  sw2608_162   \n",
       "15  <div class=\"chat\"><div class=\"dots messages\"><...   sw3636_49   sw3636_49   \n",
       "16  <div class=\"chat\"><div class=\"dots messages\"><...   sw3636_49   sw3636_49   \n",
       "17  <div class=\"chat\"><div class=\"dots messages\"><...   sw3636_49   sw3636_49   \n",
       "18  <div class=\"chat\"><div class=\"dots messages\"><...   sw3636_49   sw3636_49   \n",
       "19  <div class=\"chat\"><div class=\"dots messages\"><...   sw3636_49   sw3636_49   \n",
       "20  <div class=\"chat\"><div class=\"dots messages\"><...   sw2893_79   sw2893_79   \n",
       "21  <div class=\"chat\"><div class=\"dots messages\"><...   sw2893_79   sw2893_79   \n",
       "22  <div class=\"chat\"><div class=\"dots messages\"><...   sw2893_79   sw2893_79   \n",
       "23  <div class=\"chat\"><div class=\"dots messages\"><...   sw2893_79   sw2893_79   \n",
       "24  <div class=\"chat\"><div class=\"dots messages\"><...   sw2893_79   sw2893_79   \n",
       "\n",
       "                                        response_text  \\\n",
       "0   actually seventeen now and oh yeah momentum is...   \n",
       "1   and last year there were six and this guy is i...   \n",
       "2                     but it then became unanimous so   \n",
       "3   or you hear somebody already starting reading ...   \n",
       "4   don't necessarily come true in their voting in...   \n",
       "5                                                yeah   \n",
       "6   but you know i think they can test all they wa...   \n",
       "7   yeah i haven't i haven't played in about two y...   \n",
       "8   right well you see that with the foreigners th...   \n",
       "9   i camp uh every month uh camp at least one wee...   \n",
       "10                                             really   \n",
       "11  and that i know is run by the state but there ...   \n",
       "12  excuse me i see it being done i know of a frie...   \n",
       "13  and a lot of his problems had to do with money...   \n",
       "14     have you ever had it to crack or break or leak   \n",
       "15                                            oh yeah   \n",
       "16  i understand i understand that they're now cov...   \n",
       "17  he's like a semi government type agent who goe...   \n",
       "18  well no that's it you could interpret it that way   \n",
       "19  i i would settle for the glitz for the glitz i...   \n",
       "20  yeah some people are a little bit fanatical ab...   \n",
       "21  and they're only there to perpetuate their own...   \n",
       "22  so i've heard that's really on the rise as far...   \n",
       "23                   no i just shoot around by myself   \n",
       "24                                  uh in uh allendal   \n",
       "\n",
       "                                       response_print response_id target  \\\n",
       "0   <div class=\"response_chat\"><div class=\"mine me...  sw2645_110      1   \n",
       "1   <div class=\"response_chat\"><div class=\"mine me...   sw3503_21      0   \n",
       "2   <div class=\"response_chat\"><div class=\"mine me...   sw4036_23      0   \n",
       "3   <div class=\"response_chat\"><div class=\"mine me...    sw2015_6      0   \n",
       "4   <div class=\"response_chat\"><div class=\"mine me...   sw3309_12      0   \n",
       "5   <div class=\"response_chat\"><div class=\"mine me...   sw2792_36      1   \n",
       "6   <div class=\"response_chat\"><div class=\"mine me...   sw3174_15      0   \n",
       "7   <div class=\"response_chat\"><div class=\"mine me...    sw2331_6      0   \n",
       "8   <div class=\"response_chat\"><div class=\"mine me...   sw3062_76      0   \n",
       "9   <div class=\"response_chat\"><div class=\"mine me...    sw4055_5      0   \n",
       "10  <div class=\"response_chat\"><div class=\"mine me...  sw2608_163      1   \n",
       "11  <div class=\"response_chat\"><div class=\"mine me...   sw2558_56      0   \n",
       "12  <div class=\"response_chat\"><div class=\"mine me...   sw2708_29      0   \n",
       "13  <div class=\"response_chat\"><div class=\"mine me...   sw3375_29      0   \n",
       "14  <div class=\"response_chat\"><div class=\"mine me...   sw3586_63      0   \n",
       "15  <div class=\"response_chat\"><div class=\"mine me...   sw3636_50      1   \n",
       "16  <div class=\"response_chat\"><div class=\"mine me...   sw2382_55      0   \n",
       "17  <div class=\"response_chat\"><div class=\"mine me...   sw2102_18      0   \n",
       "18  <div class=\"response_chat\"><div class=\"mine me...   sw2039_95      0   \n",
       "19  <div class=\"response_chat\"><div class=\"mine me...   sw4796_57      0   \n",
       "20  <div class=\"response_chat\"><div class=\"mine me...   sw2893_80      1   \n",
       "21  <div class=\"response_chat\"><div class=\"mine me...  sw2441_150      0   \n",
       "22  <div class=\"response_chat\"><div class=\"mine me...   sw4608_34      0   \n",
       "23  <div class=\"response_chat\"><div class=\"mine me...   sw4099_36      0   \n",
       "24  <div class=\"response_chat\"><div class=\"mine me...   sw2826_26      0   \n",
       "\n",
       "    response_score  \n",
       "0         0.995104  \n",
       "1         0.011540  \n",
       "2         0.011854  \n",
       "3         0.012087  \n",
       "4         0.012507  \n",
       "5         0.506961  \n",
       "6         0.010325  \n",
       "7         0.010515  \n",
       "8         0.010551  \n",
       "9         0.010607  \n",
       "10        0.763333  \n",
       "11        0.010112  \n",
       "12        0.010208  \n",
       "13        0.010423  \n",
       "14        0.010425  \n",
       "15        0.620434  \n",
       "16        0.011031  \n",
       "17        0.011227  \n",
       "18        0.012336  \n",
       "19        0.012467  \n",
       "20        0.012156  \n",
       "21        0.009823  \n",
       "22        0.009965  \n",
       "23        0.010071  \n",
       "24        0.010201  "
      ]
     },
     "execution_count": 75,
     "metadata": {},
     "output_type": "execute_result"
    }
   ],
   "source": [
    "check_df"
   ]
  },
  {
   "cell_type": "code",
   "execution_count": 76,
   "id": "ca93ed9e",
   "metadata": {},
   "outputs": [
    {
     "data": {
      "text/plain": [
       "['yeah',\n",
       " \"i've been with them sixteen\",\n",
       " 'yeah i can imagine you know the longer and longer it goes']"
      ]
     },
     "metadata": {},
     "output_type": "display_data"
    },
    {
     "name": "stdout",
     "output_type": "stream",
     "text": [
      "sw2645_109\n",
      "sw2645_110\n"
     ]
    },
    {
     "data": {
      "text/plain": [
       "'actually seventeen now and oh yeah momentum is uh driving force in our lives'"
      ]
     },
     "metadata": {},
     "output_type": "display_data"
    },
    {
     "name": "stdout",
     "output_type": "stream",
     "text": [
      "\n",
      "\n"
     ]
    },
    {
     "data": {
      "text/plain": [
       "[\"you know yeah honestly um i don't do as much reading like i say as i would like to we've been working a lot of hours at work and\",\n",
       " 'really',\n",
       " \"yeah and then of course we have a home so it's you know a lot time is spent doing things as far as the yard work or housework or\"]"
      ]
     },
     "metadata": {},
     "output_type": "display_data"
    },
    {
     "name": "stdout",
     "output_type": "stream",
     "text": [
      "sw2792_35\n",
      "sw2792_36\n"
     ]
    },
    {
     "data": {
      "text/plain": [
       "'yeah'"
      ]
     },
     "metadata": {},
     "output_type": "display_data"
    },
    {
     "name": "stdout",
     "output_type": "stream",
     "text": [
      "\n",
      "\n"
     ]
    },
    {
     "data": {
      "text/plain": [
       "['well have you ever thought about coming to louisiana you know to visit',\n",
       " 'i would love to',\n",
       " \"yeah you ought to come down um you don't even have to go all the way to new orleans you know if you want to really get some good food\"]"
      ]
     },
     "metadata": {},
     "output_type": "display_data"
    },
    {
     "name": "stdout",
     "output_type": "stream",
     "text": [
      "sw2608_162\n",
      "sw2608_163\n"
     ]
    },
    {
     "data": {
      "text/plain": [
       "'really'"
      ]
     },
     "metadata": {},
     "output_type": "display_data"
    },
    {
     "name": "stdout",
     "output_type": "stream",
     "text": [
      "\n",
      "\n"
     ]
    },
    {
     "data": {
      "text/plain": [
       "['mhm',\n",
       " 'well new orleans and uh minneapolis',\n",
       " \"mhm well there's lots of pretty country further west\"]"
      ]
     },
     "metadata": {},
     "output_type": "display_data"
    },
    {
     "name": "stdout",
     "output_type": "stream",
     "text": [
      "sw3636_49\n",
      "sw3636_50\n"
     ]
    },
    {
     "data": {
      "text/plain": [
       "'oh yeah'"
      ]
     },
     "metadata": {},
     "output_type": "display_data"
    },
    {
     "name": "stdout",
     "output_type": "stream",
     "text": [
      "\n",
      "\n"
     ]
    },
    {
     "data": {
      "text/plain": [
       "[\"yeah well actually like i say it ain't as bad this time because i was in shape when i got pregnant\",\n",
       " 'right',\n",
       " \"i wasn't out of shape i wasn't overweight with when i got pregnant with him i just wasn't in in shape i don't know the difference but\"]"
      ]
     },
     "metadata": {},
     "output_type": "display_data"
    },
    {
     "name": "stdout",
     "output_type": "stream",
     "text": [
      "sw2893_79\n",
      "sw2893_80\n"
     ]
    },
    {
     "data": {
      "text/plain": [
       "'yeah some people are a little bit fanatical about it'"
      ]
     },
     "metadata": {},
     "output_type": "display_data"
    },
    {
     "name": "stdout",
     "output_type": "stream",
     "text": [
      "\n",
      "\n"
     ]
    }
   ],
   "source": [
    "for r in check_df.iterrows():\n",
    "    row = r[1]\n",
    "    if row.target == 1:\n",
    "        display(row.context_text)\n",
    "        print(row.context_id)\n",
    "        print(row.response_id)\n",
    "        display(row.response_text)\n",
    "        print('\\n')"
   ]
  },
  {
   "cell_type": "code",
   "execution_count": 73,
   "id": "808039ed",
   "metadata": {},
   "outputs": [
    {
     "data": {
      "text/plain": [
       "['yeah',\n",
       " \"i've been with them sixteen\",\n",
       " 'yeah i can imagine you know the longer and longer it goes']"
      ]
     },
     "metadata": {},
     "output_type": "display_data"
    },
    {
     "name": "stdout",
     "output_type": "stream",
     "text": [
      "sw2645_109\n",
      "sw2645_110\n"
     ]
    },
    {
     "data": {
      "text/plain": [
       "'actually seventeen now and oh yeah momentum is uh driving force in our lives'"
      ]
     },
     "metadata": {},
     "output_type": "display_data"
    },
    {
     "name": "stdout",
     "output_type": "stream",
     "text": [
      "\n",
      "\n"
     ]
    },
    {
     "data": {
      "text/plain": [
       "[\"you know yeah honestly um i don't do as much reading like i say as i would like to we've been working a lot of hours at work and\",\n",
       " 'really',\n",
       " \"yeah and then of course we have a home so it's you know a lot time is spent doing things as far as the yard work or housework or\"]"
      ]
     },
     "metadata": {},
     "output_type": "display_data"
    },
    {
     "name": "stdout",
     "output_type": "stream",
     "text": [
      "sw2792_35\n",
      "sw2792_36\n"
     ]
    },
    {
     "data": {
      "text/plain": [
       "'yeah'"
      ]
     },
     "metadata": {},
     "output_type": "display_data"
    },
    {
     "name": "stdout",
     "output_type": "stream",
     "text": [
      "\n",
      "\n"
     ]
    },
    {
     "data": {
      "text/plain": [
       "['well have you ever thought about coming to louisiana you know to visit',\n",
       " 'i would love to',\n",
       " \"yeah you ought to come down um you don't even have to go all the way to new orleans you know if you want to really get some good food\"]"
      ]
     },
     "metadata": {},
     "output_type": "display_data"
    },
    {
     "name": "stdout",
     "output_type": "stream",
     "text": [
      "sw2608_162\n",
      "sw2608_163\n"
     ]
    },
    {
     "data": {
      "text/plain": [
       "'really'"
      ]
     },
     "metadata": {},
     "output_type": "display_data"
    },
    {
     "name": "stdout",
     "output_type": "stream",
     "text": [
      "\n",
      "\n"
     ]
    },
    {
     "data": {
      "text/plain": [
       "['mhm',\n",
       " 'well new orleans and uh minneapolis',\n",
       " \"mhm well there's lots of pretty country further west\"]"
      ]
     },
     "metadata": {},
     "output_type": "display_data"
    },
    {
     "name": "stdout",
     "output_type": "stream",
     "text": [
      "sw3636_49\n",
      "sw3636_50\n"
     ]
    },
    {
     "data": {
      "text/plain": [
       "'oh yeah'"
      ]
     },
     "metadata": {},
     "output_type": "display_data"
    },
    {
     "name": "stdout",
     "output_type": "stream",
     "text": [
      "\n",
      "\n"
     ]
    },
    {
     "data": {
      "text/plain": [
       "[\"yeah well actually like i say it ain't as bad this time because i was in shape when i got pregnant\",\n",
       " 'right',\n",
       " \"i wasn't out of shape i wasn't overweight with when i got pregnant with him i just wasn't in in shape i don't know the difference but\"]"
      ]
     },
     "metadata": {},
     "output_type": "display_data"
    },
    {
     "name": "stdout",
     "output_type": "stream",
     "text": [
      "sw2893_79\n",
      "sw2893_80\n"
     ]
    },
    {
     "data": {
      "text/plain": [
       "'yeah some people are a little bit fanatical about it'"
      ]
     },
     "metadata": {},
     "output_type": "display_data"
    },
    {
     "name": "stdout",
     "output_type": "stream",
     "text": [
      "\n",
      "\n"
     ]
    }
   ],
   "source": [
    "for r in grid_df.iterrows():\n",
    "    row = r[1]\n",
    "    if row.target == 1:\n",
    "        display(row.context_text)\n",
    "        print(row.context_id)\n",
    "        print(row.response_id)\n",
    "        display(row.response_text)\n",
    "        print('\\n')"
   ]
  },
  {
   "cell_type": "code",
   "execution_count": 67,
   "id": "4994e085",
   "metadata": {},
   "outputs": [
    {
     "data": {
      "text/plain": [
       "['yeah',\n",
       " \"i've been with them sixteen\",\n",
       " 'yeah i can imagine you know the longer and longer it goes']"
      ]
     },
     "metadata": {},
     "output_type": "display_data"
    },
    {
     "name": "stdout",
     "output_type": "stream",
     "text": [
      "sw2645_109\n",
      "sw2645_110\n"
     ]
    },
    {
     "data": {
      "text/plain": [
       "'actually seventeen now and oh yeah momentum is uh driving force in our lives'"
      ]
     },
     "metadata": {},
     "output_type": "display_data"
    },
    {
     "name": "stdout",
     "output_type": "stream",
     "text": [
      "\n",
      "\n"
     ]
    },
    {
     "data": {
      "text/plain": [
       "[\"you know yeah honestly um i don't do as much reading like i say as i would like to we've been working a lot of hours at work and\",\n",
       " 'really',\n",
       " \"yeah and then of course we have a home so it's you know a lot time is spent doing things as far as the yard work or housework or\"]"
      ]
     },
     "metadata": {},
     "output_type": "display_data"
    },
    {
     "name": "stdout",
     "output_type": "stream",
     "text": [
      "sw2792_35\n",
      "sw2249_90\n"
     ]
    },
    {
     "data": {
      "text/plain": [
       "\"they don't mash\""
      ]
     },
     "metadata": {},
     "output_type": "display_data"
    },
    {
     "name": "stdout",
     "output_type": "stream",
     "text": [
      "\n",
      "\n"
     ]
    },
    {
     "data": {
      "text/plain": [
       "['well have you ever thought about coming to louisiana you know to visit',\n",
       " 'i would love to',\n",
       " \"yeah you ought to come down um you don't even have to go all the way to new orleans you know if you want to really get some good food\"]"
      ]
     },
     "metadata": {},
     "output_type": "display_data"
    },
    {
     "name": "stdout",
     "output_type": "stream",
     "text": [
      "sw2608_162\n",
      "sw3353_34\n"
     ]
    },
    {
     "data": {
      "text/plain": [
       "'no we just moved down in in june'"
      ]
     },
     "metadata": {},
     "output_type": "display_data"
    },
    {
     "name": "stdout",
     "output_type": "stream",
     "text": [
      "\n",
      "\n"
     ]
    },
    {
     "data": {
      "text/plain": [
       "['mhm',\n",
       " 'well new orleans and uh minneapolis',\n",
       " \"mhm well there's lots of pretty country further west\"]"
      ]
     },
     "metadata": {},
     "output_type": "display_data"
    },
    {
     "name": "stdout",
     "output_type": "stream",
     "text": [
      "sw3636_49\n",
      "sw2220_91\n"
     ]
    },
    {
     "data": {
      "text/plain": [
       "\"oh well they'll weed him out\""
      ]
     },
     "metadata": {},
     "output_type": "display_data"
    },
    {
     "name": "stdout",
     "output_type": "stream",
     "text": [
      "\n",
      "\n"
     ]
    },
    {
     "data": {
      "text/plain": [
       "[\"yeah well actually like i say it ain't as bad this time because i was in shape when i got pregnant\",\n",
       " 'right',\n",
       " \"i wasn't out of shape i wasn't overweight with when i got pregnant with him i just wasn't in in shape i don't know the difference but\"]"
      ]
     },
     "metadata": {},
     "output_type": "display_data"
    },
    {
     "name": "stdout",
     "output_type": "stream",
     "text": [
      "sw2893_79\n",
      "sw2691_3\n"
     ]
    },
    {
     "data": {
      "text/plain": [
       "\"it's no it's called 635's the highway it's the looper that goes around the city and then uh the tollway is called the dallas north tollway\""
      ]
     },
     "metadata": {},
     "output_type": "display_data"
    },
    {
     "name": "stdout",
     "output_type": "stream",
     "text": [
      "\n",
      "\n"
     ]
    }
   ],
   "source": [
    "for r in grid_df.iterrows():\n",
    "    row = r[1]\n",
    "    if row.target == 1:\n",
    "        display(row.context_text)\n",
    "        print(row.context_id)\n",
    "        print(row.response_id)\n",
    "        display(row.response_text)\n",
    "        print('\\n')"
   ]
  },
  {
   "cell_type": "code",
   "execution_count": 57,
   "id": "1d518770",
   "metadata": {},
   "outputs": [
    {
     "data": {
      "text/plain": [
       "['yeah',\n",
       " \"i've been with them sixteen\",\n",
       " 'yeah i can imagine you know the longer and longer it goes']"
      ]
     },
     "execution_count": 57,
     "metadata": {},
     "output_type": "execute_result"
    }
   ],
   "source": [
    "list(check_df.context_text)[0]"
   ]
  },
  {
   "cell_type": "code",
   "execution_count": null,
   "id": "29635f20",
   "metadata": {},
   "outputs": [],
   "source": [
    "list(check_df.response_text)[0]"
   ]
  }
 ],
 "metadata": {
  "kernelspec": {
   "display_name": "Python 3",
   "language": "python",
   "name": "python3"
  },
  "language_info": {
   "codemirror_mode": {
    "name": "ipython",
    "version": 3
   },
   "file_extension": ".py",
   "mimetype": "text/x-python",
   "name": "python",
   "nbconvert_exporter": "python",
   "pygments_lexer": "ipython3",
   "version": "3.6.8"
  }
 },
 "nbformat": 4,
 "nbformat_minor": 5
}
